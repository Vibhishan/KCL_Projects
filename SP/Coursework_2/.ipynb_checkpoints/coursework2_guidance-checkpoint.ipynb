{
 "cells": [
  {
   "cell_type": "markdown",
   "metadata": {
    "collapsed": true,
    "pycharm": {
     "is_executing": false,
     "name": "#%% md\n"
    }
   },
   "source": [
    "<center>7MRI0020 Scientific Programming - 2021/2022\n",
    "\n",
    "coursework #2\n",
    "\n",
    "Data structure and algorithm</center>\n",
    "\n",
    "The aim of this coursework  is to extract the longest path from a regular\n",
    "grid of data point. The grid is defined with identical width and height and\n",
    "contains integer numbers. The example below shows a 5-by-5 grid that contains\n",
    "value between 0 and 5 inclusive."
   ]
  },
  {
   "cell_type": "code",
   "execution_count": 1,
   "metadata": {
    "pycharm": {
     "is_executing": false,
     "name": "#%%\n"
    }
   },
   "outputs": [
    {
     "data": {
      "image/png": "[encoded data removed]",
      "text/plain": [
       "<Figure size 432x288 with 1 Axes>"
      ]
     },
     "metadata": {
      "needs_background": "light"
     },
     "output_type": "display_data"
    }
   ],
   "source": [
    "%matplotlib inline\n",
    "from coursework2 import MyGrid\n",
    "\n",
    "\n",
    "grid = MyGrid(dim=5, seed=123)\n",
    "grid.draw_grid()"
   ]
  },
  {
   "cell_type": "markdown",
   "metadata": {
    "pycharm": {
     "name": "#%% md\n"
    }
   },
   "source": [
    "A path is defined as the following:\n",
    "* the first cell of a path belongs to the top row of the grid,\n",
    "* set of consecutive cells that are neighbors using a 4-connected cell rule\n",
    "(left/right/up/down),\n",
    "* two consecutive cells can only have a differential value of -1, 0 or 1,\n",
    "* one cell can only be present once in a path.\n",
    "\n",
    "The longest path(s) given a grid is(are) the path(s) that fulfill all those\n",
    "above criteria and contains the largest number of cells.\n",
    "\n",
    "The path is expected to be encoded as a list of coupled indices, for example:"
   ]
  },
  {
   "cell_type": "code",
   "execution_count": 2,
   "metadata": {
    "pycharm": {
     "is_executing": false,
     "name": "#%%\n"
    }
   },
   "outputs": [
    {
     "data": {
      "image/png": "[encoded data removed]",
      "text/plain": [
       "<Figure size 432x288 with 1 Axes>"
      ]
     },
     "metadata": {
      "needs_background": "light"
     },
     "output_type": "display_data"
    }
   ],
   "source": [
    "path = [(0,4), (0,3), (0,2), (1,2), (2,2), (3,2), (4,2),\n",
    "        (4,1), (4,0), (3,0), (3,1)]\n",
    "grid.draw_grid(paths=[path])"
   ]
  },
  {
   "cell_type": "markdown",
   "metadata": {
    "pycharm": {
     "name": "#%% md\n"
    }
   },
   "source": [
    "The first task requires that you implement a brute force approach to find the\n",
    "longest path from a grid of size n-by-n where n is an arbitrary number greater\n",
    "than 2. Complete the `get_longest_path_bf` method of the `MyGrid` class in the\n",
    "`coursework2.py` file. Do not hesitate to implement as many as required other\n",
    "methods.\n",
    "[30 marks]\n",
    "\n",
    "Write unit tests to ensure your function(s) are working are expected.\n",
    "[10 marks]\n",
    "\n",
    "Decorate this function to display the elapsed time after its execution.\n",
    "[10 marks]"
   ]
  },
  {
   "cell_type": "markdown",
   "metadata": {
    "pycharm": {
     "name": "#%% md\n"
    }
   },
   "source": [
    "A brute force approach is unlikely to scale with large grid sizes due to the\n",
    "complexity of the problem and the memory requirement. As part of this\n",
    "coursework, we will address this problem using two different approaches.\n",
    "First, using the grid\n",
    "representation, we will implement a non-brute-force approach to solve the \n",
    "problem.\n",
    "Second, we will implement a dedicated data structure to store the grid and that\n",
    "enables to solve our problem directly."
   ]
  },
  {
   "cell_type": "markdown",
   "metadata": {},
   "source": [
    "Complete the `get_longest_path` method of the `MyGrid` class in the\n",
    "`coursework2.py` file using the algorithm of your choice (e.g. functional,\n",
    "recursive, dynamic, ...). The recovered solution(s) should be optimal.\n",
    "[15 marks]\n",
    "\n",
    "Decorate this method and compare its computation time with the brute force\n",
    "approach using increasing grid size.\n",
    "[5 marks]"
   ]
  },
  {
   "cell_type": "markdown",
   "metadata": {
    "pycharm": {
     "name": "#%% md\n"
    }
   },
   "source": [
    "Implement your own data type to store the content of the n-by-n grid. Leverage\n",
    "on the aforementioned path characteristics to have a dedicated data type. Note\n",
    "that the content of the own data type should be initialised fom a `MyGrid`\n",
    "object rather than randomly in order to enable direct comparison.\n",
    "[15 marks]\n",
    "\n",
    "Find below a list of pointers to consider:\n",
    "* A cell has a value, coordinates and neighbors,\n",
    "* Neighbor(s) only need to be considered if they fulfil the path requirements.\n",
    "\n",
    "Write the method that enables you to extract the list of longest path(s) from\n",
    "your data type. [10 marks]\n",
    "\n",
    "Decorate this method and compare its computation with the two previously\n",
    "developed methods using increasing grid size. [5 marks]\n"
   ]
  }
 ],
 "metadata": {
  "kernelspec": {
   "display_name": "Python 3 (ipykernel)",
   "language": "python",
   "name": "python3"
  },
  "language_info": {
   "codemirror_mode": {
    "name": "ipython",
    "version": 3
   },
   "file_extension": ".py",
   "mimetype": "text/x-python",
   "name": "python",
   "nbconvert_exporter": "python",
   "pygments_lexer": "ipython3",
   "version": "3.9.7"
  },
  "pycharm": {
   "stem_cell": {
    "cell_type": "raw",
    "metadata": {
     "collapsed": false
    },
    "source": []
   }
  }
 },
 "nbformat": 4,
 "nbformat_minor": 1
}
