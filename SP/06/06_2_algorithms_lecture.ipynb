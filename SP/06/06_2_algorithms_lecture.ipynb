{
 "cells": [
  {
   "cell_type": "markdown",
   "metadata": {
    "slideshow": {
     "slide_type": "slide"
    }
   },
   "source": [
    "## <center>Scientific Programming - 7MRI0020 - 2021/2022</center>\n",
    "\n",
    "\n",
    "## <center>Week 06 - Data Structures and Algorithms - Part 02</center>\n",
    "\n",
    "\n",
    "### <center>School of Biomedical Engineering & Imaging Sciences</center>\n",
    "### <center>King's College London</center>"
   ]
  },
  {
   "cell_type": "markdown",
   "metadata": {
    "slideshow": {
     "slide_type": "slide"
    }
   },
   "source": [
    "## What we'll cover\n",
    "* What algorithms are: well defined solutions to well defined problems\n",
    "* Types of algorithms: searching, sorting, traversing\n",
    "* Complex types: functional/recursive definitions, divide-and-conquer, linear programming, dynamic programming, etc.\n",
    "* Time complexity and choosing the right algorithm"
   ]
  },
  {
   "cell_type": "markdown",
   "metadata": {
    "slideshow": {
     "slide_type": "slide"
    }
   },
   "source": [
    "## Algorithms\n",
    "* An algorithm is a well-defined solution to a well-defined problem\n",
    "* Well-definedness can take many forms, from informal to mathematically precise\n",
    "* Eg. step-by-step cooking/baking instructions represent an informal algorithm\n",
    "* We're concerned with algorithms as the code to produce a solution to a question defined in terms of inputs and starting conditions"
   ]
  },
  {
   "cell_type": "markdown",
   "metadata": {
    "slideshow": {
     "slide_type": "slide"
    }
   },
   "source": [
    "* One of the simplest is **Linear Search**: given an iterable, find the index of the searched-for item or None if it's not found"
   ]
  },
  {
   "cell_type": "code",
   "execution_count": 1,
   "metadata": {
    "slideshow": {
     "slide_type": "fragment"
    }
   },
   "outputs": [],
   "source": [
    "def lsearch(item,iterable):\n",
    "    \"\"\"Search for `item` in `iterable`.\"\"\"\n",
    "    for i, v in enumerate(iterable):\n",
    "        if v == item:\n",
    "            return i\n",
    "        \n",
    "    return None"
   ]
  },
  {
   "cell_type": "markdown",
   "metadata": {
    "slideshow": {
     "slide_type": "slide"
    }
   },
   "source": [
    "* Naively searches through the whole iterable looking for the item, stopping when it's found:"
   ]
  },
  {
   "cell_type": "code",
   "execution_count": 2,
   "metadata": {
    "slideshow": {
     "slide_type": "fragment"
    }
   },
   "outputs": [
    {
     "name": "stdout",
     "output_type": "stream",
     "text": [
      "750\n"
     ]
    }
   ],
   "source": [
    "nums = list(range(1000))\n",
    "\n",
    "print(lsearch(750,nums))"
   ]
  },
  {
   "cell_type": "markdown",
   "metadata": {
    "slideshow": {
     "slide_type": "fragment"
    }
   },
   "source": [
    "* If the item searched for isn't in the list or is last, every element will have to be visited\n",
    "* Thus has a time-complexity of O(n) in the worst case"
   ]
  },
  {
   "cell_type": "markdown",
   "metadata": {
    "slideshow": {
     "slide_type": "slide"
    }
   },
   "source": [
    "* If we restate the problem as searching for an item in a sorted list, then the sortedness can be used to find the item faster\n",
    "* Binary search looks at the middle element in the list, compares it to the search-for item and then continues searching on the lower half of the list if the item is less, the upper half if more\n",
    "* For each search iteration the search space halves, thus the time-complexity is O(log n)"
   ]
  },
  {
   "cell_type": "markdown",
   "metadata": {
    "slideshow": {
     "slide_type": "slide"
    }
   },
   "source": [
    "* Many varieties of sorting algorithms exist to take some iterable and produce a sorted one \n",
    "* Given input `S` and sorted result `R`, for every index `i` and `j` in `R` such that `i <= j`, we want `R[i] <= R[j]` to be true\n",
    "* How would be go about producing `R`?\n",
    "  * For input `S`, consider the sublist `S[0:n]` sorted for some `n>0`, then move value at position `n+1` into the correct position in that list\n",
    "  * Now `S[0:n+1]` is sorted, repeat process until whole list is sorted\n",
    "  * This is insertion sort:"
   ]
  },
  {
   "cell_type": "code",
   "execution_count": 3,
   "metadata": {
    "slideshow": {
     "slide_type": "slide"
    }
   },
   "outputs": [
    {
     "name": "stdout",
     "output_type": "stream",
     "text": [
      "Unsorted: [29 15 25 22 20 30 11 28 12 23 16 27 26 13 17 24 21 14 19 10 18]\n",
      "Sorted:   [10 11 12 13 14 15 16 17 18 19 20 21 22 23 24 25 26 27 28 29 30]\n"
     ]
    }
   ],
   "source": [
    "def insertionsort(seq):\n",
    "    \"\"\"Sort sequence `seq` inplace.\"\"\"\n",
    "    for n, val in enumerate(seq):\n",
    "        # seq[0:n] is sorted, add seq[n] to sorted part\n",
    "        i = n - 1 # position to insert key into\n",
    "        while i >= 0 and seq[i] > val:\n",
    "            # while the value at i is greater than key, the\n",
    "            # position key belongs in is still farther up \n",
    "            # the list so keep shuffling values down\n",
    "            seq[i + 1] = seq[i] # shuffle values down\n",
    "            i -= 1 # check previous position\n",
    "            \n",
    "        seq[i + 1] = val # insert key at correct position\n",
    "\n",
    "import numpy as np\n",
    "rand=np.arange(10,31)\n",
    "np.random.shuffle(rand)\n",
    "print('Unsorted:',rand)\n",
    "\n",
    "insertionsort(rand)\n",
    "print('Sorted:  ',rand)"
   ]
  },
  {
   "cell_type": "markdown",
   "metadata": {
    "slideshow": {
     "slide_type": "slide"
    }
   },
   "source": [
    "* Insertion sort relies on the idea that a value will \"bubble-up\" to the position it should be in the sorted list\n",
    "* Taking the sublist as sorted then bubbling-up the next value allows us to start from an initial state and incrementally work up to the final sorted list\n",
    "* In designing an algorithm like this, one would define the problem precisely then define a way to incrementally solve it"
   ]
  },
  {
   "cell_type": "markdown",
   "metadata": {
    "slideshow": {
     "slide_type": "slide"
    }
   },
   "source": [
    "## Algorithm Strategies\n",
    "* Divide-and-conquer: divide the data/search space into subparts and apply algorithm to these subproblems\n",
    "* Linear programming: given a linear function `f(x0,...,xn)` dependent on `n` variables with linear constraints stated for them, find the values for the variables to maximize/optimize `f`\n",
    "* Dynamic programming: like divide-and-conquer, solve subproblems into subsubproblems, solve them, and store solutions for future reuse\n",
    "* Greedy: try to find a globally optimal solution by finding locally optimal solutions within a local area of search space "
   ]
  },
  {
   "cell_type": "markdown",
   "metadata": {
    "slideshow": {
     "slide_type": "slide"
    }
   },
   "source": [
    "## Recursion and Functional Programming\n",
    "* Consider an algorithm as defining the relationship between states rather than a sequence of operations\n",
    "* Functional programming involves describing computation as this relationship, stating how a solution relates to the input data\n",
    "* We can then break problems into similar subproblems and define routines which call themselves in the subproblems\n",
    "* Consider linear search:"
   ]
  },
  {
   "cell_type": "code",
   "execution_count": 4,
   "metadata": {
    "slideshow": {
     "slide_type": "slide"
    }
   },
   "outputs": [
    {
     "name": "stdout",
     "output_type": "stream",
     "text": [
      "750\n"
     ]
    }
   ],
   "source": [
    "def lsearch(item, seq, index=0):\n",
    "    if len(seq) == 0:\n",
    "        return None\n",
    "    \n",
    "    head, *tail = seq\n",
    "    if head == item:\n",
    "        return index\n",
    "    \n",
    "    return lsearch(item, tail, index + 1)\n",
    "        \n",
    "nums = list(range(1000))\n",
    "print(lsearch(750,nums))"
   ]
  },
  {
   "cell_type": "markdown",
   "metadata": {
    "slideshow": {
     "slide_type": "slide"
    }
   },
   "source": [
    "* `lsearch` calls itself to continue searching in a sublist\n",
    "* Searching this sublist or the whole is the same operation\n",
    "* Unsearched sublist can be considered the subproblem to apply the same solution to as the whole list so this is something like divide-and-conquer"
   ]
  },
  {
   "cell_type": "markdown",
   "metadata": {
    "slideshow": {
     "slide_type": "slide"
    }
   },
   "source": [
    "* Recursion makes sense for sorting with partitioning algorithms like quicksort:"
   ]
  },
  {
   "cell_type": "code",
   "execution_count": 5,
   "metadata": {
    "slideshow": {
     "slide_type": "fragment"
    }
   },
   "outputs": [
    {
     "name": "stdout",
     "output_type": "stream",
     "text": [
      "Unsorted: [19 11 15 28 14 21 18 30 23 29 22 26 10 25 13 17 24 27 20 12 16]\n",
      "Sorted:   [10 11 12 13 14 15 16 17 18 19 20 21 22 23 24 25 26 27 28 29 30]\n"
     ]
    }
   ],
   "source": [
    "def qsort(seq):\n",
    "    if len(seq)<2:\n",
    "        return seq\n",
    "    \n",
    "    pivot, *tail = seq\n",
    "    lower = qsort([i for i in tail if i <= pivot])\n",
    "    upper = qsort([i for i in tail if i > pivot]) \n",
    "    return lower + [pivot] + upper\n",
    "    \n",
    "rand=np.arange(10,31)\n",
    "np.random.shuffle(rand)\n",
    "print('Unsorted:',rand)\n",
    "rand=qsort(rand)\n",
    "print('Sorted:  ',np.asarray(rand))"
   ]
  },
  {
   "cell_type": "markdown",
   "metadata": {
    "slideshow": {
     "slide_type": "slide"
    }
   },
   "source": [
    "## Time Complexity\n",
    "* How much time (and space) algorithms take is an important consideration as data gets large\n",
    "* Insertion sort is `O(n**2)` in worst case since every item added to the sorted sublist may need to be compared against every other, so `n` sorting operations do `n` compare operations\n",
    "* Faster sorting algorithms exist: quicksort on average is `O(n log n)`, bucket sort is `O(n)` for data assignable to buckets\n",
    "* For small datasets a simple but inefficient algorithm is easier to implement and has negligible time cost"
   ]
  },
  {
   "cell_type": "markdown",
   "metadata": {
    "slideshow": {
     "slide_type": "slide"
    }
   },
   "source": [
    "## Space Complexity\n",
    "* We need to consider how much memory algorithms use as well\n",
    "* `qsort` partitions the list being sorted into 2 sublists, this creates new objects each time, could instead be done inline by shuffling items in the original list\n",
    "* Algorithm design, and programming in general, involves traversing a 2-dimensional universe of time and space and making the trade-offs between the two"
   ]
  },
  {
   "cell_type": "markdown",
   "metadata": {
    "slideshow": {
     "slide_type": "slide"
    }
   },
   "source": [
    "# That's it! Questions?\n",
    "\n",
    "## Next: Exercises\n",
    "\n",
    "## Next week: Advanced Python"
   ]
  }
 ],
 "metadata": {
  "celltoolbar": "Slideshow",
  "kernelspec": {
   "display_name": "Python 3",
   "language": "python",
   "name": "python3"
  },
  "language_info": {
   "codemirror_mode": {
    "name": "ipython",
    "version": 3
   },
   "file_extension": ".py",
   "mimetype": "text/x-python",
   "name": "python",
   "nbconvert_exporter": "python",
   "pygments_lexer": "ipython3",
   "version": "3.8.6"
  }
 },
 "nbformat": 4,
 "nbformat_minor": 2
}
