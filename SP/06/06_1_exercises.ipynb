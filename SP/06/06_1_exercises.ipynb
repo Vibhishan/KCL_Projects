{
 "cells": [
  {
   "cell_type": "markdown",
   "metadata": {},
   "source": [
    "## <center>Scientific Programming - 7MRI0020 - 2021/2022</center>\n",
    "\n",
    "\n",
    "## <center>Week 06 - Data Structures and Algorithms - Part 01 - Exercises</center>\n",
    "\n",
    "\n",
    "### <center>School of Biomedical Engineering & Imaging Sciences</center>\n",
    "### <center>King's College London</center>"
   ]
  },
  {
   "cell_type": "markdown",
   "metadata": {},
   "source": [
    "# Data structures Exercises\n",
    "\n",
    "The purpose of this notebook is to explore the use of data structures."
   ]
  },
  {
   "cell_type": "markdown",
   "metadata": {},
   "source": [
    "We'll start with a list of random integers and a function for finding duplicates in a given iterable:"
   ]
  },
  {
   "cell_type": "code",
   "execution_count": 5,
   "metadata": {},
   "outputs": [],
   "source": [
    "import numpy as np\n",
    "\n",
    "# We first define a list of random integer\n",
    "rands=np.random.randint(0,10000,size=(10000,))\n",
    "\n",
    "def finddups_list(lst):\n",
    "    found=[]\n",
    "    dups=[]\n",
    "    \n",
    "    for i in lst:\n",
    "        if i not in found:\n",
    "            found.append(i)\n",
    "        elif i not in dups:\n",
    "            dups.append(i)\n",
    "    return dups"
   ]
  },
  {
   "cell_type": "markdown",
   "metadata": {},
   "source": [
    "### Exercise 1:\n",
    "\n",
    "Write the equivalent function using set internally instead of list:"
   ]
  },
  {
   "cell_type": "code",
   "execution_count": 10,
   "metadata": {},
   "outputs": [],
   "source": [
    "def finddups_set(lst):\n",
    "    # Your code here\n",
    "    found=set()\n",
    "    dups=set()\n",
    "    \n",
    "    for i in lst:\n",
    "        if i not in found:\n",
    "            found.add(i)\n",
    "        elif i not in dups:\n",
    "            dups.add(i)\n",
    "    return dups"
   ]
  },
  {
   "cell_type": "markdown",
   "metadata": {},
   "source": [
    "### Exercise 2:\n",
    "Write the equivalent function using dictionary internally instead of list or set:"
   ]
  },
  {
   "cell_type": "code",
   "execution_count": 7,
   "metadata": {},
   "outputs": [],
   "source": [
    "def finddups_dict(lst):\n",
    "    # Your code here\n",
    "    found = dict()\n",
    "    dups = dict()\n",
    "    \n",
    "    for i in lst:\n",
    "        if i not in found:\n",
    "            found.update({i:1})\n",
    "        else:\n",
    "            dups.update({i:1})\n",
    "    return dups"
   ]
  },
  {
   "cell_type": "markdown",
   "metadata": {},
   "source": [
    "Below are the average computation time for one call of each function. How do these timing refer to complexity of the implementation?"
   ]
  },
  {
   "cell_type": "code",
   "execution_count": 11,
   "metadata": {},
   "outputs": [
    {
     "name": "stdout",
     "output_type": "stream",
     "text": [
      "576 ms ± 8.55 ms per loop (mean ± std. dev. of 7 runs, 1 loop each)\n",
      "1.83 ms ± 18 µs per loop (mean ± std. dev. of 7 runs, 1000 loops each)\n",
      "2.93 ms ± 44 µs per loop (mean ± std. dev. of 7 runs, 100 loops each)\n"
     ]
    }
   ],
   "source": [
    "%timeit finddups_list(rands)\n",
    "%timeit finddups_set(rands)\n",
    "%timeit finddups_dict(rands)"
   ]
  },
  {
   "cell_type": "markdown",
   "metadata": {},
   "source": [
    "### Binary Trees\n",
    "\n",
    "A binary tree is composed of nodes which contain a value and optional left and right nodes. Both these nodes may not be referenced anywhere else in the tree, so trees by definition are acyclic rooted digraphs. Generally binary tree refers to sorted trees, such that the left node contains values less than or equal to the value of the current node, and the right contains values greater than the value.\n",
    "\n",
    "A single class can suffice for the nodes and the root of a tree data structure:"
   ]
  },
  {
   "cell_type": "code",
   "execution_count": 12,
   "metadata": {},
   "outputs": [
    {
     "name": "stdout",
     "output_type": "stream",
     "text": [
      "Node(Ham, left: Eggs, right: Spam)\n"
     ]
    }
   ],
   "source": [
    "class Node:\n",
    "    def __init__(self, value, left=None, right=None):\n",
    "        self._value = value\n",
    "        self._left = left\n",
    "        self._right = right\n",
    "    \n",
    "    def set_left(self, left):\n",
    "        self._left = left\n",
    "        return self\n",
    "    \n",
    "    def set_right(self, right):\n",
    "        self._right = right\n",
    "        return self\n",
    "\n",
    "    def left(self):\n",
    "        return self._left\n",
    "\n",
    "    def right(self):\n",
    "        return self._right\n",
    "    \n",
    "    def value(self):\n",
    "        return self._value\n",
    "    \n",
    "    def __str__(self):\n",
    "        left = self._left._value if self._left else 'None'\n",
    "        right = self._right._value if self._right else 'None'\n",
    "        # f-strings allow us to write code between {} brackets which is formatted into text\n",
    "        return f\"Node({self._value}, left: {left}, right: {right})\"\n",
    "    \n",
    "    def __repr__(self):\n",
    "        return str(self)\n",
    "    \n",
    "n0 = Node(\"Eggs\")\n",
    "n1 = Node(\"Spam\")\n",
    "root = Node(\"Ham\", n0, n1)\n",
    "\n",
    "print(root)"
   ]
  },
  {
   "cell_type": "markdown",
   "metadata": {},
   "source": [
    "Our tree structure is defined recursively, that is each part of the tree has the same form and definition as any other part. In terms of object oriented types the `Node` class is a recursive definition in that it's internal object structure contains instances of itself.\n",
    "\n",
    "Let's define a simple sorted tree looking like this:\n",
    "\n",
    "```\n",
    "  2\n",
    " / \\\n",
    "1   4\n",
    "   / \\\n",
    "  3   5\n",
    "```"
   ]
  },
  {
   "cell_type": "code",
   "execution_count": 13,
   "metadata": {},
   "outputs": [],
   "source": [
    "root = Node(2, Node(1), Node(4, Node(3), Node(5)))"
   ]
  },
  {
   "cell_type": "markdown",
   "metadata": {},
   "source": [
    "Oftentimes algorithms which make use of recursive types can be defined recursively themselves as functions which call themselves. For example, to apply a function to the values of a tree in order (left first, then value, then right):"
   ]
  },
  {
   "cell_type": "code",
   "execution_count": 14,
   "metadata": {},
   "outputs": [
    {
     "name": "stdout",
     "output_type": "stream",
     "text": [
      "1\n",
      "2\n",
      "3\n",
      "4\n",
      "5\n"
     ]
    }
   ],
   "source": [
    "def apply_in_order(tree, callback):\n",
    "    \"\"\"\n",
    "    Apply the callable `callback` to every node value in `tree` in order.\n",
    "    \"\"\"\n",
    "    if tree is not None:\n",
    "        apply_in_order(tree.left(), callback)\n",
    "        callback(tree.value())\n",
    "        apply_in_order(tree.right(), callback)\n",
    "        \n",
    "        \n",
    "apply_in_order(root,print)"
   ]
  },
  {
   "cell_type": "markdown",
   "metadata": {},
   "source": [
    "### Exercise 3:\n",
    "\n",
    "Define an function `insert` which, given a root of a tree and a new node not in the tree, inserts the new node in the correct sorted position in the tree:"
   ]
  },
  {
   "cell_type": "code",
   "execution_count": 15,
   "metadata": {},
   "outputs": [],
   "source": [
    "def insert(tree, node):\n",
    "    \"\"\"\n",
    "    Insert the new node `node` into the correct position in `tree`.\n",
    "    \"\"\"\n",
    "    # your code here\n",
    "    if tree is not None:\n",
    "        if node.value() < tree.value():\n",
    "            if tree.left() is not None:\n",
    "                insert(tree.left(),node)\n",
    "            else:\n",
    "                tree.set_left(node)\n",
    "        elif node.value() > tree.value():\n",
    "            if tree.right() is not None:\n",
    "                insert(tree.right(),node)\n",
    "            else:\n",
    "                tree.set_right(node)  "
   ]
  },
  {
   "cell_type": "markdown",
   "metadata": {},
   "source": [
    "This will create a list of random values, insert them into a new tree, then collect the results in order by traversing the tree structure:"
   ]
  },
  {
   "cell_type": "code",
   "execution_count": 16,
   "metadata": {},
   "outputs": [
    {
     "name": "stdout",
     "output_type": "stream",
     "text": [
      "1 3 11 12 13 14 15 16 24 27 28 29 32 34 35 38 43 46 47 48 49 51 53 54 56 63 65 66 67 68 70 71 72 74 76 79 82 84 85 86 87 91 93 95 96 97 98 100 101 106 107 108 110 112 113 114 116 117 122 123 126 128 130 131 134 135 136 137 138 140 141 146 149 150 152 153 154 155 159 161 163 164 165 166 167 169 170 172 173 176 178 181 182 183 184 185 187 188 189 190 192 193 196 199 200 201 205 207 208 210 211 212 214 216 217 218 223 224 225 226 229 230 231 235 236 237 238 240 242 246 249 252 253 255 257 259 261 262 265 268 269 270 271 272 273 275 276 277 278 279 281 284 285 287 289 292 297 298 300 302 305 308 309 310 314 315 317 319 320 323 325 326 328 329 330 333 337 341 343 344 345 358 360 361 365 366 367 369 372 373 382 389 394 396 400 402 403 404 405 406 407 411 413 415 417 420 421 422 426 429 431 432 435 436 437 438 442 443 446 449 454 455 456 457 459 462 466 468 469 470 471 474 475 478 479 480 481 482 483 484 485 487 490 491 492 493 494 496 497 498 499 503 504 505 506 507 508 512 513 518 519 521 522 525 527 528 529 532 534 536 537 538 542 543 544 546 551 553 554 559 561 563 564 565 566 569 570 571 573 576 578 580 583 584 586 590 591 592 597 599 602 603 605 606 607 609 611 616 617 618 619 620 621 622 625 626 627 629 630 631 633 634 635 636 639 640 643 645 646 649 650 652 655 657 658 659 661 663 665 666 670 672 673 674 676 677 678 681 682 683 688 690 693 694 696 698 699 702 705 709 710 712 714 715 717 718 720 721 723 724 729 731 733 740 741 743 744 746 747 748 749 752 753 756 757 758 759 760 761 762 764 765 766 769 770 771 772 773 774 778 780 782 783 784 785 786 787 791 794 797 800 801 802 803 804 807 812 813 814 817 818 819 820 823 825 829 830 837 840 843 846 847 848 852 855 857 858 862 867 868 869 872 873 880 882 888 889 890 891 901 902 903 904 907 909 910 911 913 915 916 920 922 924 925 928 929 930 931 933 937 943 944 945 946 947 949 950 951 952 954 955 958 962 963 964 965 966 968 969 972 973 976 980 981 982 988 991 993 998 999 "
     ]
    }
   ],
   "source": [
    "from functools import partial\n",
    "\n",
    "# define a random number list explicitly without duplicates\n",
    "np.random.seed(1234)\n",
    "rands = np.random.permutation(1000)[::2]\n",
    "\n",
    "# define a new tree rooted at the first value in `rands`\n",
    "root = Node(rands[0])\n",
    "\n",
    "# insert all the values into the tree\n",
    "for v in rands[1:]: # first value of `rands` already put into `root` so skip it here\n",
    "    insert(root, Node(v))\n",
    "        \n",
    "# print the values from the tree, using partial to set the end string for `print` to ' ' instead of '\\n'\n",
    "apply_in_order(root, partial(print, end=' '))"
   ]
  },
  {
   "cell_type": "markdown",
   "metadata": {},
   "source": [
    "### Exercise 4:\n",
    "Write a function for extracting the maximum value in a tree. Try a recursive and iterative implementation."
   ]
  },
  {
   "cell_type": "code",
   "execution_count": 17,
   "metadata": {},
   "outputs": [
    {
     "name": "stdout",
     "output_type": "stream",
     "text": [
      "999\n",
      "3.22 µs ± 206 ns per loop (mean ± std. dev. of 7 runs, 100000 loops each)\n",
      "1.65 µs ± 53.2 ns per loop (mean ± std. dev. of 7 runs, 1000000 loops each)\n"
     ]
    }
   ],
   "source": [
    "def tree_max(t, m=0):\n",
    "    # Your code here\n",
    "    if not t:\n",
    "        return m\n",
    "    return tree_max(t.right(),t.value())\n",
    "\n",
    "print(tree_max(root))\n",
    "\n",
    "# Time the function compared to numpy's max\n",
    "%timeit np.max(rands)\n",
    "%timeit tree_max(root)"
   ]
  },
  {
   "cell_type": "code",
   "execution_count": 18,
   "metadata": {},
   "outputs": [
    {
     "name": "stdout",
     "output_type": "stream",
     "text": [
      "999\n",
      "3.22 µs ± 236 ns per loop (mean ± std. dev. of 7 runs, 100000 loops each)\n",
      "1.16 µs ± 6.92 ns per loop (mean ± std. dev. of 7 runs, 1000000 loops each)\n"
     ]
    }
   ],
   "source": [
    "def tree_max_iter(t, m=0):\n",
    "    # Your code here\n",
    "    while t.right():\n",
    "        t = t.right()\n",
    "    return t.value()\n",
    "\n",
    "print(tree_max_iter(root))\n",
    "\n",
    "# Time the function compared to numpy's max\n",
    "%timeit np.max(rands)\n",
    "%timeit tree_max_iter(root)"
   ]
  },
  {
   "cell_type": "markdown",
   "metadata": {},
   "source": [
    "### Exercise 5:\n",
    "Write a function to search for a value in the tree, return True iff it is stored as a value somewhere in the tree:"
   ]
  },
  {
   "cell_type": "code",
   "execution_count": null,
   "metadata": {},
   "outputs": [],
   "source": [
    "def in_tree(tree, val):\n",
    "    # your code here\n",
    "    \n",
    "    \n",
    "for i in range(20):\n",
    "    if in_tree(root, i):\n",
    "        print(i, 'in tree')\n",
    "        assert i in rands, f\"Whoops! {i} isn't in the original array `rands`!\""
   ]
  },
  {
   "cell_type": "markdown",
   "metadata": {},
   "source": [
    "### Exercise 6:\n",
    "Determine the maximal depth of the tree, ie. the greatest sequence length of nodes from the root to a leaf:"
   ]
  },
  {
   "cell_type": "code",
   "execution_count": null,
   "metadata": {},
   "outputs": [],
   "source": [
    "def tree_depth(tree):\n",
    "    # your code here\n",
    "\n",
    "print(tree_depth(root))  # expect 19"
   ]
  },
  {
   "cell_type": "markdown",
   "metadata": {},
   "source": [
    "### Bonus Exercise 7:\n",
    "The definition of `apply_in_order` is recursive but can be implemented iteratively with a loop. "
   ]
  },
  {
   "cell_type": "code",
   "execution_count": null,
   "metadata": {
    "scrolled": true
   },
   "outputs": [],
   "source": [
    "# bring back out simple tree\n",
    "root = Node(2, Node(1), Node(4, Node(3), Node(5)))\n",
    "\n",
    "\n",
    "def apply_in_order_iter(tree, callback):\n",
    "    # your code here\n",
    "    \n",
    "            \n",
    "apply_in_order_iter(root,print)"
   ]
  },
  {
   "cell_type": "markdown",
   "metadata": {},
   "source": [
    "### Bonus Exercise 8:\n",
    "We've seen in-order traversal, there is also breadth-first order where each level (rank) of nodes in a tree is visited before the next, and depth-first where nodes are visited along a path going towards the leaves of the tree first. Implement both with their own functions, either recursively or iteratively:"
   ]
  },
  {
   "cell_type": "code",
   "execution_count": null,
   "metadata": {},
   "outputs": [],
   "source": [
    "def apply_breadth_order(tree, callback):\n",
    "    # your code here\n",
    "\n",
    "\n",
    "apply_breadth_order(root,print)"
   ]
  },
  {
   "cell_type": "code",
   "execution_count": null,
   "metadata": {},
   "outputs": [],
   "source": [
    "def apply_depth_order(tree, callback):\n",
    "    # your code here\n",
    "        \n",
    "        \n",
    "def apply_depth_order_iter(tree, callback):\n",
    "    # your code here\n",
    "\n",
    "\n",
    "apply_depth_order(root,print)\n",
    "print()\n",
    "apply_depth_order_iter(root,print)"
   ]
  }
 ],
 "metadata": {
  "kernelspec": {
   "display_name": "Python 3",
   "language": "python",
   "name": "python3"
  },
  "language_info": {
   "codemirror_mode": {
    "name": "ipython",
    "version": 3
   },
   "file_extension": ".py",
   "mimetype": "text/x-python",
   "name": "python",
   "nbconvert_exporter": "python",
   "pygments_lexer": "ipython3",
   "version": "3.8.8"
  }
 },
 "nbformat": 4,
 "nbformat_minor": 2
}
