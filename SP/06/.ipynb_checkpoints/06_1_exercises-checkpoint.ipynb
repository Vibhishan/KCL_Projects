{
 "cells": [
  {
   "cell_type": "markdown",
   "metadata": {},
   "source": [
    "## <center>Scientific Programming - 7MRI0020 - 2021/2022</center>\n",
    "\n",
    "\n",
    "## <center>Week 06 - Data Structures and Algorithms - Part 01 - Exercises</center>\n",
    "\n",
    "\n",
    "### <center>School of Biomedical Engineering & Imaging Sciences</center>\n",
    "### <center>King's College London</center>"
   ]
  },
  {
   "cell_type": "markdown",
   "metadata": {},
   "source": [
    "# Data structures Exercises\n",
    "\n",
    "The purpose of this notebook is to explore the use of data structures."
   ]
  },
  {
   "cell_type": "markdown",
   "metadata": {},
   "source": [
    "We'll start with a list of random integers and a function for finding duplicates in a given iterable:"
   ]
  },
  {
   "cell_type": "code",
   "execution_count": null,
   "metadata": {},
   "outputs": [],
   "source": [
    "import numpy as np\n",
    "\n",
    "# We first define a list of random integer\n",
    "rands=np.random.randint(0,10000,size=(10000,))\n",
    "\n",
    "def finddups_list(lst):\n",
    "    found=[]\n",
    "    dups=[]\n",
    "    \n",
    "    for i in lst:\n",
    "        if i not in found:\n",
    "            found.append(i)\n",
    "        elif i not in dups:\n",
    "            dups.append(i)\n",
    "    return dups"
   ]
  },
  {
   "cell_type": "markdown",
   "metadata": {},
   "source": [
    "### Exercise 1:\n",
    "\n",
    "Write the equivalent function using set internally instead of list:"
   ]
  },
  {
   "cell_type": "code",
   "execution_count": null,
   "metadata": {},
   "outputs": [],
   "source": [
    "def finddups_set(lst):\n",
    "    # Your code here"
   ]
  },
  {
   "cell_type": "markdown",
   "metadata": {},
   "source": [
    "### Exercise 2:\n",
    "Write the equivalent function using dictionary internally instead of list or set:"
   ]
  },
  {
   "cell_type": "code",
   "execution_count": null,
   "metadata": {},
   "outputs": [],
   "source": [
    "def finddups_dict(lst):\n",
    "    # Your code here"
   ]
  },
  {
   "cell_type": "markdown",
   "metadata": {},
   "source": [
    "Below are the average computation time for one call of each function. How do these timing refer to complexity of the implementation?"
   ]
  },
  {
   "cell_type": "code",
   "execution_count": null,
   "metadata": {},
   "outputs": [],
   "source": [
    "%timeit finddups_list(rands)\n",
    "%timeit finddups_set(rands)\n",
    "%timeit finddups_dict(rands)"
   ]
  },
  {
   "cell_type": "markdown",
   "metadata": {},
   "source": [
    "### Binary Trees\n",
    "\n",
    "A binary tree is composed of nodes which contain a value and optional left and right nodes. Both these nodes may not be referenced anywhere else in the tree, so trees by definition are acyclic rooted digraphs. Generally binary tree refers to sorted trees, such that the left node contains values less than or equal to the value of the current node, and the right contains values greater than the value.\n",
    "\n",
    "A single class can suffice for the nodes and the root of a tree data structure:"
   ]
  },
  {
   "cell_type": "code",
   "execution_count": null,
   "metadata": {},
   "outputs": [],
   "source": [
    "class Node:\n",
    "    def __init__(self, value, left=None, right=None):\n",
    "        self._value = value\n",
    "        self._left = left\n",
    "        self._right = right\n",
    "    \n",
    "    def set_left(self, left):\n",
    "        self._left = left\n",
    "        return self\n",
    "    \n",
    "    def set_right(self, right):\n",
    "        self._right = right\n",
    "        return self\n",
    "\n",
    "    def left(self):\n",
    "        return self._left\n",
    "\n",
    "    def right(self):\n",
    "        return self._right\n",
    "    \n",
    "    def value(self):\n",
    "        return self._value\n",
    "    \n",
    "    def __str__(self):\n",
    "        left = self._left._value if self._left else 'None'\n",
    "        right = self._right._value if self._right else 'None'\n",
    "        # f-strings allow us to write code between {} brackets which is formatted into text\n",
    "        return f\"Node({self._value}, left: {left}, right: {right})\"\n",
    "    \n",
    "    def __repr__(self):\n",
    "        return str(self)\n",
    "    \n",
    "n0 = Node(\"Eggs\")\n",
    "n1 = Node(\"Spam\")\n",
    "root = Node(\"Ham\", n0, n1)\n",
    "\n",
    "print(root)"
   ]
  },
  {
   "cell_type": "markdown",
   "metadata": {},
   "source": [
    "Our tree structure is defined recursively, that is each part of the tree has the same form and definition as any other part. In terms of object oriented types the `Node` class is a recursive definition in that it's internal object structure contains instances of itself.\n",
    "\n",
    "Let's define a simple sorted tree looking like this:\n",
    "\n",
    "```\n",
    "  2\n",
    " / \\\n",
    "1   4\n",
    "   / \\\n",
    "  3   5\n",
    "```"
   ]
  },
  {
   "cell_type": "code",
   "execution_count": null,
   "metadata": {},
   "outputs": [],
   "source": [
    "root = Node(2, Node(1), Node(4, Node(3), Node(5)))"
   ]
  },
  {
   "cell_type": "markdown",
   "metadata": {},
   "source": [
    "Oftentimes algorithms which make use of recursive types can be defined recursively themselves as functions which call themselves. For example, to apply a function to the values of a tree in order (left first, then value, then right):"
   ]
  },
  {
   "cell_type": "code",
   "execution_count": null,
   "metadata": {},
   "outputs": [],
   "source": [
    "def apply_in_order(tree, callback):\n",
    "    \"\"\"\n",
    "    Apply the callable `callback` to every node value in `tree` in order.\n",
    "    \"\"\"\n",
    "    if tree is not None:\n",
    "        apply_in_order(tree.left(), callback)\n",
    "        callback(tree.value())\n",
    "        apply_in_order(tree.right(), callback)\n",
    "        \n",
    "        \n",
    "apply_in_order(root,print)"
   ]
  },
  {
   "cell_type": "markdown",
   "metadata": {},
   "source": [
    "### Exercise 3:\n",
    "\n",
    "Define an function `insert` which, given a root of a tree and a new node not in the tree, inserts the new node in the correct sorted position in the tree:"
   ]
  },
  {
   "cell_type": "code",
   "execution_count": null,
   "metadata": {},
   "outputs": [],
   "source": [
    "def insert(tree, node):\n",
    "    \"\"\"\n",
    "    Insert the new node `node` into the correct position in `tree`.\n",
    "    \"\"\"\n",
    "    # your code here"
   ]
  },
  {
   "cell_type": "markdown",
   "metadata": {},
   "source": [
    "This will create a list of random values, insert them into a new tree, then collect the results in order by traversing the tree structure:"
   ]
  },
  {
   "cell_type": "code",
   "execution_count": null,
   "metadata": {},
   "outputs": [],
   "source": [
    "from functools import partial\n",
    "\n",
    "# define a random number list explicitly without duplicates\n",
    "np.random.seed(1234)\n",
    "rands = np.random.permutation(1000)[::2]\n",
    "\n",
    "# define a new tree rooted at the first value in `rands`\n",
    "root = Node(rands[0])\n",
    "\n",
    "# insert all the values into the tree\n",
    "for v in rands[1:]: # first value of `rands` already put into `root` so skip it here\n",
    "    insert(root, Node(v))\n",
    "        \n",
    "# print the values from the tree, using partial to set the end string for `print` to ' ' instead of '\\n'\n",
    "apply_in_order(root, partial(print, end=' '))"
   ]
  },
  {
   "cell_type": "markdown",
   "metadata": {},
   "source": [
    "### Exercise 4:\n",
    "Write a function for extracting the maximum value in a tree. Try a recursive and iterative implementation."
   ]
  },
  {
   "cell_type": "code",
   "execution_count": null,
   "metadata": {},
   "outputs": [],
   "source": [
    "def tree_max(t, m=0):\n",
    "    # Your code here\n",
    "\n",
    "print(tree_max(root))\n",
    "\n",
    "# Time the function compared to numpy's max\n",
    "%timeit np.max(rands)\n",
    "%timeit tree_max(root)"
   ]
  },
  {
   "cell_type": "code",
   "execution_count": null,
   "metadata": {},
   "outputs": [],
   "source": [
    "def tree_max_iter(t, m=0):\n",
    "    # Your code here\n",
    "\n",
    "print(tree_max_iter(root))\n",
    "\n",
    "# Time the function compared to numpy's max\n",
    "%timeit np.max(rands)\n",
    "%timeit tree_max_iter(root)"
   ]
  },
  {
   "cell_type": "markdown",
   "metadata": {},
   "source": [
    "### Exercise 5:\n",
    "Write a function to search for a value in the tree, return True iff it is stored as a value somewhere in the tree:"
   ]
  },
  {
   "cell_type": "code",
   "execution_count": null,
   "metadata": {},
   "outputs": [],
   "source": [
    "def in_tree(tree, val):\n",
    "    # your code here\n",
    "    \n",
    "    \n",
    "for i in range(20):\n",
    "    if in_tree(root, i):\n",
    "        print(i, 'in tree')\n",
    "        assert i in rands, f\"Whoops! {i} isn't in the original array `rands`!\""
   ]
  },
  {
   "cell_type": "markdown",
   "metadata": {},
   "source": [
    "### Exercise 6:\n",
    "Determine the maximal depth of the tree, ie. the greatest sequence length of nodes from the root to a leaf:"
   ]
  },
  {
   "cell_type": "code",
   "execution_count": null,
   "metadata": {},
   "outputs": [],
   "source": [
    "def tree_depth(tree):\n",
    "    # your code here\n",
    "\n",
    "print(tree_depth(root))  # expect 19"
   ]
  },
  {
   "cell_type": "markdown",
   "metadata": {},
   "source": [
    "### Bonus Exercise 7:\n",
    "The definition of `apply_in_order` is recursive but can be implemented iteratively with a loop. "
   ]
  },
  {
   "cell_type": "code",
   "execution_count": null,
   "metadata": {
    "scrolled": true
   },
   "outputs": [],
   "source": [
    "# bring back out simple tree\n",
    "root = Node(2, Node(1), Node(4, Node(3), Node(5)))\n",
    "\n",
    "\n",
    "def apply_in_order_iter(tree, callback):\n",
    "    # your code here\n",
    "    \n",
    "            \n",
    "apply_in_order_iter(root,print)"
   ]
  },
  {
   "cell_type": "markdown",
   "metadata": {},
   "source": [
    "### Bonus Exercise 8:\n",
    "We've seen in-order traversal, there is also breadth-first order where each level (rank) of nodes in a tree is visited before the next, and depth-first where nodes are visited along a path going towards the leaves of the tree first. Implement both with their own functions, either recursively or iteratively:"
   ]
  },
  {
   "cell_type": "code",
   "execution_count": null,
   "metadata": {},
   "outputs": [],
   "source": [
    "def apply_breadth_order(tree, callback):\n",
    "    # your code here\n",
    "\n",
    "\n",
    "apply_breadth_order(root,print)"
   ]
  },
  {
   "cell_type": "code",
   "execution_count": null,
   "metadata": {},
   "outputs": [],
   "source": [
    "def apply_depth_order(tree, callback):\n",
    "    # your code here\n",
    "        \n",
    "        \n",
    "def apply_depth_order_iter(tree, callback):\n",
    "    # your code here\n",
    "\n",
    "\n",
    "apply_depth_order(root,print)\n",
    "print()\n",
    "apply_depth_order_iter(root,print)"
   ]
  }
 ],
 "metadata": {
  "kernelspec": {
   "display_name": "Python 3",
   "language": "python",
   "name": "python3"
  },
  "language_info": {
   "codemirror_mode": {
    "name": "ipython",
    "version": 3
   },
   "file_extension": ".py",
   "mimetype": "text/x-python",
   "name": "python",
   "nbconvert_exporter": "python",
   "pygments_lexer": "ipython3",
   "version": "3.8.8"
  }
 },
 "nbformat": 4,
 "nbformat_minor": 2
}
