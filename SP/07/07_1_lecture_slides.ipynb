{
 "cells": [
  {
   "cell_type": "markdown",
   "metadata": {
    "slideshow": {
     "slide_type": "slide"
    }
   },
   "source": [
    "## <center>Scientific Programming - 7MRI0020 - 2021/2022</center>\n",
    "\n",
    "\n",
    "## <center>Week 07 - Advanced Python - Part 01</center>\n",
    "\n",
    "\n",
    "### <center>School of Biomedical Engineering & Imaging Sciences</center>\n",
    "### <center>King's College London</center>"
   ]
  },
  {
   "cell_type": "markdown",
   "metadata": {
    "slideshow": {
     "slide_type": "slide"
    }
   },
   "source": [
    "## What we'll cover\n",
    "\n",
    "* Modules and packaging\n",
    "  * `__init__.py`\n",
    "  * Submodules\n",
    "  * `__main__.py`\n",
    "* Decorators\n",
    "  * Simple decorators\n",
    "  * Do partial again\n",
    "  * Decorators with arguments\n",
    "* Duck typing\n",
    "  * Subsitutability without the type constraint\n",
    "  * Implicit interfaces  "
   ]
  },
  {
   "cell_type": "markdown",
   "metadata": {
    "slideshow": {
     "slide_type": "slide"
    }
   },
   "source": [
    "# Modules and Packaging\n",
    "\n",
    "* We've seen how to use the `import` statement, this imports whole Python modules or objects from modules\n",
    "* Everything is an object, modules are instances of `module` \n",
    "* `import foo`: import the module and assign it the variable `foo` in the current namespace\n",
    "* `import foo as bar`: import the module and assign it the variable `bar` in the current namespace\n",
    "* `from foo import baz`: import object `baz` inly from `foo` (which requires loading the whole module first)\n",
    "* `from foo import baz as thunk`: you get the idea"
   ]
  },
  {
   "cell_type": "markdown",
   "metadata": {
    "slideshow": {
     "slide_type": "slide"
    }
   },
   "source": [
    "* A module is either a single Python source file or a directory containing source files and a `__init__.py` file\n",
    "* `__init__.py` is a script executed when the directory is loaded as a module\n",
    "* This can contain setup code and definitions of what to provide for export, or nothing at all\n",
    "* Used to control how the module looks to clients\n",
    "* `__main__.py` contains code when running module as a program"
   ]
  },
  {
   "cell_type": "markdown",
   "metadata": {
    "slideshow": {
     "slide_type": "slide"
    }
   },
   "source": [
    "* Example module contains a source file `sqrt_mod.py` with functions `sqrt` and `sqrt_main`:"
   ]
  },
  {
   "cell_type": "code",
   "execution_count": 1,
   "metadata": {
    "slideshow": {
     "slide_type": "fragment"
    }
   },
   "outputs": [
    {
     "name": "stdout",
     "output_type": "stream",
     "text": [
      "ls: example: No such file or directory\r\n"
     ]
    }
   ],
   "source": [
    "!ls -l example "
   ]
  },
  {
   "cell_type": "code",
   "execution_count": 2,
   "metadata": {
    "slideshow": {
     "slide_type": "slide"
    }
   },
   "outputs": [
    {
     "ename": "FileNotFoundError",
     "evalue": "[Errno 2] No such file or directory: 'example/sqrt_mod.py'",
     "output_type": "error",
     "traceback": [
      "\u001b[0;31m---------------------------------------------------------------------------\u001b[0m",
      "\u001b[0;31mFileNotFoundError\u001b[0m                         Traceback (most recent call last)",
      "\u001b[0;32m<ipython-input-2-f92f42e0db95>\u001b[0m in \u001b[0;36m<module>\u001b[0;34m\u001b[0m\n\u001b[0;32m----> 1\u001b[0;31m \u001b[0mprint\u001b[0m\u001b[0;34m(\u001b[0m\u001b[0mopen\u001b[0m\u001b[0;34m(\u001b[0m\u001b[0;34m'example/sqrt_mod.py'\u001b[0m\u001b[0;34m)\u001b[0m\u001b[0;34m.\u001b[0m\u001b[0mread\u001b[0m\u001b[0;34m(\u001b[0m\u001b[0;34m)\u001b[0m\u001b[0;34m)\u001b[0m\u001b[0;34m\u001b[0m\u001b[0;34m\u001b[0m\u001b[0m\n\u001b[0m",
      "\u001b[0;31mFileNotFoundError\u001b[0m: [Errno 2] No such file or directory: 'example/sqrt_mod.py'"
     ]
    }
   ],
   "source": [
    "print(open('example/sqrt_mod.py').read())"
   ]
  },
  {
   "cell_type": "code",
   "execution_count": null,
   "metadata": {
    "slideshow": {
     "slide_type": "fragment"
    }
   },
   "outputs": [],
   "source": [
    "print(open('example/__init__.py').read())"
   ]
  },
  {
   "cell_type": "code",
   "execution_count": null,
   "metadata": {
    "slideshow": {
     "slide_type": "fragment"
    }
   },
   "outputs": [],
   "source": [
    "print(open('example/__main__.py').read())"
   ]
  },
  {
   "cell_type": "markdown",
   "metadata": {
    "slideshow": {
     "slide_type": "slide"
    }
   },
   "source": [
    "* We can then import `example` and access the objects present in `__init__.py` (ie. those we imported or defined):"
   ]
  },
  {
   "cell_type": "code",
   "execution_count": null,
   "metadata": {
    "slideshow": {
     "slide_type": "fragment"
    }
   },
   "outputs": [],
   "source": [
    "import example\n",
    "print(example.__name__,dir(example))\n",
    "print(example.default_val,example.sqrt)"
   ]
  },
  {
   "cell_type": "markdown",
   "metadata": {
    "slideshow": {
     "slide_type": "slide"
    }
   },
   "source": [
    "* We can then access the member of the module:"
   ]
  },
  {
   "cell_type": "code",
   "execution_count": null,
   "metadata": {
    "slideshow": {
     "slide_type": "fragment"
    }
   },
   "outputs": [],
   "source": [
    "print(example.sqrt(example.default_val))"
   ]
  },
  {
   "cell_type": "code",
   "execution_count": null,
   "metadata": {
    "slideshow": {
     "slide_type": "fragment"
    }
   },
   "outputs": [],
   "source": [
    "try:\n",
    "    example.sqrt_main(['4.0'])\n",
    "except AttributeError:\n",
    "    print(\"Module `example` didn't export this object!\")"
   ]
  },
  {
   "cell_type": "markdown",
   "metadata": {
    "slideshow": {
     "slide_type": "slide"
    }
   },
   "source": [
    "* Only the objects in the scope of `__init__.py` get exported, `sqrt_main` wasn't one of them\n",
    "* It is in the `sqrt_mod.py` file, which can be treated like a submodule:"
   ]
  },
  {
   "cell_type": "code",
   "execution_count": null,
   "metadata": {
    "slideshow": {
     "slide_type": "fragment"
    }
   },
   "outputs": [],
   "source": [
    "example.sqrt_mod.sqrt_main(['9.0'])"
   ]
  },
  {
   "cell_type": "markdown",
   "metadata": {
    "slideshow": {
     "slide_type": "slide"
    }
   },
   "source": [
    "* Running Python with the `-m MOD` flag will run the module `MOD` as a program, invoking its `__main__.py` file:"
   ]
  },
  {
   "cell_type": "code",
   "execution_count": null,
   "metadata": {
    "slideshow": {
     "slide_type": "fragment"
    }
   },
   "outputs": [],
   "source": [
    "%%sh\n",
    "python -m example\n",
    "python -m example -9"
   ]
  },
  {
   "cell_type": "markdown",
   "metadata": {
    "slideshow": {
     "slide_type": "slide"
    }
   },
   "source": [
    "* Modules are trees of submodules, files or directories in a directory are treated like nodes in this tree\n",
    "* Sibling nodes are accessed with `import .foo`\n",
    "* Modules in the parent are accessed with `import ..foo`\n",
    "* Symbols from `__init__.py` can be imported by siblings with `from . import foo`"
   ]
  },
  {
   "cell_type": "markdown",
   "metadata": {
    "slideshow": {
     "slide_type": "slide"
    }
   },
   "source": [
    "* `__init__.py` can contain other symbols defining version, owner, copyright, etc.\n",
    "* `__all__` is a magic list of symbols to import into the module's namespace when `from something import *` is encountered\n",
    "* When importing a module, only those in `__all__` are imported as members of the module, this reduces unneeded loading of submodule members the user doesn't need"
   ]
  },
  {
   "cell_type": "markdown",
   "metadata": {
    "slideshow": {
     "slide_type": "slide"
    }
   },
   "source": [
    "# Decorators\n",
    "* Once again, everything's an object\n",
    "* Defining a type or function is just declaring a new object bound to a variable in scope\n",
    "* The binding of that variable can be changed like any other\n",
    "* Idea of decorators is to modify or replace a definition to modify program behaviour"
   ]
  },
  {
   "cell_type": "markdown",
   "metadata": {
    "slideshow": {
     "slide_type": "slide"
    }
   },
   "source": [
    "* Let's create a timing function wrapper:"
   ]
  },
  {
   "cell_type": "code",
   "execution_count": null,
   "metadata": {
    "slideshow": {
     "slide_type": "fragment"
    }
   },
   "outputs": [],
   "source": [
    "import time\n",
    "def timing(func):\n",
    "    def _wrapper(*args, **kwargs):\n",
    "        print('Start',func.__name__)\n",
    "        start = time.time()\n",
    "        res = func(*args, **kwargs) # bound in outer scope\n",
    "        end = time.time()\n",
    "        print('End',func.__name__, 'dT (s) =', (end - start))\n",
    "        return res\n",
    "    return _wrapper # returning inner definition"
   ]
  },
  {
   "cell_type": "code",
   "execution_count": null,
   "metadata": {
    "slideshow": {
     "slide_type": "slide"
    }
   },
   "outputs": [],
   "source": [
    "def nthroot(b, p):\n",
    "    return b ** (1.0 / p)\n",
    "\n",
    "print(nthroot(4, 2), nthroot(4, 3))\n",
    "\n",
    "nthroot = timing(nthroot) #replace nthroot\n",
    "print(nthroot(4, 2))"
   ]
  },
  {
   "cell_type": "markdown",
   "metadata": {
    "slideshow": {
     "slide_type": "slide"
    }
   },
   "source": [
    "* We can do this with the decorator syntax `@`:"
   ]
  },
  {
   "cell_type": "code",
   "execution_count": null,
   "metadata": {
    "slideshow": {
     "slide_type": "fragment"
    }
   },
   "outputs": [],
   "source": [
    "@timing\n",
    "def nthroot(b,p):\n",
    "    return b ** (1.0/p)\n",
    "\n",
    "print(nthroot(4,3))"
   ]
  },
  {
   "cell_type": "markdown",
   "metadata": {
    "slideshow": {
     "slide_type": "slide"
    }
   },
   "source": [
    "* The syntax\n",
    "```python\n",
    "@deco\n",
    "def func(...): ...\n",
    "```    \n",
    "  is the same as\n",
    "```python\n",
    "def func(...): ...\n",
    "func = deco(func)\n",
    "```"
   ]
  },
  {
   "cell_type": "markdown",
   "metadata": {
    "slideshow": {
     "slide_type": "slide"
    }
   },
   "source": [
    "* This use case shows replacing a function definition with another (a wrapper function)\n",
    "* Others include modifying a definition then returning it, or doing nothing to the function but do something else then return it\n",
    "* Decorators can be applied to classes as well, and decorators can be themselves classes instead of functions\n",
    "* The key concept is to treat definitions as replaceable and maleable objects"
   ]
  },
  {
   "cell_type": "markdown",
   "metadata": {
    "slideshow": {
     "slide_type": "slide"
    }
   },
   "source": [
    "* Example: keep a list of decorated functions:"
   ]
  },
  {
   "cell_type": "code",
   "execution_count": null,
   "metadata": {
    "slideshow": {
     "slide_type": "fragment"
    }
   },
   "outputs": [],
   "source": [
    "funclist=[]\n",
    "\n",
    "def addlist(func):\n",
    "    funclist.append(func)\n",
    "    return func\n",
    "\n",
    "@addlist\n",
    "def nthroot(b,p):\n",
    "    return b ** (1.0/p)\n",
    "\n",
    "print(funclist)"
   ]
  },
  {
   "cell_type": "markdown",
   "metadata": {
    "slideshow": {
     "slide_type": "slide"
    }
   },
   "source": [
    "* Example: `timing` as class:"
   ]
  },
  {
   "cell_type": "code",
   "execution_count": null,
   "metadata": {
    "slideshow": {
     "slide_type": "fragment"
    }
   },
   "outputs": [],
   "source": [
    "class timing:\n",
    "    def __init__(self,func):\n",
    "        self.func=func\n",
    "        \n",
    "    def __call__(self,*args,**kwargs):\n",
    "        print('Start',self.func.__name__)\n",
    "        start = time.time()\n",
    "        res = self.func(*args, **kwargs)\n",
    "        end = time.time()\n",
    "        print('End',self.func.__name__, 'dT (s) =', (end - start))\n",
    "        return res\n",
    "    \n",
    "@timing\n",
    "def nthroot(b,p):\n",
    "    return b ** (1.0/p)\n",
    "\n",
    "print(nthroot,'is now an instance of timing')\n",
    "print(nthroot(4,3))"
   ]
  },
  {
   "cell_type": "markdown",
   "metadata": {
    "slideshow": {
     "slide_type": "slide"
    }
   },
   "source": [
    "* The `@` syntax accepts an expression which evaluates to a decorator callable\n",
    "* `@addlist` is just the name itself, but it can be another call\n",
    "* Often see decorators like `@foo(args)` in which case `foo` is a callable returning a decorator"
   ]
  },
  {
   "cell_type": "markdown",
   "metadata": {
    "slideshow": {
     "slide_type": "slide"
    }
   },
   "source": [
    "* Let's change the name printed with `timing`:"
   ]
  },
  {
   "cell_type": "code",
   "execution_count": null,
   "metadata": {
    "slideshow": {
     "slide_type": "fragment"
    }
   },
   "outputs": [],
   "source": [
    "def namedtiming(name):\n",
    "    def timing(func): # decorator\n",
    "        def _wrapper(*args, **kwargs):\n",
    "            print('Start',name) # bound `name` in outer outer scope\n",
    "            start = time.time()\n",
    "            res = func(*args, **kwargs) # bound `func` in outer scope\n",
    "            end = time.time()\n",
    "            print('End',name, 'dT (s) =', (end - start))\n",
    "            return res\n",
    "        return _wrapper # returning inner definition\n",
    "    \n",
    "    return timing # return actual decorator function"
   ]
  },
  {
   "cell_type": "markdown",
   "metadata": {
    "slideshow": {
     "slide_type": "slide"
    }
   },
   "source": [
    "* `namedtiming` returns the decorator which we can see by calling it normally:"
   ]
  },
  {
   "cell_type": "code",
   "execution_count": null,
   "metadata": {
    "slideshow": {
     "slide_type": "fragment"
    }
   },
   "outputs": [],
   "source": [
    "print(namedtiming('Nth Root Function'))"
   ]
  },
  {
   "cell_type": "code",
   "execution_count": null,
   "metadata": {
    "slideshow": {
     "slide_type": "fragment"
    }
   },
   "outputs": [],
   "source": [
    "@namedtiming('Nth Root Function')\n",
    "def nthroot(b,p):\n",
    "    return b ** (1.0/p)\n",
    "\n",
    "print(nthroot(16,4))"
   ]
  },
  {
   "cell_type": "markdown",
   "metadata": {
    "slideshow": {
     "slide_type": "slide"
    }
   },
   "source": [
    "* Multiple decorators can be applied to a definition\n",
    "* Evaluated in botton up order"
   ]
  },
  {
   "cell_type": "code",
   "execution_count": null,
   "metadata": {
    "slideshow": {
     "slide_type": "fragment"
    }
   },
   "outputs": [],
   "source": [
    "@timing\n",
    "@namedtiming('Foo')  # applied first\n",
    "def print_bar():\n",
    "    print('Bar')\n",
    "    \n",
    "print_bar()"
   ]
  },
  {
   "cell_type": "markdown",
   "metadata": {
    "slideshow": {
     "slide_type": "slide"
    }
   },
   "source": [
    "# Duck Typing\n",
    "\n",
    "* Dynamic typing can be used to define generic code which can interact with objects of unrelated type\n",
    "* If some code requires an object to have a method with a certain set of arguments, any object with a method by that name and arguments will work\n",
    "* The set of members a client uses make up the interface to the providing object, so any other object having that interface can be substituted"
   ]
  },
  {
   "cell_type": "markdown",
   "metadata": {
    "slideshow": {
     "slide_type": "slide"
    }
   },
   "source": [
    "* We've seen this with iterators already:"
   ]
  },
  {
   "cell_type": "code",
   "execution_count": null,
   "metadata": {
    "slideshow": {
     "slide_type": "fragment"
    }
   },
   "outputs": [],
   "source": [
    "def print_iter(it):\n",
    "    print(it,next(it),tuple(it))\n",
    " \n",
    "a=(1,2,3)\n",
    "b=[1,2,3]\n",
    "print_iter(iter(a))\n",
    "print_iter(iter(b))"
   ]
  },
  {
   "cell_type": "markdown",
   "metadata": {
    "slideshow": {
     "slide_type": "slide"
    }
   },
   "source": [
    "* `print_iter` accepts any object which is compatible with `next()`\n",
    "* `tuple_iterator` and `list_iterator` are unrelated types but both provide `__next__()`\n",
    "* Both also behave like iterators, where `next()` returns a value and further calls return subsequent values\n",
    "* Both look like ducks, quack like ducks, so are ducks despite their types"
   ]
  },
  {
   "cell_type": "markdown",
   "metadata": {
    "slideshow": {
     "slide_type": "slide"
    }
   },
   "source": [
    "* The requirement `print_iter` states of its argument is implicit which one only sees at runtime"
   ]
  },
  {
   "cell_type": "code",
   "execution_count": null,
   "metadata": {
    "slideshow": {
     "slide_type": "fragment"
    }
   },
   "outputs": [],
   "source": [
    "print_iter(iter(a)) # OK, passing an iterator\n",
    "try:\n",
    "    print_iter(a) # not OK, next() require an iterator\n",
    "except TypeError as e:\n",
    "    print(e)"
   ]
  },
  {
   "cell_type": "markdown",
   "metadata": {
    "slideshow": {
     "slide_type": "slide"
    }
   },
   "source": [
    "* `print_iter` implicitly requires its argument to have `__next__()` but it also expects that method to behave like other iterators\n",
    "* Not sticking to these semantic requirements has consequences:"
   ]
  },
  {
   "cell_type": "code",
   "execution_count": null,
   "metadata": {
    "slideshow": {
     "slide_type": "fragment"
    }
   },
   "outputs": [],
   "source": [
    "class BadIter:\n",
    "    def __iter__(self):return self\n",
    "    # never raises StopIteration as printIter expects\n",
    "    def __next__(self):return 0\n",
    "\n",
    "# StopIteration is never raised, so BadIter iterates indefinitely\n",
    "# print_iter(BadIter()) # causes infinite loop if run"
   ]
  },
  {
   "cell_type": "markdown",
   "metadata": {
    "slideshow": {
     "slide_type": "slide"
    }
   },
   "source": [
    "* Another example: File IO:"
   ]
  },
  {
   "cell_type": "code",
   "execution_count": null,
   "metadata": {
    "slideshow": {
     "slide_type": "fragment"
    }
   },
   "outputs": [],
   "source": [
    "def write_file(fileobj):\n",
    "    fileobj.write('I am string\\n')\n",
    "    fileobj.write('another string\\n')\n",
    "    assert fileobj.tell()==len('I am string\\n')+len('another string\\n')\n",
    "    fileobj.write('I wrote this many bytes: %i\\n'%fileobj.tell())"
   ]
  },
  {
   "cell_type": "markdown",
   "metadata": {
    "slideshow": {
     "slide_type": "fragment"
    }
   },
   "source": [
    "* `fileobj` is expected to have methods `write` and `tell`\n",
    "* `tell` must return the number of bytes passed to `write`"
   ]
  },
  {
   "cell_type": "code",
   "execution_count": null,
   "metadata": {
    "slideshow": {
     "slide_type": "slide"
    }
   },
   "outputs": [],
   "source": [
    "fileobj=open('out.txt','w',newline='') # open file out.txt for writing\n",
    "write_file(fileobj)\n",
    "fileobj.close()"
   ]
  },
  {
   "cell_type": "code",
   "execution_count": null,
   "metadata": {
    "slideshow": {
     "slide_type": "fragment"
    }
   },
   "outputs": [],
   "source": [
    "print(open('out.txt').read())"
   ]
  },
  {
   "cell_type": "markdown",
   "metadata": {
    "slideshow": {
     "slide_type": "slide"
    }
   },
   "source": [
    "* We can instead use an object which behaves like a file but doesn't write to one:"
   ]
  },
  {
   "cell_type": "code",
   "execution_count": null,
   "metadata": {
    "slideshow": {
     "slide_type": "fragment"
    }
   },
   "outputs": [],
   "source": [
    "from io import StringIO\n",
    "fileobj = StringIO()\n",
    "write_file(fileobj)\n",
    "fileobj.seek(0) # go to beginning\n",
    "print(fileobj.read()) # read everything out of the object"
   ]
  },
  {
   "cell_type": "markdown",
   "metadata": {
    "slideshow": {
     "slide_type": "slide"
    }
   },
   "source": [
    "* With duck typing, **if it looks like a duck, quacks like a duck, it's a duck**\n",
    "* One object is substitutable with another if it has the methods being called which behave as expected\n",
    "* A result of dynamic typing but static languages sometimes have similar concepts"
   ]
  },
  {
   "cell_type": "markdown",
   "metadata": {
    "slideshow": {
     "slide_type": "slide"
    }
   },
   "source": [
    "# That's it!\n",
    "\n",
    "## Next: Exercises\n",
    "\n",
    "## Tomorrow: Context manager - functional programming"
   ]
  }
 ],
 "metadata": {
  "celltoolbar": "Slideshow",
  "kernelspec": {
   "display_name": "Python 3",
   "language": "python",
   "name": "python3"
  },
  "language_info": {
   "codemirror_mode": {
    "name": "ipython",
    "version": 3
   },
   "file_extension": ".py",
   "mimetype": "text/x-python",
   "name": "python",
   "nbconvert_exporter": "python",
   "pygments_lexer": "ipython3",
   "version": "3.8.8"
  }
 },
 "nbformat": 4,
 "nbformat_minor": 2
}
