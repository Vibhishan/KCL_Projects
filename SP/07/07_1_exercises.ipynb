{
 "cells": [
  {
   "cell_type": "markdown",
   "metadata": {},
   "source": [
    "## <center>Scientific Programming - 7MRI0020 - 2021/2022</center>\n",
    "\n",
    "\n",
    "## <center>Week 07 - Advanced Python - Part 01</center>\n",
    "\n",
    "\n",
    "### <center>School of Biomedical Engineering & Imaging Sciences</center>\n",
    "### <center>King's College London</center>"
   ]
  },
  {
   "cell_type": "markdown",
   "metadata": {},
   "source": [
    "# Exercises\n",
    "This purpose of this notebook is to practice and explore concepts with decorators."
   ]
  },
  {
   "cell_type": "markdown",
   "metadata": {},
   "source": [
    "### Exercise 1:\n",
    "Create a function which squares the input of the function it decorates and halves its return value."
   ]
  },
  {
   "cell_type": "code",
   "execution_count": 11,
   "metadata": {
    "slideshow": {
     "slide_type": "slide"
    }
   },
   "outputs": [
    {
     "name": "stdout",
     "output_type": "stream",
     "text": [
      "10.5\n"
     ]
    }
   ],
   "source": [
    "def square_and_half(func):\n",
    "    \"\"\"\n",
    "    Wraps the callable `func`, which can take one argument.\n",
    "    \"\"\"\n",
    "    # your code here\n",
    "    def something(v):\n",
    "        return func(v**2)/2\n",
    "    return something\n",
    "\n",
    "@square_and_half\n",
    "def add5(v):\n",
    "    return v + 5\n",
    "\n",
    "print(add5(4))  # equivalent to (4**2+5)/2 "
   ]
  },
  {
   "cell_type": "code",
   "execution_count": 10,
   "metadata": {},
   "outputs": [
    {
     "name": "stdout",
     "output_type": "stream",
     "text": [
      "10.5\n"
     ]
    }
   ],
   "source": [
    "# for understanding\n",
    "\n",
    "def square_and_half(func):\n",
    "    def something(v):\n",
    "        return func(v**2)/2\n",
    "    return something\n",
    "\n",
    "@square_and_half\n",
    "def add5(v):\n",
    "    return v + 5\n",
    "\n",
    "# add5 = square_and_half(add5)\n",
    "\n",
    "print(add5(4))"
   ]
  },
  {
   "cell_type": "markdown",
   "metadata": {},
   "source": [
    "### Exercise 2:\n",
    "`square_and_half` only accepts the single argument for `func`. Let's improve it by allows any number of arguments to be passed to `func`. Remember the syntax for positional `*` and keyword `**` arguments."
   ]
  },
  {
   "cell_type": "code",
   "execution_count": 16,
   "metadata": {
    "slideshow": {
     "slide_type": "slide"
    }
   },
   "outputs": [
    {
     "name": "stdout",
     "output_type": "stream",
     "text": [
      "9\n",
      "15\n"
     ]
    }
   ],
   "source": [
    "def square_and_half(func):\n",
    "    \"\"\"\n",
    "    Wraps the callable `func`, which can take any number of arguments.\n",
    "    \"\"\"\n",
    "    # your code here\n",
    "    def something(*args,**kwargs):\n",
    "        return func(*args, **kwargs)\n",
    "    return something\n",
    "\n",
    "@square_and_half\n",
    "def myadd(a, b):\n",
    "    return a + b\n",
    "\n",
    "@square_and_half\n",
    "def mysum(*values):\n",
    "    return sum(values)\n",
    "\n",
    "print(myadd(5, 4))\n",
    "print(mysum(1,2,3,4,5))"
   ]
  },
  {
   "cell_type": "markdown",
   "metadata": {},
   "source": [
    "### Exercise 3:\n",
    "One useful application of decorators is as a caching mechanism for some function implementing an algorithm, also called memoization. For given inputs, the decorated function's output is stored, subsequent calls will return this stored result rather than calling the function again. \n",
    "\n",
    "Implement this concept in a simple way. What are the technical concerns that should be kept in mind for this construct?"
   ]
  },
  {
   "cell_type": "code",
   "execution_count": 18,
   "metadata": {},
   "outputs": [
    {
     "name": "stdout",
     "output_type": "stream",
     "text": [
      "686 ns ± 28.4 ns per loop (mean ± std. dev. of 7 runs, 1000000 loops each)\n",
      "174 ns ± 3.23 ns per loop (mean ± std. dev. of 7 runs, 10000000 loops each)\n",
      "True\n"
     ]
    }
   ],
   "source": [
    "cacheDict = dict()\n",
    "def cache(func):\n",
    "    \"\"\"\n",
    "    Caches the output from `func` for given inputs. \n",
    "    \"\"\"\n",
    "    # your code here\n",
    "    def something(*args):\n",
    "        if args in cacheDict:\n",
    "            return cacheDict[args]\n",
    "        else:\n",
    "            cacheDict[args] = func(*args)\n",
    "            return cacheDict[args]\n",
    "    return something\n",
    "        \n",
    "\n",
    "\n",
    "def power(a,b):\n",
    "    return (a**b)+-(b**a)\n",
    "\n",
    "\n",
    "%timeit power(5,7)\n",
    "\n",
    "\n",
    "@cache\n",
    "def power(a,b):\n",
    "    return (a**b)+-(b**a)\n",
    "\n",
    "\n",
    "%timeit power(5,7)\n",
    "\n",
    "print(power(5,3) == ((5**3)+-(3**5)))"
   ]
  },
  {
   "cell_type": "markdown",
   "metadata": {},
   "source": [
    "A more obvious demonstration of the value of caching is with a recursive function. The Fibonacci sequence can be defined as follows:"
   ]
  },
  {
   "cell_type": "code",
   "execution_count": 19,
   "metadata": {},
   "outputs": [],
   "source": [
    "def fib(a):\n",
    "    if a in (0,1):\n",
    "        return a\n",
    "    else:\n",
    "        return fib(a-1)+fib(a-2)"
   ]
  },
  {
   "cell_type": "markdown",
   "metadata": {},
   "source": [
    "This will involve significant duplicate calculation. Consider `fib(4)`, this will call `fib(3)` and `fib(2)`. However `fib(3)` will also call `fib(2)` as well as `fib(1)`. Obviously caching the values for each call will eliminate duplicate computation."
   ]
  },
  {
   "cell_type": "code",
   "execution_count": 20,
   "metadata": {},
   "outputs": [
    {
     "name": "stdout",
     "output_type": "stream",
     "text": [
      "293 ms ± 15.9 ms per loop (mean ± std. dev. of 7 runs, 1 loop each)\n",
      "166 ns ± 5.58 ns per loop (mean ± std. dev. of 7 runs, 10000000 loops each)\n",
      "832040 832040\n"
     ]
    }
   ],
   "source": [
    "# painfully slow\n",
    "%timeit fib(30)\n",
    "\n",
    "@cache\n",
    "def fib_cached(a):\n",
    "    if a in (0,1):\n",
    "        return a\n",
    "    else:\n",
    "        return fib_cached(a-1) + fib_cached(a-2)\n",
    "\n",
    "# much better\n",
    "%timeit fib_cached(30)\n",
    "    \n",
    "print(fib(30),fib_cached(30))"
   ]
  },
  {
   "cell_type": "markdown",
   "metadata": {},
   "source": [
    "### Exercise 4:\n",
    "**Hard Version**: implement a cache which can be initialized with a set of pre-computed cache values. This would look something like this:"
   ]
  },
  {
   "cell_type": "code",
   "execution_count": 23,
   "metadata": {},
   "outputs": [
    {
     "name": "stdout",
     "output_type": "stream",
     "text": [
      "157 ns ± 0.852 ns per loop (mean ± std. dev. of 7 runs, 10000000 loops each)\n",
      "832040\n"
     ]
    }
   ],
   "source": [
    "precache={\n",
    "    0:0,\n",
    "    1:1,\n",
    "    2:1,\n",
    "    3:2,\n",
    "    4:3,\n",
    "    5:5,\n",
    "    6:8\n",
    "}\n",
    "\n",
    "def cache_init(precache):\n",
    "    def someFunc(func):\n",
    "        def something(*args):\n",
    "            if args in precache:\n",
    "                return precache[args]\n",
    "            else:\n",
    "                precache[args] = func(*args)\n",
    "                return precache[args]\n",
    "        return something\n",
    "    return someFunc\n",
    "        \n",
    "    \n",
    "@cache_init(precache)\n",
    "def fib_cached(a):\n",
    "    if a in (0,1):\n",
    "        return a\n",
    "    else:\n",
    "        return fib_cached(a-1) + fib_cached(a-2)\n",
    "    \n",
    "%timeit fib_cached(30)\n",
    "print(fib_cached(30))"
   ]
  },
  {
   "cell_type": "markdown",
   "metadata": {},
   "source": [
    "Note that the expression `cache(precache)` is evaluated to the actual decorator applied to the decorated function. If this is implemented as a function it will have to return the decorator itself, as a class it gets even more interesting."
   ]
  }
 ],
 "metadata": {
  "kernelspec": {
   "display_name": "Python 3",
   "language": "python",
   "name": "python3"
  },
  "language_info": {
   "codemirror_mode": {
    "name": "ipython",
    "version": 3
   },
   "file_extension": ".py",
   "mimetype": "text/x-python",
   "name": "python",
   "nbconvert_exporter": "python",
   "pygments_lexer": "ipython3",
   "version": "3.8.8"
  }
 },
 "nbformat": 4,
 "nbformat_minor": 2
}
