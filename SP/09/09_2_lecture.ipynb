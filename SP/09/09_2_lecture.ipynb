{
 "cells": [
  {
   "cell_type": "markdown",
   "metadata": {
    "slideshow": {
     "slide_type": "slide"
    }
   },
   "source": [
    "## <center>Scientific Programming - 7MRI0020 - 2021/2022</center>\n",
    "\n",
    "\n",
    "# <center>Software Design - Part 02</center>\n",
    "\n",
    "\n",
    "### <center>School of Biomedical Engineering & Imaging Sciences</center>\n",
    "### <center>King's College London</center>"
   ]
  },
  {
   "cell_type": "markdown",
   "metadata": {
    "slideshow": {
     "slide_type": "slide"
    }
   },
   "source": [
    "## What we'll cover\n",
    "\n",
    "* Software Architecture\n",
    "  * High level architectures, common patterns\n",
    "  * Modularity, decoupling, other principles"
   ]
  },
  {
   "cell_type": "markdown",
   "metadata": {
    "slideshow": {
     "slide_type": "slide"
    }
   },
   "source": [
    "# Software Architecture\n",
    "\n",
    "* Many ways of structuring a software system\n",
    "* Choices about what modules to have, what components interface with what others\n",
    "* Designing for certain properties like extensibility\n",
    "* A large part a creative process to determine what makes sense in light of requirements\n",
    "* Design patterns represent mid-level architectural notions"
   ]
  },
  {
   "cell_type": "markdown",
   "metadata": {
    "slideshow": {
     "slide_type": "slide"
    }
   },
   "source": [
    "* When designing the architecture, need to consider:\n",
    "  * User requirements, what the system should do for stakeholders\n",
    "  * Functional requirements, what platform/software/environment must the system work in\n",
    "  * Quality concerns such as extensibility, portability, maintainability, etc.\n",
    "  * Module structure and well-definedness of their function and interface\n",
    "  * Defining the responsibilities of system components, how they are separate, how they communicate"
   ]
  },
  {
   "cell_type": "markdown",
   "metadata": {
    "slideshow": {
     "slide_type": "slide"
    }
   },
   "source": [
    "* Architectures are important to produce a communicable abstract definition of the system which encompasses design decisions and objectives\n",
    "* We can consider a number of common patterns\n",
    "* Real-world architectures are generally more complex than these"
   ]
  },
  {
   "cell_type": "markdown",
   "metadata": {
    "slideshow": {
     "slide_type": "slide"
    }
   },
   "source": [
    "## Pipeline\n",
    "* Series of operations/filters chained together\n",
    "* Data enters one end, passes through a filter, output passes to next in chain\n",
    "* Simple transformation architecture used for compilers, interpreters (eg. Python!), data processors, neural networks, etc.\n",
    "\n",
    "<img src=\"https://upload.wikimedia.org/wikipedia/commons/thumb/c/cc/Compiler_design.svg/1024px-Compiler_design.svg.png\"/>"
   ]
  },
  {
   "cell_type": "markdown",
   "metadata": {
    "slideshow": {
     "slide_type": "slide"
    }
   },
   "source": [
    "\n",
    "\n",
    "## Layer \n",
    "* System is organized into a series of layers where interaction flows from higher layers to lower\n",
    "* Simple to design systems that don't need much modularity or flexibility\n",
    "<img style=\"float:right\" src=\"https://upload.wikimedia.org/wikipedia/commons/thumb/a/a7/CPT-System-Architecture-Layers.svg/233px-CPT-System-Architecture-Layers.svg.png\"/>\n",
    "* Eg. a system with a user interface layer, communicates with a logic layer, which interacts with a database layer\n",
    "\n",
    "* Eg. Operating systems at least appear structured this way\n",
    "\n"
   ]
  },
  {
   "cell_type": "markdown",
   "metadata": {
    "slideshow": {
     "slide_type": "slide"
    }
   },
   "source": [
    "## Main-Secondary\n",
    "\n",
    "\n",
    "\n",
    "* Single master layer/component controls multiple lower level secondary components\n",
    "* Master acts as broker between external actors and secondary components\n",
    "* Low lever components may all do the same function in different contexts or implement differing behaviour\n",
    "* Eg. load balancing systems, replicating databases, CPU assignment for multi-core systems\n",
    "\n",
    "<centering><img style=\"width:300px;float:center\" src=\"https://upload.wikimedia.org/wikipedia/commons/6/6c/Balanceador.png\"></centering>\n"
   ]
  },
  {
   "cell_type": "markdown",
   "metadata": {
    "slideshow": {
     "slide_type": "slide"
    }
   },
   "source": [
    "<img style=\"float: right\" src=\"https://upload.wikimedia.org/wikipedia/commons/thumb/a/a0/MVC-Process.svg/436px-MVC-Process.svg.png\"/>\n",
    "\n",
    "## Model-View-Controller\n",
    "\n",
    "* Objective is to separate out the model for your data (database, data structures, etc.) from the view of that data (user interface, access point, etc.) and from the controller code which manipulates the data and view\n",
    "\n"
   ]
  },
  {
   "cell_type": "markdown",
   "metadata": {
    "slideshow": {
     "slide_type": "slide"
    }
   },
   "source": [
    "* Very common pattern with graphical interface applications\n",
    "* View is represented by the windowing library (eg. PyQt)\n",
    "* Code to perform operations is not embedded in the code implementing widgets (buttons, frames)\n",
    "* Kept separate and linked to window events through callback\n",
    "* Data represented separately in databases or other structures"
   ]
  },
  {
   "cell_type": "markdown",
   "metadata": {
    "slideshow": {
     "slide_type": "slide"
    }
   },
   "source": [
    "<img style=\"float:right\" src=\"https://upload.wikimedia.org/wikipedia/commons/thumb/c/c9/Client-server-model.svg/320px-Client-server-model.svg.png\"/>\n",
    "\n",
    "## Client-Server\n",
    "* Ubiquitous pattern we'll all familiar with through web browsing\n",
    "* Server provides data and/or computational resources\n",
    "* Client communicates with server over some channel, eg. networking ports over the internet\n",
    "* Many clients communicate with one server, many-to-one communication topology\n",
    "* Eg. web browser viewing HTML data sent by web server"
   ]
  },
  {
   "cell_type": "markdown",
   "metadata": {
    "slideshow": {
     "slide_type": "slide"
    }
   },
   "source": [
    "<img style=\"float:right\" src=\"https://upload.wikimedia.org/wikipedia/commons/thumb/3/3f/P2P-network.svg/464px-P2P-network.svg.png\"/>\n",
    "\n",
    "## Peer-to-peer\n",
    "* Define the relationship between actors as many-to-many\n",
    "* Every actor (computer, program, etc.) is both client and server\n",
    "* Data can flow in any direction between them, computation and be spread out amongst actors\n",
    "* Eg. content delivery networks for internet load balancing, Tor, Bitcoin"
   ]
  },
  {
   "cell_type": "markdown",
   "metadata": {
    "slideshow": {
     "slide_type": "slide"
    }
   },
   "source": [
    "* So much of the choices to be made about the architecture come down to what requirements to meet\n",
    "* What architectural tactics solve the problem?\n",
    "  * High availability? Need a system that can detect fault and recover, eg. with client-server clients need to detect and handle server inaccessibility, servers have to have redundancy and state synchronization\n",
    "  * Modifiability? Modules have to have high conherency, interface between them has to be generalized to allow changes to be made without breaking relationships, minimize impact on other modules when one is changed"
   ]
  },
  {
   "cell_type": "markdown",
   "metadata": {
    "slideshow": {
     "slide_type": "slide"
    }
   },
   "source": [
    "  * Security? Enforce authentication of users, limit access, keep data encrypted as much as possible, identify critical areas where sensitive data is used, minimize the number of such areas\n",
    "  * Testability? Design for testing\n",
    "  * Usability? Ideas like MVC help with maintaining a separation of concerns so that the view can be refined\n",
    "  * Accessibility? Whether to use a remote client/remote database concept or keep everything local on one machine\n",
    "  * Efficiency? Choices about language, space-time tradeoff, remote vs. local storage, etc."
   ]
  },
  {
   "cell_type": "markdown",
   "metadata": {
    "slideshow": {
     "slide_type": "slide"
    }
   },
   "source": [
    "* Architecture is a description of the components of a system, what they do, and how they relate\n",
    "* Concepts of coupling, coherency, modularity, etc. help separate and define these components to better understand and implement them\n",
    "* It has to be a vague concept to cover all possibilities, comes down to choosing the components and interactions which address the requirements at hand"
   ]
  },
  {
   "cell_type": "markdown",
   "metadata": {
    "slideshow": {
     "slide_type": "slide"
    }
   },
   "source": [
    "* Modules or other components are the related large scale units of code providing functionality\n",
    "* Coupling describes the interconnectedness between modules, minimizing this reduces the number of pathways for control/data flow and so scope for error\n",
    "* Cohesion describes how interrelated the elements of modules are, high cohesion ensures the modules make sense internally\n",
    "* System with minimal coupling and strong cohesive units are generally more robust and modular\n",
    "* Consider functional requirements, entities in the system, data flow, and other factors when choosing modules"
   ]
  },
  {
   "cell_type": "markdown",
   "metadata": {
    "slideshow": {
     "slide_type": "slide"
    }
   },
   "source": [
    "## Example: DicomBrowser\n",
    "* Eric's program for browsing medical imaging files\n",
    "* Dicom files are essentially large dictionaries of hierarchical key value pairs, including patient name, age, height, etc., scanning details, manufacturer's values, and the image itself\n",
    "* Produced by scanners like MR or CT machines, one per 2D image\n",
    "* https://github.com/ericspod/DicomBrowser"
   ]
  },
  {
   "cell_type": "markdown",
   "metadata": {
    "slideshow": {
     "slide_type": "slide"
    }
   },
   "source": [
    "<img src=\"https://github.com/ericspod/DicomBrowser/raw/master/res/modules.png\">"
   ]
  },
  {
   "cell_type": "markdown",
   "metadata": {
    "slideshow": {
     "slide_type": "slide"
    }
   },
   "source": [
    "* `DicomBrowser` module contains most of GUI code, represents controller plus view parts of MVC\n",
    "* `models` contains adapter types to represent Dicom data as PyQt models, part of the view component\n",
    "* `dicom` contains routines and data structures for loading Dicom data into an understandable format, represent model part\n",
    "* External libraries provide GUI (PyQt), Dicom loading (pydicom), and rendering facilities (pyqtgraph)\n",
    "* Some less relevant details omitted"
   ]
  },
  {
   "cell_type": "markdown",
   "metadata": {
    "slideshow": {
     "slide_type": "slide"
    }
   },
   "source": [
    "# That's it!\n",
    "\n",
    "## Next: Exercises\n",
    "\n",
    "## Next week: Native languages and concurrency"
   ]
  }
 ],
 "metadata": {
  "celltoolbar": "Slideshow",
  "kernelspec": {
   "display_name": "Python 3",
   "language": "python",
   "name": "python3"
  },
  "language_info": {
   "codemirror_mode": {
    "name": "ipython",
    "version": 3
   },
   "file_extension": ".py",
   "mimetype": "text/x-python",
   "name": "python",
   "nbconvert_exporter": "python",
   "pygments_lexer": "ipython3",
   "version": "3.8.6"
  }
 },
 "nbformat": 4,
 "nbformat_minor": 2
}
