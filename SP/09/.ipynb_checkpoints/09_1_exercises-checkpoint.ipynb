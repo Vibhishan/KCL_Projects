{
 "cells": [
  {
   "cell_type": "markdown",
   "metadata": {},
   "source": [
    "## <center>Scientific Programming - 7MRI0020 - 2021/2022</center>\n",
    "\n",
    "\n",
    "# <center>Software Development - Part 01</center>\n",
    "\n",
    "\n",
    "### <center>School of Biomedical Engineering & Imaging Sciences</center>\n",
    "### <center>King's College London</center>"
   ]
  },
  {
   "cell_type": "markdown",
   "metadata": {},
   "source": [
    "### 01 Group Exercise\n",
    "\n",
    "We are going to break into groups and analyze case studies to discuss use cases and process models. "
   ]
  },
  {
   "cell_type": "markdown",
   "metadata": {},
   "source": [
    "### Case Study A\n",
    "\n",
    "A cutting edge research company is marketing a product for tracking scientific trials. These trials involve multiple subjects (human or otherwise) with multiple experiments. This needs to be stored in a large database with an interface accessible by researchers to input data and to query information. Applying analysis algorithms to this data is one anticipated usage. The development team is relatively small but composed of experienced developers. The company is working with a research group so there will be scientists on hand to collaborate with. There is a working version but new enhancements need to be made and delivering soon and frequently thereafter is a priority to get to market."
   ]
  },
  {
   "cell_type": "markdown",
   "metadata": {},
   "source": [
    "**Question 1:** What process model would make sense for this project?"
   ]
  },
  {
   "cell_type": "markdown",
   "metadata": {},
   "source": [
    "----\n",
    "### Use Cases\n",
    "\n",
    "A use case represents an instance of an interaction between some actor (ie. a user) and the system. It describes the operations and processes involved in the interaction to achieve some successful outcome. Use cases are developed by:\n",
    "\n",
    "1. Identifying the actors and their goals\n",
    "2. Specifying main success scenarios, ie. what they want to accomplish\n",
    "3. Identifying what steps actors must take to reach that goal\n",
    "4. Examining failure conditions, ie. considering when these operations could fail\n",
    "5. Specifying what should be done in fail conditions\n",
    "\n",
    "For example, a single use case of a scientist logging into the system might be described as such:\n",
    "\n",
    "\n",
    "<div style=\"background:#dddddd\">\n",
    "    \n",
    "**UC1: Log In**\n",
    "\n",
    "*Primary Actor*: User\n",
    " \n",
    "*Precondition*: User has account\n",
    "\n",
    "*Main success scenario*:\n",
    "  1. User opens interface\n",
    "  2. User enter username and password into input boxes\n",
    "  3. User clicks \"Login\"\n",
    " \n",
    "*Extension scenarios*:\n",
    "  1. Username not found: user account doesn't exist, inform user\n",
    "  2. Password incorrect: inform user account cannot be accessed, log activity\n",
    " \n",
    "</div>"
   ]
  },
  {
   "cell_type": "markdown",
   "metadata": {},
   "source": [
    "**Question 2:** Consider a use case where a user might want to input data for a subject in a study. Assume the fields that must be entered (ID, physical properties, results) are known for this study and focus on the user's interaction with the system instead."
   ]
  },
  {
   "cell_type": "markdown",
   "metadata": {},
   "source": [
    "**Question 3:** Consider another case where a user wants to search for every subject in a given experiment matching some criteria (age range, gender, species, etc.). The expected outcome is to get a table of subjects which the user has permission to access, but may get nothing if no accessible subject matches the criteria."
   ]
  },
  {
   "cell_type": "markdown",
   "metadata": {},
   "source": [
    "----\n",
    "### Case Study B\n",
    "\n",
    "A cutting edge research company markets a product for using medical images to improve the effectiveness of radiotherapy treatment. The system is used by expert technicians during radiotherapy sessions. The company has a team of researchers who are constantly developing new algorithms that may need to be incorporated into the product. This is a competitive market in which fast delivery of new functionality will give the company the edge. The company also have a team of in-house developers who are tasked with integrating the new algorithms into the product. The development team are highly skilled and all based at the company’s head office with the researchers. Engagement with the researchers and clinicians is high as the software must integrate with clinical workflows and refining how it works to do this requires a lot of interaction with these groups. The software engineering project is the integration of the new algorithms into the radiotherapy product. "
   ]
  },
  {
   "cell_type": "markdown",
   "metadata": {},
   "source": [
    "**Question 4:** What process model would make sense for this project?"
   ]
  }
 ],
 "metadata": {
  "kernelspec": {
   "display_name": "Python 3",
   "language": "python",
   "name": "python3"
  },
  "language_info": {
   "codemirror_mode": {
    "name": "ipython",
    "version": 3
   },
   "file_extension": ".py",
   "mimetype": "text/x-python",
   "name": "python",
   "nbconvert_exporter": "python",
   "pygments_lexer": "ipython3",
   "version": "3.8.8"
  }
 },
 "nbformat": 4,
 "nbformat_minor": 2
}
