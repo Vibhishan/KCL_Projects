{
 "cells": [
  {
   "cell_type": "markdown",
   "metadata": {},
   "source": [
    "# Introduction to Python\n",
    "\n",
    "## Learning Objectives\n",
    "\n",
    "The purpose of this weeks lectures is to introduce you to coding in Python, most specifically highlighting its key differences with respect to Matlab. \n",
    "\n",
    "By the end of this week we expect you to understand how to:\n",
    "\n",
    "- Manipulate simple variable types, operators and conditions\n",
    "- Use Python lists and Dictionaries\n",
    "- Write loops and functions\n",
    "- Understand modules, packages and classes\n",
    "- Read and write to and from files\n",
    "\n",
    "## Basics\n",
    "\n",
    "### Switching from Matlab to Python\n",
    "\n",
    "Whilst this may seem daunting it is important to emphasis that the languages are quite similar as shown for example by this [cheat sheet](http://reactorlab.net/resources-folder/matlab/P_to_M.html)\n",
    "\n",
    "![title](imgs/matlabtopython.png)\n",
    "\n",
    "Here the key differences I seek to emphasize are that:\n",
    "\n",
    "1. Python does not require semicolons at the end of each line to prevent the interpreter from printing out the values of each variable\n",
    "2. Python uses indentation only to control flow through the code (thus there are no ```end``` statements at the end of ```if/for/while``` statements, unlike Matlab\n",
    "3. Python indexes arrays from 0 not 1\n",
    "\n",
    "All of these points will be covered in more detail later in the notebooks.\n",
    "\n",
    "### A high-level language\n",
    "\n",
    "A key objective for Python has been that it should be easy to read and use. Thus, it is simple by design. \n",
    "\n",
    "This is never better demonstrated than through the well known 'Hello World' example. To print 'Hello world' in python all you need is the print function:"
   ]
  },
  {
   "cell_type": "code",
   "execution_count": null,
   "metadata": {},
   "outputs": [],
   "source": [
    "print(\"Hello World\")"
   ]
  },
  {
   "cell_type": "markdown",
   "metadata": {},
   "source": [
    "In contrast, for C++ the 'Hello World' programme requires several lines of code, imports of standard libraries and will not run until it is compiled:"
   ]
  },
  {
   "cell_type": "markdown",
   "metadata": {},
   "source": [
    "```c++\n",
    "#include <iostream>\n",
    "using namespace std;\n",
    "\n",
    "int main() \n",
    "{\n",
    "    cout << \"Hello, World!\";\n",
    "    return 0;\n",
    "}\n",
    "```"
   ]
  },
  {
   "cell_type": "markdown",
   "metadata": {},
   "source": [
    " ###  Commenting\n",
    " \n",
    "Finally, before we learn any syntax. As with any coding language, tt is always important to comment code such that others can read and use it. In Python comments are indicated by the ```#```:"
   ]
  },
  {
   "cell_type": "code",
   "execution_count": null,
   "metadata": {},
   "outputs": [],
   "source": [
    "# this is a code comment"
   ]
  },
  {
   "cell_type": "markdown",
   "metadata": {},
   "source": [
    "In addition to explaining lines of code, we use commenting, within all the Exercise sections, to indicate where you should add code and what you need to do."
   ]
  },
  {
   "cell_type": "markdown",
   "metadata": {},
   "source": [
    "# 1. Introduction to Types, Operators and Data Structures\n",
    "\n",
    "Throughout the rest of this notebook we will cover simple variables, lists strings and dictionary types. Towards the end we will discuss math operators, conditions, functions and basic input/output statements. "
   ]
  },
  {
   "cell_type": "markdown",
   "metadata": {},
   "source": [
    "## 1.2 Variables and Types"
   ]
  },
  {
   "cell_type": "markdown",
   "metadata": {},
   "source": [
    "Python supports three types of numbers:\n",
    "    - integers \n",
    "    - floats\n",
    "    - complex numbers (where complex numbers will not be used in this course)\n",
    "\n",
    "An example of assigning a variable an integer value is:"
   ]
  },
  {
   "cell_type": "code",
   "execution_count": null,
   "metadata": {},
   "outputs": [],
   "source": [
    "myint = 5"
   ]
  },
  {
   "cell_type": "markdown",
   "metadata": {},
   "source": [
    "Examples of float declarations are:"
   ]
  },
  {
   "cell_type": "code",
   "execution_count": null,
   "metadata": {},
   "outputs": [],
   "source": [
    "myfloat1=12.1\n",
    "myfloat2=float(myint) # casting an integer type as float\n",
    "print('example integer is ', myfloat1)\n",
    "\n",
    "# see the difference between float and int variables\n",
    "print('myint has type {} and value {}'.format(type(myint),myint)) \n",
    "print('myfloat2 has type {} and value {}'.format(type(myfloat2),myfloat2)) "
   ]
  },
  {
   "cell_type": "markdown",
   "metadata": {},
   "source": [
    "In these examples ```myint``` and ```myfloat``` are examples of variables. "
   ]
  },
  {
   "cell_type": "markdown",
   "metadata": {},
   "source": [
    "### 1.2.2 Strings"
   ]
  },
  {
   "cell_type": "markdown",
   "metadata": {},
   "source": [
    "Strings (of characters) are defined either with a single quote or a double quotes e.g. "
   ]
  },
  {
   "cell_type": "code",
   "execution_count": null,
   "metadata": {},
   "outputs": [],
   "source": [
    "string1=\"hello world\"\n",
    "string2='hello world'\n",
    "print (string1)\n",
    "print(string2)\n",
    "print('testing if string1 and string2 are equal:', string1==string2)"
   ]
  },
  {
   "cell_type": "markdown",
   "metadata": {},
   "source": [
    "If you need a apostrophe inside, format as"
   ]
  },
  {
   "cell_type": "code",
   "execution_count": null,
   "metadata": {},
   "outputs": [],
   "source": [
    "string1=\"Steve's dog\"\n",
    "print(string1)"
   ]
  },
  {
   "cell_type": "markdown",
   "metadata": {},
   "source": [
    "#### 1.2.2.1 Format Strings \n",
    "\n",
    "In some cases we will use printed statements with formatted output using the ```format``` (``` str.format ```) method for strings. Using this formulation it is also possible to cast different data types within the string, while also truncating the precision of floats e.g."
   ]
  },
  {
   "cell_type": "code",
   "execution_count": null,
   "metadata": {},
   "outputs": [],
   "source": [
    "print('The first argument is {1} the second argument is {0}'.format(1,2))\n",
    "print('Pi {}'.format(3.14159))\n",
    "print(' Pi is {0:8.2f}  '.format(3.14159, 2.9817))"
   ]
  },
  {
   "cell_type": "markdown",
   "metadata": {},
   "source": [
    "The general syntax for a format placeholder is:\n",
    "\n",
    "```[argument]:[width][.precision]type```"
   ]
  },
  {
   "cell_type": "markdown",
   "metadata": {},
   "source": [
    "Such that in the example ```print(' Pi is {0:8.2f}  '.format(3.14159))```: 0 is the position of the argument, 8 is the width (if the width is longer than the number padding, in the form of spaces are added in front of the number), 2 is the number of decimal places and ```f``` is the type. Examples of common types include\n",
    "\n",
    "- ```d``` signed integer decimal e.g. an integer would be formatted as ```{5d} ```\n",
    "- ```s``` string\n",
    "- ```f``` floating point decimal\n",
    "\n",
    "For more examples see https://www.python-course.eu/python3_formatted_output.php\n",
    "\n",
    "**To do** \n",
    "- Try changing the width and decimal place parameters above to observe their effect. Why not try writing your own formated string?\n",
    "- Try also printing out and formatting the second argument of the format string (2.9817) to 1 decimal place with no padding."
   ]
  },
  {
   "cell_type": "code",
   "execution_count": null,
   "metadata": {},
   "outputs": [],
   "source": [
    "# exercise: practice string formatting\n"
   ]
  },
  {
   "cell_type": "markdown",
   "metadata": {},
   "source": [
    "Note, this is the newest form of syntax for string formatting. Some older forms that you might also see include:"
   ]
  },
  {
   "cell_type": "code",
   "execution_count": null,
   "metadata": {},
   "outputs": [],
   "source": [
    "# older types of string formatting\n",
    "name='Bob'\n",
    "age=20\n",
    "print(\"Hi\", name, \" age \", str(age))\n",
    "\n",
    "print(\"Hi %s age %d \"%(name, age))\n"
   ]
  },
  {
   "cell_type": "markdown",
   "metadata": {},
   "source": [
    "### 1.2.4 Booleans\n",
    "\n",
    "Booleans represent binary ```True``` or ```False``` statements. They may be returned from the ```bool(...)``` function or output from boolean operators (below). \n",
    "\n",
    "For the purpose of control flow statements the following objects would be considered as ```False```:\n",
    "- integer zero (0)\n",
    "- float zero (0.0)\n",
    "- ```None``` statement\n",
    "- empty lists, dictionaries, tuples, arrays etc (e.g. (),[],{})\n",
    "\n",
    "Every other output would be considered ```True``` . \n",
    "\n",
    "**To do** Explore this by changing ```my_var``` to different variables. "
   ]
  },
  {
   "cell_type": "code",
   "execution_count": null,
   "metadata": {},
   "outputs": [],
   "source": [
    "# Exercise try changing the objects assigned to my_var, try 0, 1 , None, an empty list [], a full list [1,2,3]....\n",
    "my_var=0\n",
    "\n",
    "if my_var:\n",
    "    print(\"is true\")"
   ]
  },
  {
   "cell_type": "markdown",
   "metadata": {},
   "source": [
    "### 1.2.4 Dynamical Typing\n",
    "\n",
    "Note Python variables are not \"statically typed\". This means you do not need to declare variables before using them, nor declare their type. Every variable in Python is an object for example you can declare simple variables within a print statement, and do math on them without first declaring their type e.g:"
   ]
  },
  {
   "cell_type": "code",
   "execution_count": null,
   "metadata": {},
   "outputs": [],
   "source": [
    "my_var=5+2.3\n",
    "\n",
    "print(\"the sum of 5 and 2.3 is {}\".format(my_var))"
   ]
  },
  {
   "cell_type": "markdown",
   "metadata": {},
   "source": [
    "Is the same as "
   ]
  },
  {
   "cell_type": "code",
   "execution_count": null,
   "metadata": {},
   "outputs": [],
   "source": [
    "print(\"the sum of 5 and 2.3 is {}\".format(5+2.3))"
   ]
  },
  {
   "cell_type": "markdown",
   "metadata": {},
   "source": [
    "# 1.3 Operators"
   ]
  },
  {
   "cell_type": "markdown",
   "metadata": {},
   "source": [
    "The basic math operators are:\n",
    "- addition (```+```)\n",
    "- subtraction (```-```)\n",
    "- multiplication (```*```)\n",
    "- division (```/``` or ```//```)"
   ]
  },
  {
   "cell_type": "markdown",
   "metadata": {},
   "source": [
    "**To do** Try out some simple math operations:"
   ]
  },
  {
   "cell_type": "code",
   "execution_count": null,
   "metadata": {},
   "outputs": [],
   "source": [
    "print('addition:', 2+3)\n",
    "print('subtraction:', 2-3)\n",
    "print('multiplication:', 2*3)\n",
    "print('division:', 2/3)\n",
    "print('whole division:', 2//3)\n",
    "\n",
    "# Exercise: add some more of your own\n"
   ]
  },
  {
   "cell_type": "markdown",
   "metadata": {},
   "source": [
    "The modulus operator (```%```) returns the integer remainder following division:"
   ]
  },
  {
   "cell_type": "code",
   "execution_count": null,
   "metadata": {},
   "outputs": [],
   "source": [
    "a=9\n",
    "b=5\n",
    "print('the remainder following division of {} by {} is {}'.format(a, b, a%b))"
   ]
  },
  {
   "cell_type": "markdown",
   "metadata": {},
   "source": [
    "Using ```*``` twice (```**```) results in the power operator"
   ]
  },
  {
   "cell_type": "code",
   "execution_count": null,
   "metadata": {},
   "outputs": [],
   "source": [
    "a=2\n",
    "b=4\n",
    "print('{} to the power {} is {}'.format(a, b, a**b))"
   ]
  },
  {
   "cell_type": "markdown",
   "metadata": {},
   "source": [
    "Operators also work on strings. You can use ```+``` and ```*``` to concatenate strings for example:"
   ]
  },
  {
   "cell_type": "code",
   "execution_count": null,
   "metadata": {},
   "outputs": [],
   "source": [
    "print('hello'*10)\n",
    "\n",
    "#try your own string concatenation here\n"
   ]
  },
  {
   "cell_type": "markdown",
   "metadata": {},
   "source": [
    "Any number of variables in your python stript can be cast as strings using ```str()``` or ```{ } ``` in conjunction with ```str.format``` or in as a 'format string'"
   ]
  },
  {
   "cell_type": "code",
   "execution_count": null,
   "metadata": {},
   "outputs": [],
   "source": [
    "a=10\n",
    "\n",
    "# here the integer variable a is cast as a string; otherwise python automatically assumes it is an int\n",
    "print('hello'+str(a)) \n",
    "print(f'hello{a}') # format string - note 'f\n",
    "print('hello{}'.format(a) )"
   ]
  },
  {
   "cell_type": "markdown",
   "metadata": {},
   "source": [
    "## 1.4 Boolean operations (Conditions)\n",
    "\n",
    "Boolean operations always return etiher ```True``` or ```False```. They are often used to define conditions (below) for if and while statements. Examples include:\n",
    "\n",
    "- exactly equals to (```==```)\n",
    "- is. not equal to (```!=```)\n",
    "- inverse (opposite) (```not```)\n",
    "- object identity ```is``` or ```is not```\n",
    "- Comparators (greater than ```>```, less than ```<```, greater than or equal to ```>=```, less than or equal to ```<=```)\n",
    "- Containment: ```in``` or ```not in```\n",
    "\n",
    "Conditions containing boolean operators ``` == > < ``` are formatted as:"
   ]
  },
  {
   "cell_type": "code",
   "execution_count": null,
   "metadata": {},
   "outputs": [],
   "source": [
    "a=10\n",
    "print(a==10)\n",
    "print(a<12)\n",
    "print(a>20)"
   ]
  },
  {
   "cell_type": "markdown",
   "metadata": {},
   "source": [
    "Using \"not\" before a boolean expression inverts it:"
   ]
  },
  {
   "cell_type": "code",
   "execution_count": null,
   "metadata": {},
   "outputs": [],
   "source": [
    "a=10\n",
    "b=12\n",
    "print(not a==b)"
   ]
  },
  {
   "cell_type": "markdown",
   "metadata": {},
   "source": [
    "To check whether two variables point to the same object use ```is``` or ```is not```. These differ from ```==\\!=``` in that they are checking whether the objects themselves are identical as opposed to whether just their *value* is identical (as is the case for ```==```). This functionaility is best demonstrated using lists (described in the next [section](#lists))"
   ]
  },
  {
   "cell_type": "code",
   "execution_count": null,
   "metadata": {},
   "outputs": [],
   "source": [
    "list_a=[1,2,3]\n",
    "list_b=list_a # a is copied to b so their point to the same memory location - they are the same object\n",
    "# c creates a new list with the same values as a but as it is new it will not point to the same location in memory\n",
    "list_c=[1,2,3] \n",
    "print(list_a is list_b)\n",
    "\n",
    "print(list_a is list_c)"
   ]
  },
  {
   "cell_type": "markdown",
   "metadata": {},
   "source": [
    "To check whether an item is in a list (described [below](#lists)) use ```in``` or ```not in```"
   ]
  },
  {
   "cell_type": "code",
   "execution_count": null,
   "metadata": {},
   "outputs": [],
   "source": [
    "my_list=[1,2,3,4]\n",
    "\n",
    "print(5 in my_list)"
   ]
  },
  {
   "cell_type": "markdown",
   "metadata": {},
   "source": [
    "Two conditional statements can be considered concurrent with ```and/or``` statements, where for ```and``` both statements must be true for the chained condition to return ```True```; whereas, for ```or```, only one need be true for the combination to return ```True```"
   ]
  },
  {
   "cell_type": "code",
   "execution_count": null,
   "metadata": {},
   "outputs": [],
   "source": [
    "a=10\n",
    "b=12\n",
    "print(a == b)\n",
    "print(a< 15 and b < 10)\n",
    "print (a < 15 or b < 10)"
   ]
  },
  {
   "cell_type": "markdown",
   "metadata": {},
   "source": [
    "**To do** try out some examples of your own"
   ]
  },
  {
   "cell_type": "code",
   "execution_count": null,
   "metadata": {},
   "outputs": [],
   "source": [
    "#  Exercise: try out some more examples\n"
   ]
  },
  {
   "cell_type": "markdown",
   "metadata": {},
   "source": [
    "# Exercise 1: Variables, Operators and Conditions"
   ]
  },
  {
   "cell_type": "markdown",
   "metadata": {},
   "source": [
    "Ex 1. Playing with the print function and string formatting "
   ]
  },
  {
   "cell_type": "code",
   "execution_count": null,
   "metadata": {},
   "outputs": [],
   "source": [
    "# Complete Ex 1 below; responding below each comment block\n",
    "\n",
    "# Q1 define variables\n",
    "#e.g. a=5; b=10; teststr='Hello World'\n",
    "\n",
    "# Q2 Practice print statements e.g. print('hello world')\n",
    "# \n",
    "\n",
    "\n",
    "# Q3 also try printing the variables you created for Q1\n",
    "\n",
    "\n",
    "# Q4 Try adding the variable 'a' to variable 'teststr' within a print statement \n",
    "#   (there are at least 2 ways of doing this, try all)\n",
    "\n"
   ]
  },
  {
   "cell_type": "markdown",
   "metadata": {},
   "source": [
    "Ex 2. Try some simple operations"
   ]
  },
  {
   "cell_type": "code",
   "execution_count": null,
   "metadata": {},
   "outputs": [],
   "source": [
    "# Complete Ex 2 below; responding below each comment \n",
    "\n",
    "# Q1 attempt simple simple math operations, print the output \n",
    "\n",
    "\n",
    "# Q2 combinations of math operators try combining math operators e.g. a*a+b - a/b \n"
   ]
  },
  {
   "cell_type": "markdown",
   "metadata": {},
   "source": [
    "Ex 3. Experiment with Conditions"
   ]
  },
  {
   "cell_type": "code",
   "execution_count": null,
   "metadata": {},
   "outputs": [],
   "source": [
    "# Complete Ex 3 below; responding below each comment \n",
    "\n",
    "# Q1 define variables (completed for you)\n",
    "\n",
    "a=5\n",
    "b=10\n",
    "teststr1='Hello'\n",
    "teststr2='World'\n",
    "\n",
    "# Q2 complete and evaluate the following conditional statements\n",
    "print('a is exactly equal to b',)\n",
    "print('Twice a is exactly equal to b',)\n",
    "print('a is greater than b ',)\n",
    "print('a is less than b',)\n",
    "print('a is b',)\n",
    "print('2*a is b',)\n",
    "\n",
    "\n",
    "# Q3 combine statements using and/or statements e.g. 'a == b or b> a'; \n",
    "#try different combinations; print out\n",
    "\n",
    "\n",
    "# Q4 try inverting your previous statements with a not; \n",
    "\n",
    "# Q5 what happens when you negate a statement joined by an 'and' ;\n"
   ]
  },
  {
   "cell_type": "markdown",
   "metadata": {},
   "source": [
    "<a id='lists'></a>\n",
    "\n",
    "## 1.5 Lists"
   ]
  },
  {
   "cell_type": "markdown",
   "metadata": {},
   "source": [
    "A list is an ordered collection of objects. List elements don't have to be of the same type but can be an arbitrary mixture of numbers, strings, or other types of objects. Lists can contain other lists as sub-lists. Examples of lists:"
   ]
  },
  {
   "cell_type": "code",
   "execution_count": null,
   "metadata": {},
   "outputs": [],
   "source": [
    "emptylist=[] # An empty list\n",
    "integerlist=[1,2,3,4,5,6] #A list of integers\n",
    "stringlist=['string1', 'string2', 'string3'] #A list of strings\n",
    "mixedlist=[10, \"some string\", 4.2, 2, 'some other string'] #A list of mixed data types\n",
    "# a nested list  - note sublists do not have to have same lengths\n",
    "nestedlist=[['dog','cat','pig'], [1,2,3 ,4], [10, \"some string\", 4.2, 2, 'some other string'] ]"
   ]
  },
  {
   "cell_type": "markdown",
   "metadata": {},
   "source": [
    "### 1.5.1 Indexing and slicing"
   ]
  },
  {
   "cell_type": "markdown",
   "metadata": {},
   "source": [
    "Lists, and strings are what as known as sequential data types. This means that they can be manipulated in ways similar to arrays in Matlab and C++. Please that matrices and numeric arrays will be dealt with separately through the use of the Numpy package, towards the end of this week's lectures.\n",
    "\n",
    "As array-like objects, this means that it is possible to index and slice different elements or groups of elements from strings and lists. \n",
    "\n",
    "** <font color='red'> NOTE in python all array like objects are indexed from 0 not 1 (like Matlab)  </font>  **\n",
    "\n",
    "For examples, using the list object's defined above:"
   ]
  },
  {
   "cell_type": "code",
   "execution_count": null,
   "metadata": {},
   "outputs": [],
   "source": [
    "teststr='Hello World'\n",
    "print('the third element of the integer list', integerlist[2])\n",
    "print('the fourth element of the mixed list', mixedlist[3])\n",
    "print('the seventh element of the string', teststr[6])"
   ]
  },
  {
   "cell_type": "markdown",
   "metadata": {},
   "source": [
    "Indexing can also be done in reverse:"
   ]
  },
  {
   "cell_type": "code",
   "execution_count": null,
   "metadata": {
    "scrolled": true
   },
   "outputs": [],
   "source": [
    "print('the last element of the integer list', integerlist[-1])"
   ]
  },
  {
   "cell_type": "markdown",
   "metadata": {},
   "source": [
    "We can also slice different elements of lists usign syntax ```my_list[start:stop:step]```; where it is important to note that, **slice indexing takes all elements upto but not including the last index**"
   ]
  },
  {
   "cell_type": "code",
   "execution_count": null,
   "metadata": {},
   "outputs": [],
   "source": [
    "# note slice indexing takes all elements upto but not including the last index \n",
    "print('the middle two elements of the integer list', integerlist[2:4])\n",
    "#slicing from the beginning to element 5\n",
    "print('slicing from the beginning to element 5 ', integerlist[:5])\n",
    "#slicing from element 5 to the end\n",
    "print('slicing from the 5th value to the end', integerlist[4:])\n",
    "#slicing from element 5 to one from the end\n",
    "print('slicing from the 5th value to the penultimate value', integerlist[4:-1])"
   ]
  },
  {
   "cell_type": "markdown",
   "metadata": {},
   "source": [
    "In this example we use the ```step``` notation to slicing every other element in a range"
   ]
  },
  {
   "cell_type": "code",
   "execution_count": null,
   "metadata": {},
   "outputs": [],
   "source": [
    "print('Every other element of the integer list from beginning to end', integerlist[0:5:2])"
   ]
  },
  {
   "cell_type": "markdown",
   "metadata": {},
   "source": [
    "We can also check whether elements are within a list using ```in```:"
   ]
  },
  {
   "cell_type": "code",
   "execution_count": null,
   "metadata": {},
   "outputs": [],
   "source": [
    "print('is 3 in integer list?', 3 in integerlist)"
   ]
  },
  {
   "cell_type": "markdown",
   "metadata": {},
   "source": [
    "**To do** try indexing and slicing of the lists (or strings) above. Do they return what you expect? What about creating some lists of your own and trying with these?"
   ]
  },
  {
   "cell_type": "code",
   "execution_count": null,
   "metadata": {},
   "outputs": [],
   "source": [
    "# Exercise - try indexing and slicing some lists and strings"
   ]
  },
  {
   "cell_type": "markdown",
   "metadata": {},
   "source": [
    "### 1.5.2 Assignment and Mutation"
   ]
  },
  {
   "cell_type": "markdown",
   "metadata": {},
   "source": [
    "It is also possible to increase the length of a list using ```append()```"
   ]
  },
  {
   "cell_type": "code",
   "execution_count": null,
   "metadata": {},
   "outputs": [],
   "source": [
    "integerlist.append(7)\n",
    "print('new integer list', integerlist)"
   ]
  },
  {
   "cell_type": "markdown",
   "metadata": {},
   "source": [
    "Or insert to the. middle of a list using ```insert(index,value)```"
   ]
  },
  {
   "cell_type": "code",
   "execution_count": null,
   "metadata": {},
   "outputs": [],
   "source": [
    "integerlist.insert(3,100)\n",
    "print('new integer list', integerlist)"
   ]
  },
  {
   "cell_type": "markdown",
   "metadata": {},
   "source": [
    "However, ```append()``` (and ```insert```) expect to be passed a single argument; thus, if the goal is to append/insert more than one object it is possibly best done using concatenation (performed using the ```+``` operation) "
   ]
  },
  {
   "cell_type": "code",
   "execution_count": null,
   "metadata": {},
   "outputs": [],
   "source": [
    "print(integerlist+stringlist)"
   ]
  },
  {
   "cell_type": "markdown",
   "metadata": {},
   "source": [
    "To return the length of a list use the ```len()``` function"
   ]
  },
  {
   "cell_type": "code",
   "execution_count": null,
   "metadata": {},
   "outputs": [],
   "source": [
    "print('the length of the new integer list is', len(integerlist))\n",
    "print('the length of the teststr is', len(teststr))"
   ]
  },
  {
   "cell_type": "markdown",
   "metadata": {},
   "source": [
    "Note, Lists are _**mutable**_ which means items may be an be swapped out for new ones:"
   ]
  },
  {
   "cell_type": "code",
   "execution_count": null,
   "metadata": {},
   "outputs": [],
   "source": [
    "stringlist[2]=3\n",
    "print(stringlist)"
   ]
  },
  {
   "cell_type": "markdown",
   "metadata": {},
   "source": [
    "On the other hand strings are _**Immutable**_; you cannot change them once created. Try running the following line of code and see what happens"
   ]
  },
  {
   "cell_type": "code",
   "execution_count": null,
   "metadata": {
    "scrolled": true
   },
   "outputs": [],
   "source": [
    "teststr='Hello World'\n",
    "teststr[2]='a'"
   ]
  },
  {
   "cell_type": "markdown",
   "metadata": {},
   "source": [
    "## 1.6 Tuples "
   ]
  },
  {
   "cell_type": "markdown",
   "metadata": {},
   "source": [
    "Tuples are immutable lists. They are defined analogously to lists, except that the set of elements is enclosed in parentheses instead of square brackets, and none of the elements of the Tuple may be changed after creation:"
   ]
  },
  {
   "cell_type": "code",
   "execution_count": null,
   "metadata": {},
   "outputs": [],
   "source": [
    "mytuple=(10,\"Dog's\", 4.2)\n",
    "print('My tuple index 2:', mytuple[1])"
   ]
  },
  {
   "cell_type": "markdown",
   "metadata": {},
   "source": [
    "Use of tuples can be advantageous in some cases as they are faster to index than lists. As such, they can be useful in cases where programm runtime is important and you know you want to permanently fix the items in that list"
   ]
  },
  {
   "cell_type": "markdown",
   "metadata": {},
   "source": [
    "## 1.7 Dictionaries"
   ]
  },
  {
   "cell_type": "markdown",
   "metadata": {},
   "source": [
    "In many ways dictionaries are similar to lists: they can contain any type of object, be easily changed, and appended at run time. However unlike lists Dictionaries are unordered, indexed instead using keys. Dictionaries may be defined in one line or incrementally i.e:"
   ]
  },
  {
   "cell_type": "code",
   "execution_count": null,
   "metadata": {},
   "outputs": [],
   "source": [
    "#empty dictionary - see curly brackets notation\n",
    "mydict={}\n",
    "\n",
    "#define one key pair look up at a time\n",
    "mydict['Name']='John' #here key is 'Name' (in square brackets) and objec is 'John')\n",
    "mydict['Age']=23\n",
    "mydict['job']='Lecturer'\n",
    "mydict['height']=190\n",
    "\n",
    "print(mydict)\n",
    "\n",
    "# inline definition (all key-object pairs initialised together in one line, separated by commans)\n",
    "# in this notation, keys come first, foloowed by colon, followed by the object they reference \n",
    "# e.g. 'Course Name': 'Machine Learning'\n",
    "mydict_courseinfo={'Course Name': 'Machine Learning', 'Department': \"biomedical engineering\", 'Year started': 2017, 'Number of students': 67}\n",
    "mydict_courseinfo['Term']='Autumn'\n",
    "print(mydict_courseinfo)"
   ]
  },
  {
   "cell_type": "markdown",
   "metadata": {},
   "source": [
    "The keys e.g. 'Name' , 'Age' 'job' ... can be any immutable type.  **This includes tuples**"
   ]
  },
  {
   "cell_type": "code",
   "execution_count": null,
   "metadata": {},
   "outputs": [],
   "source": [
    "mydict[5]='val1'\n",
    "mydict[3.2413]='val2'\n",
    "mydict[(1,2,3)]='val3'"
   ]
  },
  {
   "cell_type": "markdown",
   "metadata": {},
   "source": [
    "The objects ('Dave', 23, 'Lecturer', 190) can be **any type** which means dictionaries can store lists. "
   ]
  },
  {
   "cell_type": "code",
   "execution_count": null,
   "metadata": {},
   "outputs": [],
   "source": [
    "mydict={}\n",
    "mydict['Name']='Dave'\n",
    "mydict['Age']=23\n",
    "mydict['job']='Lecturer'\n",
    "mydict['height']=190\n",
    "mydict['phones']=['+447783748917' , '020844740740']"
   ]
  },
  {
   "cell_type": "markdown",
   "metadata": {},
   "source": [
    "What's also (hopefully) clear from above is that you can easy append new keys to the dict at any time. "
   ]
  },
  {
   "cell_type": "code",
   "execution_count": null,
   "metadata": {},
   "outputs": [],
   "source": [
    "mydict['weight']=80"
   ]
  },
  {
   "cell_type": "markdown",
   "metadata": {},
   "source": [
    "Further, **Dictionary objects are mutable** which means they can be changed - i.e. the name"
   ]
  },
  {
   "cell_type": "code",
   "execution_count": null,
   "metadata": {},
   "outputs": [],
   "source": [
    "mydict['Name']='June'\n",
    "print(mydict)"
   ]
  },
  {
   "cell_type": "markdown",
   "metadata": {},
   "source": [
    "Dictionary elements can be deleted using ```del mydict[key]```"
   ]
  },
  {
   "cell_type": "code",
   "execution_count": null,
   "metadata": {
    "scrolled": true
   },
   "outputs": [],
   "source": [
    "del mydict['Name']\n",
    "print('Now my dictionary length:',len(mydict))"
   ]
  },
  {
   "cell_type": "markdown",
   "metadata": {},
   "source": [
    "But, what happens, if we try to access a key, i.e. a city, which is not contained in the dictionary? We raise a ```KeyError:```"
   ]
  },
  {
   "cell_type": "code",
   "execution_count": null,
   "metadata": {},
   "outputs": [],
   "source": [
    "print(mydict['city'])"
   ]
  },
  {
   "cell_type": "markdown",
   "metadata": {},
   "source": [
    "Note, dictionaries are not ordered therefore the cannot be searched sequenitially, indexed or sliced (although key iterators exist and will be described in the next lecture). Otherwise many of the same functions that operate on lists, operate on dictionaries:"
   ]
  },
  {
   "cell_type": "code",
   "execution_count": null,
   "metadata": {},
   "outputs": [],
   "source": [
    "print('My dictionary length:' ,len(mydict))\n",
    "print(\"Is key 'Name' in my dictionary\" ,'Name' in mydict) # note this is case sensitive; try changing 'Name' to 'name'"
   ]
  },
  {
   "cell_type": "markdown",
   "metadata": {},
   "source": [
    "# Exercise 2: Dictionaries and Lists"
   ]
  },
  {
   "cell_type": "markdown",
   "metadata": {},
   "source": [
    "Ex 1. Lists:\n",
    "    - Create an list of integers\n",
    "    - Estimate the length of the list; print it out\n",
    "    - Index the list at different points along its length\n",
    "    - Take a slice of a subset of elements from the list\n",
    "    - Append the list with a new item of a different type"
   ]
  },
  {
   "cell_type": "code",
   "execution_count": null,
   "metadata": {},
   "outputs": [],
   "source": [
    "#Complete responses to Ex1 here, e.g. mylist=[1,2,3,4,5]\n",
    "\n",
    "# index elements at different lengths along the list \n",
    "\n",
    "# index the last element of your list\n",
    "\n",
    "# slice from the second to the third value\n",
    "\n",
    "# append"
   ]
  },
  {
   "cell_type": "markdown",
   "metadata": {},
   "source": [
    "Ex 2. Operations on sequential data types\n",
    "    - Concatenate two strings, and two lists \n",
    "    - Concatenate 10 copies of each string"
   ]
  },
  {
   "cell_type": "code",
   "execution_count": null,
   "metadata": {},
   "outputs": [],
   "source": [
    "#Complete responses to Ex2 below\n",
    "\n",
    "string1='Hello'\n",
    "string2='World'\n",
    "list1=['Hello', 'World']\n",
    "list2=[\"I'm\", 'ready', 'to' 'Python']\n",
    "\n",
    "# Important - Never name your variables after data types i.e. str='mystring', list=['some', 'list'] should never be used \n",
    "\n",
    "# Q1 Concatenate two strings, and two lists \n",
    "\n",
    "# Q2  Concatenate 10 copies of each string\n"
   ]
  },
  {
   "cell_type": "markdown",
   "metadata": {},
   "source": [
    "Ex 3. Mutable and Immutable objects\n",
    "    - Try changing different elements of this string and list\n",
    "    - Create a tuple, try to change "
   ]
  },
  {
   "cell_type": "code",
   "execution_count": null,
   "metadata": {},
   "outputs": [],
   "source": [
    "#Complete responses to Ex3 here\n",
    "\n",
    "mylist=['Is', 'this' ,'list' ,'mutable']\n",
    "mystring='Is this string Mutable'\n",
    "\n",
    "# change element 3 of mylist\n",
    "\n",
    "#change element 2 of mystring\n"
   ]
  },
  {
   "cell_type": "markdown",
   "metadata": {},
   "source": [
    "Ex 4. Create a dictionary that translates english to French (or any other language); what other uses for dictionaries can you think of?\n",
    "\n",
    " - try indexing dictionary entries with an index, what happens?\n",
    " - try accessing different objects from their dictionary keys \n",
    " - what happens if you mistype a key or use one that doesn't exist?"
   ]
  },
  {
   "cell_type": "code",
   "execution_count": null,
   "metadata": {},
   "outputs": [],
   "source": [
    "# Complete responses to Ex 4 here"
   ]
  },
  {
   "cell_type": "code",
   "execution_count": null,
   "metadata": {},
   "outputs": [],
   "source": []
  }
 ],
 "metadata": {
  "kernelspec": {
   "display_name": "Python 3",
   "language": "python",
   "name": "python3"
  },
  "language_info": {
   "codemirror_mode": {
    "name": "ipython",
    "version": 3
   },
   "file_extension": ".py",
   "mimetype": "text/x-python",
   "name": "python",
   "nbconvert_exporter": "python",
   "pygments_lexer": "ipython3",
   "version": "3.8.8"
  }
 },
 "nbformat": 4,
 "nbformat_minor": 2
}
