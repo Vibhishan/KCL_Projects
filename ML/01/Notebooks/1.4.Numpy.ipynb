{
 "cells": [
  {
   "cell_type": "markdown",
   "metadata": {},
   "source": [
    "# 4. Numpy"
   ]
  },
  {
   "cell_type": "markdown",
   "metadata": {},
   "source": [
    "Numpy (acronym for \"Numeric Python\" or \"Numerical Python\") is a foundational, open-source library upon which all scientific programming in Python is based. At its core are tools for efficient creation and manipulation of data arrays (including matrices and tensors). Built upon these is an array of functions for manipulating these arrays, including advanced linear algebra routines optimised for processing very large matrices. \n",
    "\n",
    "We will start by importing the numpy module using its standard abbreviation '```np```'. Note, we only have to do this once for the entire notebook"
   ]
  },
  {
   "cell_type": "code",
   "execution_count": 48,
   "metadata": {},
   "outputs": [],
   "source": [
    "#importing numpy\n",
    "import numpy as np "
   ]
  },
  {
   "cell_type": "markdown",
   "metadata": {},
   "source": [
    "## 4.1 Starting with the basics"
   ]
  },
  {
   "cell_type": "markdown",
   "metadata": {},
   "source": [
    "A numpy array looks similar to a list, in that it is represented by block of values. Indeed it is possible to initialise an array from a list (or nested list). However, for an array **all of the values must by of the same type** and **all the rows and columns (and higher dimensions) must have the same length**. \n",
    "\n",
    "Some examples where arrays are initialised from ```np.array()``` by passing it a list (or nested list) are shown below:"
   ]
  },
  {
   "cell_type": "code",
   "execution_count": 3,
   "metadata": {},
   "outputs": [
    {
     "name": "stdout",
     "output_type": "stream",
     "text": [
      "my array \n",
      " [1 2 3 4 5 6]\n",
      "my matrix \n",
      " [[ 1  2  3  4  5  6]\n",
      " [ 7  8  9 10 11 12]]\n"
     ]
    }
   ],
   "source": [
    "# creating a numpy array \n",
    "my_array=np.array([1,2,3,4,5,6]) # constructing from a list\n",
    "\n",
    "print('my array \\n {}'.format(my_array))\n",
    "\n",
    "# construction of matrix from a 2D list \n",
    "my_matrix=np.array([[1,2,3,4,5,6],[7,8,9,10,11,12]]) \n",
    "print('my matrix \\n {}'.format(my_matrix))"
   ]
  },
  {
   "cell_type": "markdown",
   "metadata": {},
   "source": [
    "Once created, each array object may be decribed by a range of attributes including ```shape``` (length of each dimension), ```size``` (total number of elements), ```ndim``` (total number of dimensions, ```dtype``` (the data type of the array)"
   ]
  },
  {
   "cell_type": "code",
   "execution_count": null,
   "metadata": {},
   "outputs": [],
   "source": [
    "\n",
    "# printing attributes of array\n",
    "print('array shape:', my_array.shape)\n",
    "print('array size:', my_array.size)\n",
    "print('array total dimensions:', my_array.ndim)\n",
    "print('array data type:', my_array.dtype)\n",
    "\n",
    "# printing attributes of matrix\n",
    "print('matrix shape:', my_matrix.shape)\n",
    "print('matrix size:', my_matrix.size)\n",
    "print('matrix total dimensions:', my_matrix.ndim)\n",
    "print('matrix data type:', my_matrix.dtype)\n"
   ]
  },
  {
   "cell_type": "markdown",
   "metadata": {},
   "source": [
    "## 4.2 Creating arrays"
   ]
  },
  {
   "cell_type": "markdown",
   "metadata": {},
   "source": [
    "Numpy also provides many functions to create arrays. The function ```zeros``` creates an array full of zeros; ```ones``` creates an array full of ones, ```eye``` creates and idenity matrix and ```empty``` creates an array of fixed shape with uninitialiased (_very_) small _non-zero_ values. Note that by default, the datatype (```dtype```) of the created array is float64 but this can be changed during initialisation."
   ]
  },
  {
   "cell_type": "code",
   "execution_count": 3,
   "metadata": {},
   "outputs": [
    {
     "name": "stdout",
     "output_type": "stream",
     "text": [
      "zeros: \n",
      " [[0. 0. 0.]\n",
      " [0. 0. 0.]\n",
      " [0. 0. 0.]]\n",
      "ones: \n",
      " [[1 1 1]\n",
      " [1 1 1]\n",
      " [1 1 1]]\n",
      "identity: \n",
      " [[1. 0. 0.]\n",
      " [0. 1. 0.]\n",
      " [0. 0. 1.]]\n",
      "empty:\n",
      "[[6.14415221e-144 1.16097020e-028 3.11548378e-033]\n",
      " [2.73703439e-052 5.88742340e-062 3.97062373e+246]\n",
      " [1.16318408e-028 3.57823080e-061 7.56530329e-067]]\n"
     ]
    }
   ],
   "source": [
    "# creating a 3x3 matrix of all float zeros\n",
    "zeros=np.zeros( (3,3) )\n",
    "# creating a 3x3 matrix of all integer ones\n",
    "ones=np.ones( (3,3), dtype=np.int16 )  # note how dtype can be specified\n",
    "# creating a 3x3 indentiy matrix of float type\n",
    "identity = np.eye(3)\n",
    "# creating a 3x3 empty matrix of very small random values\n",
    "empty=np.empty( (3,3) )            \n",
    "\n",
    "# here '\\n' forces a new line\n",
    "print('zeros: \\n {}'.format(zeros))\n",
    "print('ones: \\n {}'.format(ones))\n",
    "\n",
    "print('identity: \\n {}'.format(identity))\n",
    "\n",
    "print('empty:\\n{}'.format(empty))\n"
   ]
  },
  {
   "cell_type": "markdown",
   "metadata": {},
   "source": [
    "Numpy also has array constructors that work similarly to the standard function ```range``` to create sequences of numbers. These include ```arange``` and ```linspace```. Here  ```arange``` is closest to ```range``` and best used for integer sequences. You can call arange with one number N to return intergers in the range 0 to N, or supply a start and end point, or even an interval:"
   ]
  },
  {
   "cell_type": "code",
   "execution_count": 4,
   "metadata": {},
   "outputs": [
    {
     "name": "stdout",
     "output_type": "stream",
     "text": [
      "range1: \n",
      " [0 1 2 3 4]\n",
      "range2: \n",
      " [5 6 7 8 9]\n",
      "range3: \n",
      " [50 55 60 65 70 75]\n"
     ]
    }
   ],
   "source": [
    "# integers from 0 to 5\n",
    "range1=np.arange(5)\n",
    "# integers from 5 to 10\n",
    "range2=np.arange(5,10)\n",
    "# integers from 50 to 80 in steps of 5 (note interval does not have to be an integer)\n",
    "range3=np.arange(50,80,5)\n",
    "\n",
    "print('range1: \\n {}'.format(range1))\n",
    "print('range2: \\n {}'.format(range2))\n",
    "print('range3: \\n {}'.format(range3))\n"
   ]
  },
  {
   "cell_type": "markdown",
   "metadata": {},
   "source": [
    "Alternatively, when looking for sets of evenly spaced numbers within some fixed range use ```np.linspace(start,end,num)```, where ```num``` determines the number of samples and thus the size of the spacing"
   ]
  },
  {
   "cell_type": "code",
   "execution_count": 5,
   "metadata": {},
   "outputs": [
    {
     "name": "stdout",
     "output_type": "stream",
     "text": [
      "integer range:\n",
      "[0 1 2 3 4 5 6 7 8 9]\n",
      "linearly space range:\n",
      "[0.   0.25 0.5  0.75 1.   1.25 1.5  1.75 2.  ]\n"
     ]
    }
   ],
   "source": [
    "# create an array with all integers from 0 to 10\n",
    "integer_range=np.arange(10)\n",
    "# create 9 linearly spaced numbers from 0 to 2  \n",
    "linearly_spaced_seq=np.linspace( 0, 2, 9 ) \n",
    "\n",
    "print('integer range:')\n",
    "print(integer_range)\n",
    "\n",
    "print('linearly space range:')\n",
    "print(linearly_spaced_seq)"
   ]
  },
  {
   "cell_type": "markdown",
   "metadata": {},
   "source": [
    "Finally, numpy has a submodule containing a range of random number generators to create arrays that follow specific random distributions i.e "
   ]
  },
  {
   "cell_type": "code",
   "execution_count": 6,
   "metadata": {},
   "outputs": [
    {
     "name": "stdout",
     "output_type": "stream",
     "text": [
      "random numbers in range 0-1\n",
      "[[0.592246   0.23199739 0.55847543]\n",
      " [0.88088598 0.94563286 0.34060737]\n",
      " [0.51968698 0.62833497 0.71179927]]\n",
      "random integers:\n",
      "[[16 13 12]\n",
      " [14 13 15]\n",
      " [ 7 14 15]]\n",
      "random floats drawn from standard normal distribution\n",
      "[[-0.36025614  0.8673523  -0.0910533 ]\n",
      " [ 1.04465061 -1.34738376  0.48597222]\n",
      " [-0.38732825  0.18689026  0.07838792]]\n"
     ]
    }
   ],
   "source": [
    "# all creating matrices of shape (3,3) \n",
    "#random numbers in range [0.0, 1.0)\n",
    "rand1=np.random.random((3,3)) \n",
    "#in range low (5) to high (20)\n",
    "rand2=np.random.randint(5,20,(3,3))\n",
    "# sampling random floats from the standard normal distribution\n",
    "# note how dimensions are defined as separate arguments\n",
    "rand3=np.random.randn(3,3) \n",
    "\n",
    "print('random numbers in range 0-1')\n",
    "print(rand1)\n",
    "\n",
    "print('random integers:')\n",
    "print(rand2)\n",
    "\n",
    "print('random floats drawn from standard normal distribution')\n",
    "print(rand3)\n"
   ]
  },
  {
   "cell_type": "markdown",
   "metadata": {},
   "source": [
    "Note ```np.random.random``` (input argument = tuple defining array size) creates a matrix of random variables by sampling from the continuous uniform distribution over the stated interval; np.random.randint(low,high=None,size=None, dtype=np.int) creates an array of random integers, defined in range _low_ to _high_ (if _high_ is not defined then the range runs from 0 to _low_); np.random.randn(d0, d1, ..., dn) draws samples from the standard normal distribution. Note how the array size is supplied from separate arguments for row and column dimensions, not as a single tuple (e.g. ```(3,3)```)!\n",
    "\n",
    "For more examples see https://docs.scipy.org/doc/numpy/reference/routines.random.html"
   ]
  },
  {
   "cell_type": "markdown",
   "metadata": {},
   "source": [
    "## 4.3 Loading from files"
   ]
  },
  {
   "cell_type": "markdown",
   "metadata": {},
   "source": [
    "Often in this course we will use pre-generated array data saved in text files. Note that, rather than loading data line by line using Python standard functions, it is possible to directly load matrices and arrays from text files using the ```loadtxt``` function of numpy."
   ]
  },
  {
   "cell_type": "code",
   "execution_count": 4,
   "metadata": {},
   "outputs": [
    {
     "name": "stdout",
     "output_type": "stream",
     "text": [
      "[[-0.05117679 -0.62723348 -0.04125068 -1.29827409 -0.0655964  -1.00543125\n",
      "  -1.0831345   0.01155352  0.24766376  0.94264478]\n",
      " [-0.63283927 -0.03772665 -0.69827689 -0.1052899   0.61800768 -1.55363743\n",
      "  -0.34921845  1.1285718  -0.7752054  -1.85557745]\n",
      " [ 0.81062212 -1.25557838 -0.88833737  0.50138339 -0.44753964  0.7569975\n",
      "  -0.17064013  0.57047556 -0.32382926 -0.47187674]\n",
      " [-1.12529374 -0.23521637 -0.61800694 -0.56430634  0.4527447   0.03960641\n",
      "   0.47565486 -0.80647691 -1.0366784   0.24002272]\n",
      " [ 1.57188442  0.08403489  0.66643652 -0.24020642 -0.23311341  0.01853213\n",
      "  -1.46649328 -1.25634881 -0.98202555 -0.05224428]\n",
      " [ 1.84854548  1.43911413 -0.90022799  1.56078049 -0.20948503 -0.740694\n",
      "   0.2036504  -0.77925612  0.20793743 -0.02193292]\n",
      " [ 0.38801326  0.15731882 -0.62093488 -1.38791008 -0.36185926 -0.1668012\n",
      "   0.0717035   0.16855269  0.16238424  0.74886967]\n",
      " [ 1.02804171 -0.55283394 -0.66957722 -0.47886764  0.10912133  0.18720818\n",
      "   0.45316169 -1.40592268  0.15264444  0.14787058]\n",
      " [-0.39147033 -0.47606627  2.8759175   0.98070651  0.48039432 -0.26457708\n",
      "  -0.4842991   1.0623337  -0.98279693 -0.74622556]\n",
      " [-1.95312743 -0.60510157  0.21782785  1.12745207  0.17329847 -0.58097088\n",
      "  -1.64813519  0.02097916 -0.07204213  1.52646652]]\n"
     ]
    }
   ],
   "source": [
    "new_mat=np.loadtxt('matrix.txt',delimiter=',') # note use of optional argument delimeter to load files with comma separated values\n",
    "print(new_mat)"
   ]
  },
  {
   "cell_type": "markdown",
   "metadata": {},
   "source": [
    "Matrices can be saved using ```savetxt```. By default the output is delimeted by spaces. You can also save using ```save```. This will save in ```.npy``` format. ```.npy``` formatting vastly improve the efficiency of reading and writing arrays. They can be loaded with ```load```"
   ]
  },
  {
   "cell_type": "code",
   "execution_count": 6,
   "metadata": {},
   "outputs": [
    {
     "name": "stdout",
     "output_type": "stream",
     "text": [
      "[[-0.05117679 -0.62723348 -0.04125068 -1.29827409 -0.0655964  -1.00543125\n",
      "  -1.0831345   0.01155352  0.24766376  0.94264478]\n",
      " [-0.63283927 -0.03772665 -0.69827689 -0.1052899   0.61800768 -1.55363743\n",
      "  -0.34921845  1.1285718  -0.7752054  -1.85557745]\n",
      " [ 0.81062212 -1.25557838 -0.88833737  0.50138339 -0.44753964  0.7569975\n",
      "  -0.17064013  0.57047556 -0.32382926 -0.47187674]\n",
      " [-1.12529374 -0.23521637 -0.61800694 -0.56430634  0.4527447   0.03960641\n",
      "   0.47565486 -0.80647691 -1.0366784   0.24002272]\n",
      " [ 1.57188442  0.08403489  0.66643652 -0.24020642 -0.23311341  0.01853213\n",
      "  -1.46649328 -1.25634881 -0.98202555 -0.05224428]\n",
      " [ 1.84854548  1.43911413 -0.90022799  1.56078049 -0.20948503 -0.740694\n",
      "   0.2036504  -0.77925612  0.20793743 -0.02193292]\n",
      " [ 0.38801326  0.15731882 -0.62093488 -1.38791008 -0.36185926 -0.1668012\n",
      "   0.0717035   0.16855269  0.16238424  0.74886967]\n",
      " [ 1.02804171 -0.55283394 -0.66957722 -0.47886764  0.10912133  0.18720818\n",
      "   0.45316169 -1.40592268  0.15264444  0.14787058]\n",
      " [-0.39147033 -0.47606627  2.8759175   0.98070651  0.48039432 -0.26457708\n",
      "  -0.4842991   1.0623337  -0.98279693 -0.74622556]\n",
      " [-1.95312743 -0.60510157  0.21782785  1.12745207  0.17329847 -0.58097088\n",
      "  -1.64813519  0.02097916 -0.07204213  1.52646652]]\n"
     ]
    }
   ],
   "source": [
    "# saving in npy format\n",
    "np.save('matrix.npy',new_mat)\n",
    "# loading in npy.format\n",
    "new_mat2=np.load('matrix.npy')\n",
    "print(new_mat2)"
   ]
  },
  {
   "cell_type": "markdown",
   "metadata": {},
   "source": [
    "# Exercise 1: Creating numpy arrays"
   ]
  },
  {
   "cell_type": "markdown",
   "metadata": {},
   "source": [
    "1. Try creating some arrays of your own using the nested list notation e.g: \n",
    "    \n",
    "    - Create a numpy array with 6 integer values using function ```np.array```\n",
    "    - Print the various attributes of this array: ```shape```, ```size```, ```ndim```, ```dtype```\n",
    "    - Repeat for a float array and a string array\n",
    "    - Create an 2D array with dimensions 3x2, print it's shape and dimensions\n",
    "    - What about a 3D array (optional)?\n",
    "    \n",
    "2. Create a 3x4 array full of zeros (*hint* using ```np.zeros```)\n",
    "\n",
    "3. Create a random 2x4 array of of random integers in the range 10 to 20 \n",
    "\n",
    "4. Create an array that returns every even number from 0 to 20\n"
   ]
  },
  {
   "cell_type": "code",
   "execution_count": 7,
   "metadata": {},
   "outputs": [],
   "source": [
    "# 1.1 To do - try creating arrays from 1D, 2D and 3D nested lists, print attributes\n",
    "\n",
    "\n",
    "# 1.2.  Create a 3x4 array full of zeros\n",
    "\n",
    "# 1.3 Create a random 2x4 array of of random integers in the range 10 to 20 \n",
    "\n",
    "# 4. Create an array that returns every even number from 0 to 20\n"
   ]
  },
  {
   "cell_type": "markdown",
   "metadata": {},
   "source": [
    "\n",
    "\n",
    "## 4.4 Indexing Slicing and Iterating"
   ]
  },
  {
   "cell_type": "markdown",
   "metadata": {},
   "source": [
    "Arrays, like lists are indexed from 0:"
   ]
  },
  {
   "cell_type": "code",
   "execution_count": 8,
   "metadata": {},
   "outputs": [
    {
     "name": "stdout",
     "output_type": "stream",
     "text": [
      "the first index of array: 1\n",
      "the last index of array: 10\n",
      "the penultimate index of array: 9\n"
     ]
    }
   ],
   "source": [
    "my_array=np.array([1,2,3,4,5,5,6,7,9,10])\n",
    "\n",
    "print('the first index of array:',my_array[0])\n",
    "print('the last index of array:',my_array[-1])\n",
    "print('the penultimate index of array:',my_array[-2])\n",
    "\n"
   ]
  },
  {
   "cell_type": "markdown",
   "metadata": {},
   "source": [
    "Similar to Python lists, numpy arrays can be sliced. You must specify a slice for each dimension of the array:"
   ]
  },
  {
   "cell_type": "code",
   "execution_count": 11,
   "metadata": {
    "hidePrompt": true
   },
   "outputs": [
    {
     "name": "stdout",
     "output_type": "stream",
     "text": [
      "my_matrix= [[ 1  2  3  4  5  6]\n",
      " [ 7  8  9 10 11 12]]\n",
      "the first row  [1 2 3 4 5 6]\n",
      "the fourth column (and all rows) [ 4 10]\n",
      "the sub-matrix given by columns 2 and 3 : \n",
      "[[2 3]\n",
      " [8 9]]\n"
     ]
    }
   ],
   "source": [
    "my_matrix=np.array([[1,2,3,4,5,6],[7,8,9,10,11,12]]) #redfined from above\n",
    "\n",
    "print('my_matrix=',my_matrix)\n",
    "# to return a whole row (with all columns); specifically the first row\n",
    "print('the first row ', my_matrix[0,:])\n",
    "# to return a whole column (with all rows); specifically the fourth column (indexed by 3)\n",
    "print('the fourth column (and all rows)', my_matrix[:,3])\n",
    "\n",
    "print('the sub-matrix given by columns 2 and 3 : ')\n",
    "#this returns all rows with ':' and then the columns corresponding to the first and second index (not the third\n",
    "# as the slice is not exclusive of the last index in the range)\n",
    "print(my_matrix[:,1:3]) "
   ]
  },
  {
   "cell_type": "markdown",
   "metadata": {},
   "source": [
    "Similarly to list slicing the range is non inclusive of the last index in the range. Use of ```:``` on its own will return all indices (columns/rows etc) for that dimension of the array.\n",
    "\n",
    "While slicing extracts sub-matrices in fixed ranges, integer indexing (using lists) allows arbitrary values to be selected from the array:"
   ]
  },
  {
   "cell_type": "code",
   "execution_count": 13,
   "metadata": {},
   "outputs": [
    {
     "name": "stdout",
     "output_type": "stream",
     "text": [
      "row 1 and Columns 2 4 and 6 [2 4 6]\n"
     ]
    }
   ],
   "source": [
    "#. this slice will extract one row (corresponding to index 0), and 3 columns (corresponding to indices 1,3 and 5)\n",
    "print('row 1 and Columns 2 4 and 6', my_matrix[0,[1,3,5]])"
   ]
  },
  {
   "cell_type": "markdown",
   "metadata": {},
   "source": [
    "It is also possible to return all indices from a array, whose values meet certain boolean conditions e.g."
   ]
  },
  {
   "cell_type": "code",
   "execution_count": 12,
   "metadata": {},
   "outputs": [
    {
     "name": "stdout",
     "output_type": "stream",
     "text": [
      "Return all indices correponding to values from my_matrix that are > 4:\n",
      "[[False False False False  True  True]\n",
      " [ True  True  True  True  True  True]]\n"
     ]
    }
   ],
   "source": [
    "boolean_cond=(my_matrix>4)\n",
    "print('Return all indices correponding to values from my_matrix that are > 4:')\n",
    "print(boolean_cond)"
   ]
  },
  {
   "cell_type": "markdown",
   "metadata": {},
   "source": [
    "This can be useful, when for example the goal is to mask one array using the values of another:"
   ]
  },
  {
   "cell_type": "code",
   "execution_count": 14,
   "metadata": {},
   "outputs": [
    {
     "name": "stdout",
     "output_type": "stream",
     "text": [
      "[15 16 17 18 19 20 21 22]\n"
     ]
    }
   ],
   "source": [
    "my_matrix2=np.array([[11,12,13,14,15,16],[17,18,19,20,21,22]]) #redfined from above\n",
    "#this will mask matrix2 to return the values at indices where boolean_cond==True\n",
    "print(my_matrix2[boolean_cond])"
   ]
  },
  {
   "cell_type": "markdown",
   "metadata": {},
   "source": [
    "## 4.5 Changing the shape of an array"
   ]
  },
  {
   "cell_type": "markdown",
   "metadata": {},
   "source": [
    "In some occasions over the course it will become necessary to reshape or flatten an array before performing operations on it. There are several inbuilt functions in numpy for this purpose. Array flattening can be achieved using ```flatten``` or ```ravel```. Whereas, general reshaping can instead be achieved with ```reshape``` or ```resize```. Let's look at both in more detail:\n",
    "\n",
    "### 4.5.1 Flattening matrices/tensors into one long vector\n",
    "\n",
    "The two functions (```ravel``` and ```flatten```) perform the exact same operation but whereas ```flatten``` creates a complete copy of the variable (with new shape) in memory ```ravel``` continues to reference the original array. This makes ```ravel()``` faster than ```flatten()``` as it does not occupy any memory; however it may result in undersired behaviour (as shown below).\n",
    "\n",
    "In both cases the functions offer choices as to how the array is unravelled (through an optional argument \"order\"). Order can have the values \"C\" (default), \"F\" and \"A\". Here, \"C\" means to flatten in the same way as would be performed in C/C++ i.e. in row-major ordering such that the row index varies the slowest, and the column index the quickest. \"F\" stands for Fortran column-major ordering and \"A\" means preserve the C/Fortran style of the original array (where this is saved as an attribute when the array is created)."
   ]
  },
  {
   "cell_type": "code",
   "execution_count": 37,
   "metadata": {},
   "outputs": [
    {
     "name": "stdout",
     "output_type": "stream",
     "text": [
      "[[ 1  2  3]\n",
      " [ 4  5  6]\n",
      " [ 7  8  9]\n",
      " [10 11 12]]\n",
      "the result of flattening A [ 1  2  3  4  5  6  7  8  9 10 11 12]\n",
      "flattening A with row major ordering [ 1  2  3  4  5  6  7  8  9 10 11 12]\n",
      "flattening A with column major ordering [ 1  4  7 10  2  5  8 11  3  6  9 12]\n",
      "flattening A preserving the C/Fortran style of the original array [ 1  2  3  4  5  6  7  8  9 10 11 12]\n"
     ]
    }
   ],
   "source": [
    "A=np.array([[1,2,3],[4,5,6],[7,8,9],[10,11,12]]) \n",
    "print(A)\n",
    "Flattened_X = A.flatten()\n",
    "print('the result of flattening A', Flattened_X)\n",
    "print('flattening A with row major ordering',A.flatten(order=\"C\"))\n",
    "print('flattening A with column major ordering',A.flatten(order=\"F\"))\n",
    "print('flattening A preserving the C/Fortran style of the original array',A.flatten(order=\"A\"))"
   ]
  },
  {
   "cell_type": "markdown",
   "metadata": {},
   "source": [
    "This behaviour is true for both ```ravel``` and ```flatten.``` The important difference is that if we subsequently edit the values of ```Flattened_X``` (the output of the ```flatten()``` operation) the original array ```A``` remains unchanged. On the other hand, this is not the case with ```ravel```, which continues to point to the location of ```A``` in memory. Thus it's important to carefully consider which behaviour is desired."
   ]
  },
  {
   "cell_type": "code",
   "execution_count": 27,
   "metadata": {},
   "outputs": [
    {
     "name": "stdout",
     "output_type": "stream",
     "text": [
      "see that after flatten() any changes to the new array \n",
      " [100   2   3   4   5   6   7   8   9  10  11  12] do not impact A \n",
      " [[200   2   3]\n",
      " [  4   5   6]\n",
      " [  7   8   9]\n",
      " [ 10  11  12]]\n",
      "On the other hand, changing the output of ravel (B): \n",
      " [200   2   3   4   5   6   7   8   9  10  11  12] does change A \n",
      " [[200   2   3]\n",
      " [  4   5   6]\n",
      " [  7   8   9]\n",
      " [ 10  11  12]] this is because they point to the same location in memory\n"
     ]
    }
   ],
   "source": [
    "\n",
    "Flattened_X[0]=100\n",
    "print('see that after flatten() any changes to the new array \\n {} do not impact A \\n {}'.format(Flattened_X,A))\n",
    "\n",
    "B=A.ravel()\n",
    "B[0]=200\n",
    "\n",
    "print('On the other hand, changing the output of ravel (B): \\n {} does change A \\n {} this is because they point to the same location in memory'\n",
    "      .format(B,A))\n",
    "\n"
   ]
  },
  {
   "cell_type": "markdown",
   "metadata": {},
   "source": [
    "### 4.5.2 General reshaping\n",
    "\n",
    "Alternatively, arrays can be reshaped to generic sizes using the ```reshape``` and ```resize``` functions. Here reshape creates a copy of the array, whereas resize modifies the original array"
   ]
  },
  {
   "cell_type": "code",
   "execution_count": 41,
   "metadata": {},
   "outputs": [
    {
     "name": "stdout",
     "output_type": "stream",
     "text": [
      "original shape: (4, 3); new shape (2, 6) - note A retains its orginal shape\n",
      "[[ 1  2  3  4  5  6]\n",
      " [ 7  8  9 10 11 12]]\n",
      "note following resize the original array shape is changed however (2, 6)\n"
     ]
    }
   ],
   "source": [
    "A=np.array([[1,2,3],[4,5,6],[7,8,9],[10,11,12]]) \n",
    "\n",
    "new_A=A.reshape((2,6))\n",
    "print('original shape: {}; new shape {} - note A retains its orginal shape'.format(A.shape,new_A.shape) ) \n",
    "print(new_A)           \n",
    "\n",
    "\n",
    "# now resize the original array\n",
    "A.resize((2,6))\n",
    "print('note following resize the original array shape is changed however',A.shape)  "
   ]
  },
  {
   "cell_type": "markdown",
   "metadata": {},
   "source": [
    "The numbers are resampled to the new shape following the order the array is stored in memory (generally C-style) \n",
    "\n",
    "### 4.5.3 Concatenation\n",
    "It is also possible to create new arrays by concatenating two arrays, with (at least one) compatible dimension:"
   ]
  },
  {
   "cell_type": "code",
   "execution_count": 30,
   "metadata": {},
   "outputs": [
    {
     "name": "stdout",
     "output_type": "stream",
     "text": [
      "[[61 50 70 29 16 59]\n",
      " [73 10 47 69 24  3]]\n",
      "[[200   2   3   4   5   6  61  50  70  29  16  59]\n",
      " [  7   8   9  10  11  12  73  10  47  69  24   3]]\n",
      "shape of concatenated array (2, 12)\n"
     ]
    }
   ],
   "source": [
    "B=np.random.randint(100,size=(2,6))\n",
    "\n",
    "A_and_B=np.concatenate((A,B),axis=1) # first argument is a tuple containing arrays to be concatenated in order\n",
    "\n",
    "print(B)\n",
    "print(A_and_B)\n",
    "print('shape of concatenated array',A_and_B.shape)\n"
   ]
  },
  {
   "cell_type": "markdown",
   "metadata": {},
   "source": [
    "**Exercise** What happens when you change the axis of concatenation to 0?\n",
    "\n",
    "Other operations for changing array shape and size can be found https://docs.scipy.org/doc/numpy-1.13.0/reference/routines.array-manipulation.html"
   ]
  },
  {
   "cell_type": "markdown",
   "metadata": {},
   "source": [
    "## 4. 6 Broadcasting"
   ]
  },
  {
   "cell_type": "markdown",
   "metadata": {},
   "source": [
    "Broadcasting is a powerful mechanism within python that allows combined operations on arrays of (apparently) different sizes, provided the sizes of equivalent dimensions between arrays are either exactly the same or one. \n",
    "\n",
    "What this specifically means is if you have two arrays with different numbers of dimensions (e.g. a vector and a matrix), extra dimensions will be added to the smaller array to give it the same dimensionality e.g. and $1 \\times n $ matrix rather than a length $n$ vector - shape (,$n$).\n",
    "\n",
    "Then, effectively the smaller array will be copied along the new dimension as many times as is necessary until it has the exact same size as the larger array. Provided all other dimensions agree between the arrays, this will allow them to be operated on together .\n",
    "\n",
    "For example, for summing a ```(3,4)``` shaped matrix with a ```(,4)``` shaped array; the Python IDE will broadcast 3 copies of of the vector in the row dimension until it has shape ```(3,4)```. This will allow the 2 arrays to be summed together:"
   ]
  },
  {
   "cell_type": "code",
   "execution_count": null,
   "metadata": {},
   "outputs": [],
   "source": [
    "# We will add the vector v to each row of the matrix x,\n",
    "# storing the result in the matrix y\n",
    "x = np.array([[1, 2, 3, 4], [5, 6, 7, 8], [9, 10, 11,12]])\n",
    "v=np.array([10,20,30,40])\n",
    "y = x + v  \n",
    "print(y)  "
   ]
  },
  {
   "cell_type": "markdown",
   "metadata": {},
   "source": [
    "# Exercise 2: Slicing, Reshaping and broadcasting"
   ]
  },
  {
   "cell_type": "markdown",
   "metadata": {},
   "source": [
    "Try the suggested options on the below 3D array X:\n",
    "\n",
    "1. Slice the third row, and second and 4th column \n",
    "    \n",
    "2. Reshape X into a (6,4) matrix\n",
    "\n",
    "3. What other configuration can you reshape X into?\n",
    "\n",
    "4. Create a matrix one ones in the same size as X; concatenate with X\n",
    "\n",
    "5. Create a new array of size (1,4,1) add it to X using broadcasting\n",
    "\n",
    "6. Create an array of size (4,6) and add a row vector to it by broadcasting\n"
   ]
  },
  {
   "cell_type": "code",
   "execution_count": null,
   "metadata": {},
   "outputs": [],
   "source": [
    "X=np.array([[0, 1, 2],[3,4,5],[6,7,8], [9,10,11], [12,13,14], [15,16,17],[18,19,20],[21,22,23]])\n",
    "\n",
    "# To do:  print X shape\n",
    "\n",
    "# 2.1 slice the third  and sizth row, with the second column to return a 2 x 1 array\n",
    "\n",
    "# 2.2. reshape X into a (6,4) matrix\n",
    "\n",
    "# 2.3 What other configuration can you reshape X into?\n",
    "\n",
    "# 2.4 Create a matrix one ones in the same size as X; concatenate with X first on rows then columns\n",
    "\n",
    "# 2.5 Create a new array of size (1,3) add it to X using broadcasting\n",
    "\n",
    "# 2.6 Create an array of size (4,6) and add a row vector to it by broadcasting\n"
   ]
  },
  {
   "cell_type": "markdown",
   "metadata": {},
   "source": [
    "## 4.7 Array Operations"
   ]
  },
  {
   "cell_type": "markdown",
   "metadata": {},
   "source": [
    "Numpy provides a vast array of different functions for operating on arrays. In this section we will introduce some of the most commonly used numpy functions, and those that will be used most in this course. \n",
    "\n",
    "Starting with some examples of elementwise operations. For these operators (```+,-,*,/``` etc) and have equivalent numpy functions (```add,subtract,multiply, divide```). Elementwise operations with scalars are also possible (essentially through broadcasting); see examples:"
   ]
  },
  {
   "cell_type": "code",
   "execution_count": 44,
   "metadata": {},
   "outputs": [
    {
     "name": "stdout",
     "output_type": "stream",
     "text": [
      "Elementwise sum between array [[1. 2.]\n",
      " [3. 4.]] and scalar 5 using + : [[6. 7.]\n",
      " [8. 9.]]\n",
      "Elementwise sum using + :\n",
      "[[11. 22.]\n",
      " [33. 44.]]\n",
      "Elementwise sum using np.add:\n",
      "[[11. 22.]\n",
      " [33. 44.]]\n",
      "Elementwise subtract using - :\n",
      "[[ -9. -18.]\n",
      " [-27. -36.]]\n",
      "Elementwise sum using np.subtract :\n",
      "[[ -9. -18.]\n",
      " [-27. -36.]]\n",
      "Elementwise multiply using * :\n",
      "[[ 10.  40.]\n",
      " [ 90. 160.]]\n",
      "Elementwise multiple using np.multiply :\n",
      "[[ 10.  40.]\n",
      " [ 90. 160.]]\n",
      "Elementwise division using / :\n",
      "[[0.1 0.1]\n",
      " [0.1 0.1]]\n",
      "Elementwise division using np.divide :\n",
      "[[0.1 0.1]\n",
      " [0.1 0.1]]\n"
     ]
    }
   ],
   "source": [
    "# define arrays as floats; ensures results of operations are also expressed as floats\n",
    "\n",
    "scalar=5\n",
    "A = np.array([[1,2],[3,4]], dtype=np.float64) \n",
    "B = np.array([[10,20],[30,40]], dtype=np.float64)\n",
    "\n",
    "# Elementwise sum; can use + or add\n",
    "print('Elementwise sum between array {} and scalar {} using + : {}'.format(A,scalar,A + scalar))\n",
    "print('Elementwise sum using + :')\n",
    "print(A + B)\n",
    "print('Elementwise sum using np.add:')\n",
    "print(np.add(A, B))\n",
    "# Elementwise difference; can use - or subtract\n",
    "print('Elementwise subtract using - :')\n",
    "print(A - B)\n",
    "print('Elementwise sum using np.subtract :')\n",
    "print(np.subtract(A, B))\n",
    "\n",
    "# Elementwise product; can use * or multiple\n",
    "print('Elementwise multiply using * :')\n",
    "print(A * B)\n",
    "print('Elementwise multiple using np.multiply :')\n",
    "print(np.multiply(A, B))\n",
    "\n",
    "# Elementwise division; can use \\ or divide\n",
    "print('Elementwise division using / :')\n",
    "print(A/B)\n",
    "print('Elementwise division using np.divide :')\n",
    "print(np.divide(A,B))"
   ]
  },
  {
   "cell_type": "markdown",
   "metadata": {},
   "source": [
    "Numpy also offers a comprehensive complement of matrix operations. However, it's important to be mindful about how each operates on vectors, matrices and higher dimensional tensors. \n",
    "\n",
    "For 1D arrays three different functions calculate the dot product: ```np.inner```, ```np.dot``` and ```np.matmul```. These functions start to diverge however at higher dimensions. Specifically the inner product (```np.inner```) returns the sum product of two matrices, whereas ```np.dot``` and ```np.matmul``` estimate the matrix product.\n",
    "\n",
    "For two matrices $A$ and $B$ this means that ```np.inner``` will estimate the matrix product $AB^T$ (to multiply and sum corresponding elements from the rows of $A$ and rows of $B$, whereas ```np.dot``` and ```np.matmul``` estimate $AB$ (the literal matrix product of $A$ and $B$, multiplying and summing elements from the rows of $A$ and columns of $B$)"
   ]
  },
  {
   "cell_type": "code",
   "execution_count": 45,
   "metadata": {
    "scrolled": true
   },
   "outputs": [
    {
     "name": "stdout",
     "output_type": "stream",
     "text": [
      "inner product of vectors :\n",
      "2\n",
      "dot product of vectors :\n",
      "2\n",
      "matrix product of vectors :\n",
      "2\n",
      "For matrices \n",
      " A=[[1. 2.]\n",
      " [3. 4.]] \n",
      " B=[[10. 20.]\n",
      " [30. 40.]] \n",
      " inner product=[[ 50. 110.]\n",
      " [110. 250.]] \n",
      "For matrices dot product= \n",
      "[[ 70. 100.]\n",
      " [150. 220.]] \n",
      "For matrices matrix product= \n",
      "[[ 70. 100.]\n",
      " [150. 220.]] \n"
     ]
    }
   ],
   "source": [
    "a = np.array([1,2,3])\n",
    "b = np.array([0,1,0])\n",
    "\n",
    "# perform inner product \n",
    "# for vectors all three of these method return\n",
    "# [a1b1,a2b2,a3b3]\n",
    "print('inner product of vectors :')\n",
    "print(np.inner(a,b))\n",
    "\n",
    "print('dot product of vectors :')\n",
    "print(np.dot(a,b))\n",
    "\n",
    "print('matrix product of vectors :')\n",
    "print(np.matmul(a,b))\n",
    "\n",
    "# For 2D arrays inner returns the sum product\n",
    "print('For matrices \\n A={} \\n B={} \\n inner product={} '.format(A,B,np.inner(A,B)))\n",
    "\n",
    "# whereas matmul and dot return matrix product\n",
    "print('For matrices dot product= \\n{} '.format(np.dot(A,B)))\n",
    "\n",
    "print('For matrices matrix product= \\n{} '.format(np.matmul(A,B)))\n"
   ]
  },
  {
   "cell_type": "markdown",
   "metadata": {},
   "source": [
    "At higher dimensions ```np.dot``` and ```np.matmul``` diverge with ```np.dot(A,B)``` estimating the sum product between the last axis of A and the penultimate axis of B; whereas ```np.matmul(A,B)``` performs matrix multiplication assuming stacks of matrices. \n",
    "\n",
    "Regardless, the TL;DR of all this is that you are probably safest using ```np.matmul()``` for your matrix and vector multiplication operations. \n",
    "\n",
    "Other potentially useful matrix product operations are:"
   ]
  },
  {
   "cell_type": "code",
   "execution_count": 46,
   "metadata": {},
   "outputs": [
    {
     "name": "stdout",
     "output_type": "stream",
     "text": [
      "outer product :\n",
      "[[0 1 0]\n",
      " [0 2 0]\n",
      " [0 3 0]]\n",
      "cross product :\n",
      "[-3  0  1]\n",
      "matrix transpose:\n",
      "[[1. 3.]\n",
      " [2. 4.]]\n"
     ]
    }
   ],
   "source": [
    "# perform outer product  =\n",
    "#[a1b1,a1b2,a1b3; \n",
    "# a2b1,a2b2,a2b3]\n",
    "# a3b1,a3b2,a3b3]\n",
    "print('outer product :')\n",
    "print(np.outer(a,b))\n",
    "\n",
    "# perform cross product  =\n",
    "# [ (a2b3-b2a3) , (a1b3-b1a3), (a1b2-b1a2)] \n",
    "print('cross product :')\n",
    "print(np.cross(a,b))\n",
    "\n",
    "# estimating a matrix transpose \n",
    "print('matrix transpose:')\n",
    "print(A.transpose()) # note here use of transpose as object attribute, equally accessible as np.transpose(A)\n",
    "\n"
   ]
  },
  {
   "cell_type": "markdown",
   "metadata": {},
   "source": [
    "And, operations for matrix factorisation are available including methods for square (```eig```) and non-square matrices (cholesky, ```cholesky``` and singular value decompsition, ```svd```):"
   ]
  },
  {
   "cell_type": "code",
   "execution_count": 47,
   "metadata": {},
   "outputs": [
    {
     "name": "stdout",
     "output_type": "stream",
     "text": [
      "Eigenvalues of square matrix: [ 1.61168440e+01 -1.11684397e+00 -9.75918483e-16]\n",
      "Eigenvectors of square matrix:\n",
      "[[-0.23197069 -0.78583024  0.40824829]\n",
      " [-0.52532209 -0.08675134 -0.81649658]\n",
      " [-0.8186735   0.61232756  0.40824829]]\n",
      "Singular values of non-square matrix: [2.54368356e+01 1.72261225e+00 4.20733283e-16]\n",
      "left singular vectors of non-square matrix:\n",
      "[[-0.20673589  0.88915331  0.40824829]\n",
      " [-0.51828874  0.25438183 -0.81649658]\n",
      " [-0.82984158 -0.38038964  0.40824829]]\n",
      "right singular vectors of non-square matrix:\n",
      "[[-0.40361757 -0.46474413 -0.52587069 -0.58699725]\n",
      " [-0.73286619 -0.28984978  0.15316664  0.59618305]\n",
      " [ 0.52407556 -0.81742848  0.06263029  0.23072264]\n",
      " [ 0.15920053  0.17835548 -0.83431256  0.49675655]]\n"
     ]
    }
   ],
   "source": [
    "# first estimate eigenvalues and vectors of a square matrix\n",
    "# A=PQP^(-1) with eigenvalues (Q) and vectors (P)\n",
    "mat1 = np.array([[1, 2, 3], [4, 5, 6], [7, 8, 9]])\n",
    "Q,P=np.linalg.eig(mat1)\n",
    "print('Eigenvalues of square matrix:',Q)\n",
    "print('Eigenvectors of square matrix:')\n",
    "print(P)\n",
    "\n",
    "# now estimate eigenvalues and vectors of a non-square matrix using svd\n",
    "# svd decomposition:\n",
    "# A=UDV* (where V* is conjugate transpose of V ; U and V are the left and right singular vectors of A,\n",
    "# D is a diagonal matrix conatining singular values)\n",
    "mat2 = np.array([[1, 2, 3, 4], [5, 6, 7, 8], [9, 10, 11,12]])\n",
    "u,d,v=np.linalg.svd(mat2)\n",
    "print('Singular values of non-square matrix:',d)\n",
    "print('left singular vectors of non-square matrix:')\n",
    "print(u)\n",
    "print('right singular vectors of non-square matrix:')\n",
    "print(v)\n",
    "\n"
   ]
  },
  {
   "cell_type": "markdown",
   "metadata": {},
   "source": [
    "More functions will be introduced over the course of the lecture series. However, for the full range of functions available from numpy please see the library manual: https://docs.scipy.org/doc/numpy-1.13.0/reference/index.html (in particular pages on mathematical functions https://docs.scipy.org/doc/numpy-1.13.0/reference/routines.math.html and linear algebra https://docs.scipy.org/doc/numpy-1.14.0/reference/routines.linalg.html). Note, it is also straightforward to search for the functions you need online or through stackoverflow. "
   ]
  },
  {
   "cell_type": "markdown",
   "metadata": {},
   "source": [
    "# Exercise 3: Array Operations"
   ]
  },
  {
   "cell_type": "markdown",
   "metadata": {},
   "source": [
    "Now try some array operations.\n",
    "\n",
    "Some other potentially useful elementwise operations include ```mean, std, var, sum, sqrt, fabs, exp ``` and ```log```. These estimate the  mean, standard deviation, variance, sum, square root, absolute values, exponentials and natural logs of all elements in an array. Try some of these, and other examples (https://docs.scipy.org/doc/numpy-1.14.0/reference/routines.math.html) below:"
   ]
  },
  {
   "cell_type": "code",
   "execution_count": null,
   "metadata": {},
   "outputs": [],
   "source": [
    "# define array with positives and negatives\n",
    "C = np.array([[16,64],[-25,4]], dtype=np.float64) \n",
    "\n",
    "# estimate mean of matrix elements (replace `None` with correct numpy function call)\n",
    "meanC=None\n",
    "\n",
    "# estimate the standard deviation and variance \n",
    "stdC=None\n",
    "varC=None\n",
    "\n",
    "# get absolute values \n",
    "fabsC=None\n",
    "\n",
    "# estimate square root of fabsC\n",
    "sqrtC=None\n",
    "\n",
    "# estimate exponential of fabsC\n",
    "expC=None\n",
    "\n",
    "# estimate natural log of fabsC\n",
    "logC=None\n",
    "\n",
    "# try some other functions \n",
    "\n",
    "# MATRIX OPERATIONS\n",
    "# if you are getting confused consider comparing results against those obtained in matlab \n",
    "\n",
    "# create 2 3x3 matrices\n",
    "\n",
    "# perform elementwise multiplication\n",
    "\n",
    "# perform matrix multiplication\n",
    "\n",
    "# estimate the eigenvalues and vectors of one matrix\n"
   ]
  },
  {
   "cell_type": "markdown",
   "metadata": {},
   "source": [
    "# Citation"
   ]
  },
  {
   "cell_type": "markdown",
   "metadata": {},
   "source": [
    "Travis E, Oliphant. A guide to NumPy, USA: Trelgol Publishing, (2006)."
   ]
  }
 ],
 "metadata": {
  "kernelspec": {
   "display_name": "Python 3",
   "language": "python",
   "name": "python3"
  },
  "language_info": {
   "codemirror_mode": {
    "name": "ipython",
    "version": 3
   },
   "file_extension": ".py",
   "mimetype": "text/x-python",
   "name": "python",
   "nbconvert_exporter": "python",
   "pygments_lexer": "ipython3",
   "version": "3.8.8"
  },
  "widgets": {
   "state": {},
   "version": "1.1.2"
  }
 },
 "nbformat": 4,
 "nbformat_minor": 2
}
