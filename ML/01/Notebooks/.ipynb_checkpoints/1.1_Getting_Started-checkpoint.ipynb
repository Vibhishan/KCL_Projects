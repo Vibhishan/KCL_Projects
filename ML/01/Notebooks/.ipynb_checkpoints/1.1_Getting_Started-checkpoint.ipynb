{
 "cells": [
  {
   "cell_type": "markdown",
   "metadata": {
    "slideshow": {
     "slide_type": "slide"
    }
   },
   "source": [
    "# Overview"
   ]
  },
  {
   "cell_type": "markdown",
   "metadata": {
    "slideshow": {
     "slide_type": "subslide"
    }
   },
   "source": [
    "The Python programming language was developed in the early 1990s by Dutch Programmer Guido Van Rossum. It represents a \n",
    "high-level, interpreted, interactive and object-oriented language which is designed to be fun and easy to use. These founding principles are reflected in the origin of its name, which is inspired by the classic comedy show 'Monty Python's Flying Circus'\n",
    "\n",
    "Since this time, popularity for Python has grown consideriably to the point where it is now one of the 2 most widely used programming languages adopted within the Machine Learning and Data Science communities. The other being the statistical programming language R.\n"
   ]
  },
  {
   "cell_type": "markdown",
   "metadata": {
    "slideshow": {
     "slide_type": "slide"
    }
   },
   "source": [
    "# Advantages of Python"
   ]
  },
  {
   "cell_type": "markdown",
   "metadata": {
    "slideshow": {
     "slide_type": "subslide"
    }
   },
   "source": [
    "Python is **Interpreted** and ** Interactive ** \n"
   ]
  },
  {
   "cell_type": "markdown",
   "metadata": {
    "slideshow": {
     "slide_type": "subslide"
    }
   },
   "source": [
    "-  Code is processed at runtime \n",
    "-  There is no need to compile before execution (similar to Matlab)\n",
    "-  Thus code can be run line by line (similar to Matlab)\n"
   ]
  },
  {
   "cell_type": "markdown",
   "metadata": {
    "slideshow": {
     "slide_type": "subslide"
    }
   },
   "source": [
    "Like C++ Python is **Object-Oriented**; thus code can be structured into Classes and Objects. Because it is modular, code can be reused (inherited) this makes it easier and faster to develop, and easier to maintain.\n",
    "\n"
   ]
  },
  {
   "cell_type": "markdown",
   "metadata": {
    "slideshow": {
     "slide_type": "slide"
    }
   },
   "source": [
    "Generally, Python syntax is simple, with clear structure, which makes it easy to learn. It is also highly portable: code written on one operating system (be it Unix, Mac OS, Windows, Android, or IOS) can be simply ported to another. Finally, the fact that Python is open source has resulted in the development a wide range of easy to use, and well supported, packages for numerical and image analysis. We will make use of these over the course of this lecture series. The packages most important for this course are:\n",
    "\n",
    "- numpy (matrix library)\n",
    "- scikit learn (machine learning)\n",
    "- MatplotLib (Matlab-like plotting functionaliy)\n",
    "\n",
    "I also recommend \n",
    "- Pandas (a powerful tool for manipulation of spreadsheet like objects)\n",
    "- nibabel (for reading medical image file formats)\n"
   ]
  },
  {
   "cell_type": "markdown",
   "metadata": {
    "slideshow": {
     "slide_type": "slide"
    }
   },
   "source": [
    "# Learning Objectives"
   ]
  },
  {
   "cell_type": "markdown",
   "metadata": {
    "slideshow": {
     "slide_type": "subslide"
    }
   },
   "source": [
    "The goals of this short course on Python is to give a basic introduction upon which we can build over the course of the Machine Learning for Biomedical Imaging Course. By the end of this week you should:\n",
    "\n",
    "- Program using Python Integrated Development Environments (IDEs) and gain familiarity with Ipython Notebooks\n",
    "- Manipulate simple variable types, operators and conditions\n",
    "- Write loops and functions, and control flow through indentation\n",
    "- Understand how to use modules, packages and classes\n",
    "- Gain familiarity with the matrix package (Numpy)"
   ]
  },
  {
   "cell_type": "markdown",
   "metadata": {
    "slideshow": {
     "slide_type": "subslide"
    }
   },
   "source": [
    "# Install"
   ]
  },
  {
   "cell_type": "markdown",
   "metadata": {
    "slideshow": {
     "slide_type": "slide"
    }
   },
   "source": [
    "There are many choices of excellent IDEs suitable for Python development including Spyder, Atom and Pycharm. In this course we will use Anaconda with Spyder. \n",
    "\n",
    "* Download the Python 3.8 version for your OS at https://www.anaconda.com/download\n",
    "* Follow install instructions: http://docs.anaconda.com/anaconda/install/ (Windows/OSX: Install by running the executable, Linux: Install by interpreting downloaded file with bash)\n",
    "* Spyder will be a separate executable in the Anaconda directory ($HOME/anaconda3/bin in Linux or %HOME%\\anaconda3\\Scripts in Windows)"
   ]
  },
  {
   "cell_type": "markdown",
   "metadata": {},
   "source": [
    "# Ipython (Jupyter) Notebooks"
   ]
  },
  {
   "cell_type": "markdown",
   "metadata": {},
   "source": [
    "Ipython Notebooks are extremely versatile tools that provide a platform independant python environment within a browser. In these, code segments can be supported by blocks of explanatory text. Different types of information can be provided in different 'cell' types; these include: headers, text (markdown) or code:\n",
    "\n",
    "![title](imgs/Jupyterscreenshot.png)\n"
   ]
  },
  {
   "cell_type": "markdown",
   "metadata": {},
   "source": [
    "Notebooks can be readily edited from any browser, providing an interactive environment for real-time code testing. Accordingly, all tutorials and lectures in this course will be supported through Jupyter notebook. "
   ]
  },
  {
   "cell_type": "markdown",
   "metadata": {
    "slideshow": {
     "slide_type": "slide"
    }
   },
   "source": [
    "# A note on Python 2.x and Python 3.x"
   ]
  },
  {
   "cell_type": "markdown",
   "metadata": {
    "slideshow": {
     "slide_type": "subslide"
    }
   },
   "source": [
    "For some time two versions of Python have been supported and developed concurrently. This is because Python version 3 was designed as a major overhaul to the original version of python in order to clean up the codebase (i.e. improve the way integers are divided) and reduce redundancy (ensure there is only one way to perform a given task).\n",
    "\n",
    "On the whole since the release of Python 2.7, the differences between the versions are generally minor. One example is the print function. If you wish to display some text, or the values of some variables alongside some text. In python 2 you type print ‘some text’ in Python 3 it is print(‘some text’)\n",
    "Indeed python 2.7 was designed to incorporate many of the features of Python 3 in order to smooth the transition for developers. However, now Python 2 will no longer be supported; major packages (particularly those key to this course) have ported to version 3 and announced that they will no longer support Python 2.\n",
    "\n",
    "Thus for this course all tutorials and examples will be given as Python 3 code. We will expect that all coursework be submitted as Python 3, and anyone found not to follow this guidance will automatically receive a 5% reduction in their grade.\n",
    "\n",
    "** Use of Python 3 is compulsory for this course, failure to follow these guidelines will result in automatic penalities for submitted work **\n",
    "\n"
   ]
  },
  {
   "cell_type": "markdown",
   "metadata": {
    "slideshow": {
     "slide_type": "slide"
    }
   },
   "source": [
    "# What if I get stuck?"
   ]
  },
  {
   "cell_type": "markdown",
   "metadata": {
    "slideshow": {
     "slide_type": "subslide"
    }
   },
   "source": [
    "As Python is such a well supported and thriving community, if you come across any problems with coding you should be able to Google the answer, 9.9 times out of ten the answer will pop up on Stack Overflow https://stackoverflow.com/\n",
    "If you cannot find the answer there, then consider posting a question; you can expect a quick response.\n",
    "\n",
    "On the other hand, if the question is specifically related to the course materials please post your question to the course forum by 7pm (UK time) each Monday evening (in preparation for the synchronous session on Tuesday mornings).\n",
    "\n",
    "\n",
    "### Office hours\n",
    "\n",
    "Dr Deprez and Dr Robinson will stay online for 1hr after the Tuesday tutorial (from 12-1pm) to answer any questions that haven't been resolved via the forum or during the session."
   ]
  },
  {
   "cell_type": "markdown",
   "metadata": {
    "slideshow": {
     "slide_type": "slide"
    }
   },
   "source": [
    "# External Resources"
   ]
  },
  {
   "cell_type": "markdown",
   "metadata": {
    "slideshow": {
     "slide_type": "subslide"
    }
   },
   "source": [
    "Official Python tutorial:\n",
    "- https://www.learnpython.org/\n",
    "- https://docs.python.org/3/tutorial/\n",
    "Code Academy:\n",
    "- https://www.codecademy.com/learn/learn-python\n",
    "Book: Learn Python the Hard Way\n",
    "- https://learnpythonthehardway.org/book\n"
   ]
  },
  {
   "cell_type": "markdown",
   "metadata": {
    "slideshow": {
     "slide_type": "subslide"
    }
   },
   "source": [
    "Please explore these in your own time. After this week the course will move on to machine learning topics, which you will be expected to adopt though Python. Extensive time in lectures will not be given to basic coding questions"
   ]
  },
  {
   "cell_type": "code",
   "execution_count": null,
   "metadata": {
    "collapsed": true
   },
   "outputs": [],
   "source": []
  }
 ],
 "metadata": {
  "kernelspec": {
   "display_name": "Python 3",
   "language": "python",
   "name": "python3"
  },
  "language_info": {
   "codemirror_mode": {
    "name": "ipython",
    "version": 3
   },
   "file_extension": ".py",
   "mimetype": "text/x-python",
   "name": "python",
   "nbconvert_exporter": "python",
   "pygments_lexer": "ipython3",
   "version": "3.6.8"
  }
 },
 "nbformat": 4,
 "nbformat_minor": 2
}
