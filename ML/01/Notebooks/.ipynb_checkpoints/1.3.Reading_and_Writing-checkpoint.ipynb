{
 "cells": [
  {
   "cell_type": "markdown",
   "metadata": {},
   "source": [
    "# Reading and Writing\n",
    "\n",
    "An important component of any program is how you take input and return output from your programmes. In this video we will discuss how to print, take input from the keyboard and read and write to files using the Python Standard Library"
   ]
  },
  {
   "cell_type": "markdown",
   "metadata": {},
   "source": [
    "Over the course of the lecture series we will introduce a variety of python packages that offer specialised file reading and writing functionality. However, for reading and writing from text files, and for command line user input the Standard Library is sufficient."
   ]
  },
  {
   "cell_type": "markdown",
   "metadata": {},
   "source": [
    "## Input via the keyboard"
   ]
  },
  {
   "cell_type": "markdown",
   "metadata": {},
   "source": [
    "For keyboard input Python provides the function ```input()```. Taking as example ``` name = input(\"What's your name? \") ```, trying running the function keyboardinput.py from your command line. \n",
    "\n",
    "**Exercise** Now try creating a new '.py' script that will ask the user to guess a number from 1 to 9. If the user guesses wrong then the prompt appears again until the guess is correct, on successful guess, user will get a \"Well guessed!\" message, and the program will exit."
   ]
  },
  {
   "cell_type": "markdown",
   "metadata": {
    "collapsed": true
   },
   "source": [
    "## Reading and Writing from files"
   ]
  },
  {
   "cell_type": "markdown",
   "metadata": {},
   "source": [
    "The syntax for reading and writing files in Python is similar to that of C, C++. Essentially first files must be opened:"
   ]
  },
  {
   "cell_type": "code",
   "execution_count": 1,
   "metadata": {},
   "outputs": [],
   "source": [
    "fobj = open(\"emptyfile.txt\", \"w\") # open for writing\n",
    "fobj = open(\"nameslist.txt\", \"r\") # open for reading\n"
   ]
  },
  {
   "cell_type": "markdown",
   "metadata": {},
   "source": [
    "Note, the use of the second argument to indicate what we intend to do with the file (in this case 'r' for reading or 'w' for writing.)  Once you have finished using the file you should close it with ```fobj.close()``` to close the file and immediately free up any system resources used by it. Alternatively, it is better practice to use the keyword ```with```. This ensures that the file is properly closed after its suite finishes, even if an exception is raised at some point e.g."
   ]
  },
  {
   "cell_type": "code",
   "execution_count": 2,
   "metadata": {},
   "outputs": [
    {
     "name": "stdout",
     "output_type": "stream",
     "text": [
      "<class 'str'>\n"
     ]
    }
   ],
   "source": [
    "with open(\"nameslist.txt\", \"r\") as f:\n",
    "    all_content = f.read()\n",
    "    \n",
    "print(all_content)"
   ]
  },
  {
   "cell_type": "markdown",
   "metadata": {},
   "source": [
    "Here, the entire output is passed to a single string. To read data, line by line into an array:"
   ]
  },
  {
   "cell_type": "code",
   "execution_count": 3,
   "metadata": {},
   "outputs": [
    {
     "name": "stdout",
     "output_type": "stream",
     "text": [
      "['Emma\\n', 'Maria\\n', 'Julia\\n', 'Andy\\n', 'Eric\\n', 'James\\n']\n"
     ]
    }
   ],
   "source": [
    "with open(\"nameslist.txt\", \"r\") as f:\n",
    "    content = f.readlines()\n",
    "    \n",
    "print(content)"
   ]
  },
  {
   "cell_type": "markdown",
   "metadata": {},
   "source": [
    "To strip away the end of line characters apply:"
   ]
  },
  {
   "cell_type": "code",
   "execution_count": 4,
   "metadata": {},
   "outputs": [
    {
     "name": "stdout",
     "output_type": "stream",
     "text": [
      "['Emma', 'Maria', 'Julia', 'Andy', 'Eric', 'James']\n"
     ]
    }
   ],
   "source": [
    "content = [x.strip() for x in content]\n",
    "print(content)"
   ]
  },
  {
   "cell_type": "markdown",
   "metadata": {},
   "source": [
    "Alternatively, read file content line by line, in a loop:"
   ]
  },
  {
   "cell_type": "code",
   "execution_count": 5,
   "metadata": {},
   "outputs": [
    {
     "name": "stdout",
     "output_type": "stream",
     "text": [
      "Emma\n",
      "\n",
      "Maria\n",
      "\n",
      "Julia\n",
      "\n",
      "Andy\n",
      "\n",
      "Eric\n",
      "\n",
      "James\n",
      "\n"
     ]
    }
   ],
   "source": [
    "with open(\"nameslist.txt\", \"r\") as f:\n",
    "    for line in f:\n",
    "        print(line)"
   ]
  },
  {
   "cell_type": "markdown",
   "metadata": {},
   "source": [
    "For writing ```f.write(string)``` writes the contents of string to the file, returning the number of characters written. Thus, for example we can open nameslist.txt for appending with 'a' and then add an extra name to it, e.g.:\n"
   ]
  },
  {
   "cell_type": "code",
   "execution_count": 6,
   "metadata": {},
   "outputs": [],
   "source": [
    "f = open(\"nameslist.txt\", \"a\") # open for reading\n",
    "f.write('Bob \\n')\n",
    "f.close()\n"
   ]
  },
  {
   "cell_type": "markdown",
   "metadata": {},
   "source": [
    "Alternatively, we can write to a new file line by line as:"
   ]
  },
  {
   "cell_type": "code",
   "execution_count": 7,
   "metadata": {},
   "outputs": [],
   "source": [
    "with open(\"emptyfile.txt\", \"w\") as f:\n",
    "    f.write(\"This is a copy of 'nameslist.txt' \\n\")\n",
    "    for line in content:\n",
    "        f.write(line + '\\n')"
   ]
  },
  {
   "cell_type": "code",
   "execution_count": 8,
   "metadata": {},
   "outputs": [],
   "source": [
    "fobj.close()"
   ]
  },
  {
   "cell_type": "markdown",
   "metadata": {},
   "source": [
    "## Exercise"
   ]
  },
  {
   "cell_type": "markdown",
   "metadata": {},
   "source": [
    "Try creating a few read and write operations of your own:\n",
    "\n",
    "1. Create an empty text file and read it in\n",
    "        - all at once. What type of object does this return (**hint** use the built in function type())\n",
    "        - line by line\n",
    "2. Try adding an if statement that only reads in lines with certain content\n",
    "3. Edit your original list, line by line and write out to a new file."
   ]
  },
  {
   "cell_type": "code",
   "execution_count": null,
   "metadata": {},
   "outputs": [],
   "source": []
  },
  {
   "cell_type": "markdown",
   "metadata": {
    "collapsed": true,
    "hideCode": true,
    "hideOutput": true
   },
   "source": [
    "# Pickling"
   ]
  },
  {
   "cell_type": "markdown",
   "metadata": {},
   "source": [
    "_Pickling_ is the process of converting a Python Object into a Byte stream. Any object in python can be saved as a pickle file. For example saving a Python Dictionary as a pickle:\n"
   ]
  },
  {
   "cell_type": "code",
   "execution_count": 9,
   "metadata": {},
   "outputs": [],
   "source": [
    "import pickle\n",
    "\n",
    "mydict={}\n",
    "mydict['Name']='Dave'\n",
    "mydict['Age']=23\n",
    "mydict['job']='Lecturer'\n",
    "mydict['height']=190\n",
    "\n",
    "with open('my_pickle.pkl', 'wb') as handle:\n",
    "    pickle.dump(mydict, handle, protocol=pickle.HIGHEST_PROTOCOL)"
   ]
  },
  {
   "cell_type": "markdown",
   "metadata": {},
   "source": [
    "Reading from a pickle file is then conducted as:"
   ]
  },
  {
   "cell_type": "code",
   "execution_count": 10,
   "metadata": {},
   "outputs": [
    {
     "name": "stdout",
     "output_type": "stream",
     "text": [
      "True\n"
     ]
    }
   ],
   "source": [
    "with open('my_pickle.pkl', 'rb') as handle:\n",
    "    new_dict = pickle.load(handle)\n",
    "\n",
    "print(mydict == new_dict)"
   ]
  },
  {
   "cell_type": "markdown",
   "metadata": {},
   "source": [
    "Pickles are particularly useful for saving large spreadsheets of tabulated data, and we will come to use them in conjunction with the ```pandas``` package later in the course"
   ]
  },
  {
   "cell_type": "code",
   "execution_count": null,
   "metadata": {},
   "outputs": [],
   "source": []
  }
 ],
 "metadata": {
  "kernelspec": {
   "display_name": "Python 3",
   "language": "python",
   "name": "python3"
  },
  "language_info": {
   "codemirror_mode": {
    "name": "ipython",
    "version": 3
   },
   "file_extension": ".py",
   "mimetype": "text/x-python",
   "name": "python",
   "nbconvert_exporter": "python",
   "pygments_lexer": "ipython3",
   "version": "3.6.8"
  },
  "widgets": {
   "state": {},
   "version": "1.1.2"
  }
 },
 "nbformat": 4,
 "nbformat_minor": 2
}
