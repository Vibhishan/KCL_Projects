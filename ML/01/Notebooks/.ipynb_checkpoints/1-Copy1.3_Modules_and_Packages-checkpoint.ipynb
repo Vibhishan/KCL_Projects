{
 "cells": [
  {
   "cell_type": "markdown",
   "metadata": {},
   "source": [
    "# 3 Modules, Packages and Classes "
   ]
  },
  {
   "cell_type": "markdown",
   "metadata": {},
   "source": [
    "\n",
    "When working with Python interactively, as we have thus far been doing, all functions that we define are available only within that notebook. This would similarly be the case if we were to write a simple script within an IDE.\n",
    "\n",
    "Thus, in order to write more complex programs it is important to be able to write code in carefully organised and structured files that can then be accessed from the main program. To support this Python has a way to put definitions in a file and use them in a script or in an interactive instance. This type of file is called a _Module_. Groups of related modules can be used to create _Packages_. As Python is open source and utlised by a broad community in research/industry, a wide variety of advanced and well documented/supported packages for machine learning and statistics  are well supported and documented.\n",
    "\n",
    "In this notebook we will discuss how to create modules and call them from scripts. We will list some useful modules from the Python standard library, then introduce the names of Python packages that will be used throughout the course. At the end we will introduce the topic of Object Oriented programming in Python. "
   ]
  },
  {
   "cell_type": "markdown",
   "metadata": {},
   "source": [
    "## 3.1 Python .py files"
   ]
  },
  {
   "cell_type": "markdown",
   "metadata": {},
   "source": [
    "Similarly to Matlab scripts python (.py) files can have many uses. They can be used to encapsulate modules and classes. Or they can be used to write a script that imports external modules, reads in data, then processes the data through application of inline code and functions. "
   ]
  },
  {
   "cell_type": "markdown",
   "metadata": {},
   "source": [
    "## 3.2 Modules"
   ]
  },
  {
   "cell_type": "markdown",
   "metadata": {},
   "source": [
    "We will start by creating our own module containing some simple math functions 'simplemath.py'. In this we will provide simple math operations on two inputs:\n",
    "\n",
    "**To do** \n",
    "- Create a script and save it as 'simplemath.py' in this notebook folder \n",
    "- copy and paste the following functions into that file"
   ]
  },
  {
   "cell_type": "code",
   "execution_count": null,
   "metadata": {},
   "outputs": [],
   "source": [
    "def mysum(x,y):\n",
    "    return x+y\n",
    "\n",
    "def mult(x,y):\n",
    "    return x*y\n",
    "\n",
    "def divide(x,y):\n",
    "    return x/y"
   ]
  },
  {
   "cell_type": "markdown",
   "metadata": {},
   "source": [
    "Now we will call these functions in a separate Python script 'apply_simple_functions.py'. \n",
    "\n",
    "**To do** \n",
    "- Create another script and save it as 'apply_simple_functions.py', as shown in the video lecture\n",
    "- make sure to save it in the same folder as 'simplemath.py' ) i.e. in this notebook folder \n",
    "- copy the below lines of code into that file\n",
    "\n",
    "**Note** the below lines of code will not run until you create `simplemath.py` and save it in the same folder as this notebook. If you get stuck examples will be provided with notebook solutions (following Tuesdays session)"
   ]
  },
  {
   "cell_type": "code",
   "execution_count": null,
   "metadata": {
    "scrolled": true
   },
   "outputs": [],
   "source": [
    "import simplemath as sm # load module\n",
    "\n",
    "\n",
    "# define variables\n",
    "x=2\n",
    "y=5\n",
    "\n",
    "print('output sum of x and y:', sm.mysum(x,y))\n",
    "print('output product of x and y:', sm.mult(x,y))\n",
    "print('output quotient of x and y:', sm.divide(x,y))\n"
   ]
  },
  {
   "cell_type": "markdown",
   "metadata": {},
   "source": [
    "The functions defined in the module are now available in the script (and this notebook) by simply prefixing with the name given to the module when it is imported. \n",
    "\n",
    "It is also possible to just load selective functions from a module using the ```from``` syntax:"
   ]
  },
  {
   "cell_type": "code",
   "execution_count": null,
   "metadata": {
    "scrolled": true
   },
   "outputs": [],
   "source": [
    "from simplemath import mysum as simplesum # note use of 'as' here, allows the change of names of functions \n",
    "from simplemath import divide # alternatively you can use the original function name here\n",
    "\n",
    "# in both cases you no longer need to prefix the function name with the module \n",
    "print('output sum of x and y:', simplesum(x,y))\n",
    "print('output sum of x/y:', divide(x,y))"
   ]
  },
  {
   "cell_type": "markdown",
   "metadata": {},
   "source": [
    "Alternatively all functions can be imported using ```*``` . When imported in this way you don't need to use the module prefix when calling each function "
   ]
  },
  {
   "cell_type": "code",
   "execution_count": null,
   "metadata": {},
   "outputs": [],
   "source": [
    "from simplemath import * \n",
    "\n",
    "print('output sum of x and y:', mysum(x,y))\n",
    "print('output product of x and y:', mult(x,y))\n",
    "print('output quotient of x and y:', divide(x,y))\n",
    "\n"
   ]
  },
  {
   "cell_type": "markdown",
   "metadata": {},
   "source": [
    "## Standard Modules"
   ]
  },
  {
   "cell_type": "markdown",
   "metadata": {},
   "source": [
    "Some modules come packaged with Python as standard. Useful examples include, ```os```:"
   ]
  },
  {
   "cell_type": "code",
   "execution_count": null,
   "metadata": {},
   "outputs": [],
   "source": [
    "import os\n",
    "\n",
    "dirname='/some/path/to/directory'\n",
    "filename='myfile.txt'\n",
    "\n",
    "print('my file path is:', os.path.join(dirname,filename)) # intelligent concatenation of path components\n",
    "print('my file path exists:', os.path.exists(os.path.join(dirname,filename))) # checks whether file exists\n"
   ]
  },
  {
   "cell_type": "markdown",
   "metadata": {},
   "source": [
    "```os``` performs useful operations on filenames; for more examples see https://docs.python.org/3/library/os.path.html#module-os.path. Also, ```sys```: this allows the addition or removal of paths from your python search path (https://docs.python.org/3/library/sys.html#module-sys), and is useful when you want to add the location of new modules to your path for example: "
   ]
  },
  {
   "cell_type": "code",
   "execution_count": null,
   "metadata": {
    "scrolled": true
   },
   "outputs": [],
   "source": [
    "import sys\n",
    "\n",
    "print('system path:', sys.path)\n",
    "\n",
    "# add path to your system\n",
    "sys.path.append('/some/path/')\n",
    "print('after append system path:', sys.path)\n",
    "\n",
    "#remove path from your system\n",
    "sys.path.remove('/some/path/')"
   ]
  },
  {
   "cell_type": "markdown",
   "metadata": {},
   "source": [
    "```random``` is a random number generator"
   ]
  },
  {
   "cell_type": "code",
   "execution_count": null,
   "metadata": {},
   "outputs": [],
   "source": [
    "import random\n",
    "\n",
    "mult=25\n",
    "\n",
    "rand_int = random.randint(1, 10) # random int in defined range\n",
    "rand_float = random.random() # random float between 0 and 1\n",
    "rand_float_gen = random.random()*mult # random float between 0 and 25\n",
    "\n",
    "print('my random integer is: ', rand_int)\n",
    "print('my random float (between 0 and 1) is: ', rand_float)\n",
    "print('my random float (between 0 and {}) is: {}'.format(mult,rand_float_gen))\n",
    "\n"
   ]
  },
  {
   "cell_type": "markdown",
   "metadata": {},
   "source": [
    "```math``` is Python's standard math module:"
   ]
  },
  {
   "cell_type": "code",
   "execution_count": null,
   "metadata": {},
   "outputs": [],
   "source": [
    "import math\n",
    "\n",
    "x=2.2\n",
    "y=4\n",
    "\n",
    "print('ceil of {} is {}'. format(x,math.ceil(x)))\n",
    "print('{} to the power {} is {}'.format(x,y,math.pow(x,y)))\n",
    "print('The natural log of {} is {}'.format(x,math.log(x)))"
   ]
  },
  {
   "cell_type": "markdown",
   "metadata": {},
   "source": [
    "For an extensive list of all standard math operations see https://docs.python.org/3/library/math.html#module-math. Finally, copy which was introduced in the previous notebook for generation of hard copies of objects in memory (https://docs.python.org/3/library/copy.html). "
   ]
  },
  {
   "cell_type": "code",
   "execution_count": null,
   "metadata": {},
   "outputs": [],
   "source": [
    "import copy\n",
    "\n",
    "mylist=['Alice', 'Fred', 'Bob', 'John', 'Steve']\n",
    "\n",
    "# deep copy will make a complete copy of the object mylist \n",
    "# such that my_list_copy will not be changed if my_list is changed\n",
    "mylist_copy=copy.deepcopy(mylist) \n",
    "\n",
    "passing_by_object2(mylist)\n",
    "print('My original list is:', mylist) # The original lists changes\n",
    "print('My copy list is:', mylist_copy) # But the copy does not"
   ]
  },
  {
   "cell_type": "markdown",
   "metadata": {},
   "source": [
    "For more examples of standard modules see https://docs.python.org/3/py-modindex.html"
   ]
  },
  {
   "cell_type": "markdown",
   "metadata": {},
   "source": [
    "# Classes and Objects"
   ]
  },
  {
   "cell_type": "markdown",
   "metadata": {},
   "source": [
    "Python is an object-oriented language. This allows the structuring of code into classes, allowing a clean and efficient coding style which improves code structure and reuse. The basic structure of a Python class can be written in pseudo code as \n",
    "\n",
    "```\n",
    "class ClassName:\n",
    "    <statement-1>\n",
    "    .\n",
    "    .\n",
    "    .\n",
    "    <statement-N>\n",
    "\n",
    "```\n",
    "Where it is necessary to start classes with an constructor (instantiation function) such as:"
   ]
  },
  {
   "cell_type": "code",
   "execution_count": null,
   "metadata": {},
   "outputs": [],
   "source": [
    "class MyClass:\n",
    "    \"\"\"A simple example class\"\"\"\n",
    "\n",
    "    def __init__(self): # constructor\n",
    "        self.data = []\n",
    "        \n",
    "x=MyClass() # creates new instance of class"
   ]
  },
  {
   "cell_type": "markdown",
   "metadata": {},
   "source": [
    "The task of constructors is to initialize(assign values) to the data members of the class when an object of class is created.In Python the constructor is formed from the ```__init__()``` method; it is always called when an object is created."
   ]
  },
  {
   "cell_type": "code",
   "execution_count": null,
   "metadata": {},
   "outputs": [],
   "source": [
    "class MyClass:\n",
    "    \"\"\"A simple example class\"\"\"\n",
    "    \n",
    "    # creating a class attribute - this will be the same for all instance of a class\n",
    "    my_class_attribute='bananas'\n",
    "    def __init__(self): \n",
    "        self.data = []\n",
    "        #creating an instance attribute - this value will be specific to this instance of the class\n",
    "        self.instance_attr = random.randint(1, 100)\n",
    "        \n",
    "    \n",
    "    def f(self): # function -> object method\n",
    "        return 'hello world'\n",
    "    \n",
    "x=MyClass() # creates new instance of class\n",
    "\n",
    "print(x.f()) # now run the class sub function f\n",
    "\n",
    "# print out attributes\n",
    "print('class attribute: {} and instance attribute: {} of object x'.format(x.my_class_attribute, x.instance_attr)) \n",
    "\n",
    "# now let'. create a new instance and observe it's attribute behaviour\n",
    "y=MyClass()\n",
    "print('class attribute: {} and instance attribute: {} of object y'.format(y.my_class_attribute, y.instance_attr) )\n"
   ]
  },
  {
   "cell_type": "markdown",
   "metadata": {},
   "source": [
    "Classes contain attributes and methods (function) definitions. An attribute may be defined outside of the constructor e.g. ```my_class_attribute```. This will be the same (```'bananas'```) for every single instance of the class.\n",
    "\n",
    "Additionally, each instance may have it's own attributes. In the above example we assign  ```self.instance_attr``` a random integer, but more often these attributes will decribe properties of the object being created (typically, initialised from arguments to the init function) e.g. see the ```shape, size, ndim, dtype``` attributes of Numpy matrices in the next notebook. \n",
    "\n",
    "Understanding of the formatting of Python classes is essential knowledge for development of advanced python packages. However, in this course we will stick to relatively simple scripting. We leave investigation of more advanced features to the reader. For more materials on Python Classes see: https://docs.python.org/3/tutorial/classes.html. \n",
    "\n",
    "Note, while we do not create classes we will use them, particularly when applying the machine learning and matrix libraries, so it's worth being aware of them.\n",
    "\n",
    "**Optional Exercise**: Define a class representing a point in 2D space which has members for storing x and y position, and methods for calculating cartesian length."
   ]
  },
  {
   "cell_type": "code",
   "execution_count": null,
   "metadata": {},
   "outputs": [],
   "source": [
    "# Exercise create simple class"
   ]
  },
  {
   "cell_type": "markdown",
   "metadata": {},
   "source": [
    "# Packages"
   ]
  },
  {
   "cell_type": "markdown",
   "metadata": {
    "collapsed": true
   },
   "source": [
    "Python packages are collections of related classes and modules; designed to solve some umbrella task. A wide variety of externally supported and well documented packages exist to meet a variety of advanced programming requirements. Examples of some that will be key to this module include:\n",
    "\n",
    "-  Numpy (library for manipulation of arrays; including powerful linear algebra implementations, http://www.numpy.org/)\n",
    "-  Matplotlib (plotting library, https://matplotlib.org/)\n",
    "-  Scikit Learn (very powerful machine learning library, http://scikit-learn.org/stable/)\n",
    "\n",
    "You will also have the opportunity to explore:\n",
    "\n",
    "-  Pandas (powerful tool for creating and manipulating complex tabulated data sheets https://pandas.pydata.org/)\n",
    "-  Nibabel (library for reading medical image formats, http://nipy.org/nibabel/)\n",
    "\n",
    "We will learn about these packages as we go through the course. Remember always to cite these packages where you use them."
   ]
  },
  {
   "cell_type": "markdown",
   "metadata": {},
   "source": [
    "## Installing Packages"
   ]
  },
  {
   "cell_type": "markdown",
   "metadata": {},
   "source": [
    "There are two ways to install packages: 1) through Anaconda; 2) Through the python installer package ```pip```.\n",
    "\n",
    "Assuming you have installed Anaconda then all the above packages should be already installed. However, if not  packages can be installed through the system terminal (cmd in windows) and  running of ```conda install <package> ```. Packages can be updated through ```conda update ``` \n",
    "\n",
    "Sometimes, packages are not available to Anaconda. In these cases, and for systems where Anaconda is not used then ```pip``` is preferable. Packages are installed using ```pip install package ``` and updated with ```pip install package --upgrade```. \n",
    "\n",
    "Note the ```pip``` program is installed with Anaconda by default and should be installed with other Python packages. However, should you need it and not have it you can download or upgrade via https://pip.pypa.io/en/stable/installing/"
   ]
  },
  {
   "cell_type": "markdown",
   "metadata": {
    "collapsed": true
   },
   "source": [
    "# Citing"
   ]
  },
  {
   "cell_type": "markdown",
   "metadata": {},
   "source": [
    "Where project code is heavily derived from existing Python Packages it is very important to cite the original projects in resulting projects and papers. This is particularly true for research derived and supported packages such as Scikit-Learn:\n",
    "\n",
    "See https://www.scipy.org/citing.html for full citation list\n",
    "\n"
   ]
  }
 ],
 "metadata": {
  "kernelspec": {
   "display_name": "Python 3",
   "language": "python",
   "name": "python3"
  },
  "language_info": {
   "codemirror_mode": {
    "name": "ipython",
    "version": 3
   },
   "file_extension": ".py",
   "mimetype": "text/x-python",
   "name": "python",
   "nbconvert_exporter": "python",
   "pygments_lexer": "ipython3",
   "version": "3.6.8"
  }
 },
 "nbformat": 4,
 "nbformat_minor": 2
}
