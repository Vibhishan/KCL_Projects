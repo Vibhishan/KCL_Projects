{
 "cells": [
  {
   "cell_type": "markdown",
   "metadata": {},
   "source": [
    "# Introduction\n",
    "\n",
    "In this notebook we first cover conditional (```if```) statements and ```for``` /```while``` statements, before discussing how to loop over lists and dictionaries. At the end we look at defining and using, functions in Python."
   ]
  },
  {
   "cell_type": "markdown",
   "metadata": {},
   "source": [
    "# 2. General Features of Control Flow Statements\n",
    "\n",
    "In python the flow of code through a program can be controlled by a variety of different types of statements. In this notebook we consider ```if```, ```for```  and ```while``` statements, but you may also come across ```try``` statements (which specify exception handlers and/or cleanup code) or ```with``` statements (which allows execution of initialization and finalization code, prior to running a block of code).\n",
    "\n",
    "All control flow statements share a common form. In pseudo code this is \n",
    "\n",
    "```\n",
    "main body of code \n",
    "\n",
    "control flow (if/for/while/try/with) statement : \n",
    "    statement \n",
    "    statement\n",
    "    \n",
    "return to main body of code \n",
    "```\n",
    "Note, the most important inclusion of a colon at the end of the header statement, followed by the indented lines which signify the block of code to be run (or not run) as a response to the header.\n",
    "\n",
    "## 2.1 Indentation is everything\n",
    "\n",
    "Unlike matlab, which uses an 'end' to signal the end of a loop or statement, in Python control flow is indicated solely through indentation relative to the rest of the code.\n",
    "\n",
    "<img src=\"imgs/indentation.png\" alt=\"Drawing\" style=\"width: 750px;\"/>\n",
    "\n",
    "Note that you are not, at this time, expected to understand all the specific syntatic elements. Simply observe how each each 'for/if' statement the code moves further to the right.\n",
    "\n",
    "**To do** Try writing up the for loop as shown in the figure above.  see what happens when you change the indentation of the lines\n"
   ]
  },
  {
   "cell_type": "code",
   "execution_count": null,
   "metadata": {},
   "outputs": [],
   "source": [
    "# to do write code loop\n",
    "units=[1,2,3,4,5]\n",
    "\n",
    "total=0\n",
    "for number in units:\n",
    "    # calculate square\n",
    "    sq=number*number\n",
    "    #sum total\n",
    "    total+=number\n",
    "    if number <3:\n",
    "        print('{} is less than 3'.format(number))\n",
    "        \n",
    "    print('the square of {} is {}'.format(number,sq))\n",
    "    \n",
    "print('the total is {}'.format(total))"
   ]
  },
  {
   "cell_type": "markdown",
   "metadata": {},
   "source": [
    "### 2.1.2 Debugging \n",
    "\n",
    "Note that, if I had messed this up, accidentally deleting the indentation in the middle of the loop, the Python interpreter would throw an error. \n",
    "\n",
    "<img src=\"imgs/debugging.png\" alt=\"Drawing\" style=\"width: 750px;\"/>\n",
    "\n",
    "You can see how it defines the type of error as an 'IndentationError', and highlights the offending line as the one following the one we moved backwards; this is because there is no loop statement or anything now to justify the indentation. The ^ symbol highlights the location of the error within that line.\n",
    "\n",
    "While many of the error messages are quite self explanatory sometimes you will come up against ones you do not understand. In some circumstances, it is important to highlight how well Python is supported on online forums such as Stack Overflow. Accordingly, the first step when you are debugging should always be to Google the error or check Stack Overflow directly. If you don't find the answer you need you can always post a new question.\n",
    "<img src=\"imgs/googling.png\" alt=\"Drawing\" style=\"width: 500px;\"/>\n"
   ]
  },
  {
   "cell_type": "markdown",
   "metadata": {},
   "source": [
    "## 2.2 Conditional (if) statements"
   ]
  },
  {
   "cell_type": "markdown",
   "metadata": {},
   "source": [
    "In its simplest (pseudo) code form, an if statement in python looks like this:"
   ]
  },
  {
   "cell_type": "markdown",
   "metadata": {},
   "source": [
    "```if condition:\n",
    "    statement\n",
    "    statement ```    "
   ]
  },
  {
   "cell_type": "markdown",
   "metadata": {},
   "source": [
    "The conditional statement must evaluate to a boolean (```True/False```)  but otherwise there are few constraints, examples include:"
   ]
  },
  {
   "cell_type": "code",
   "execution_count": null,
   "metadata": {},
   "outputs": [],
   "source": [
    "BMI=27\n",
    "\n",
    "if BMI > 25.0:\n",
    "    print('This person is overweight')\n",
    "    \n",
    "# or \n",
    "\n",
    "name='John'\n",
    "\n",
    "if name=='John':\n",
    "    print(\"This person's name is John \")"
   ]
  },
  {
   "cell_type": "markdown",
   "metadata": {},
   "source": [
    "All forms of conditional statement (described in 2.2. Introduction to Types) may be used, including use or ```is/and/or``` statements e.g. "
   ]
  },
  {
   "cell_type": "code",
   "execution_count": null,
   "metadata": {},
   "outputs": [],
   "source": [
    "a=10\n",
    "b=12\n",
    "\n",
    "# use of a chained boolean condition with an if statement - remember that for and both statements must be true\n",
    "# why not try changing this to an `or` statement?\n",
    "if a< 15 and b > 10:\n",
    "    print('run the following block of code')\n"
   ]
  },
  {
   "cell_type": "markdown",
   "metadata": {},
   "source": [
    "The \"in\" operator can also be used to check if a specified object exists within an iterable object container, such as a list:"
   ]
  },
  {
   "cell_type": "code",
   "execution_count": null,
   "metadata": {},
   "outputs": [],
   "source": [
    "name = \"John\"\n",
    "if name in [\"John\", \"Dave\"]:\n",
    "    print(\"The person's name is either John or Dave.\")"
   ]
  },
  {
   "cell_type": "markdown",
   "metadata": {},
   "source": [
    "Series of if statements can be combined within if/else statements. These have the following general structure, with ```if``` and ```else``` statements at the beginning and end and ```elif``` (else if) conditions in the centre:\n",
    "\n",
    "```if condition:\n",
    "    statement\n",
    "    statement\n",
    " elif condition:\n",
    "    statement\n",
    " else:\n",
    "    statement ```    "
   ]
  },
  {
   "cell_type": "code",
   "execution_count": null,
   "metadata": {},
   "outputs": [],
   "source": [
    "BMI=20\n",
    "\n",
    "# if/elif/else statement\n",
    "# try changing or adding to these, adding or statements\n",
    "if BMI <= 18.5: # >= greater than or equal to\n",
    "    print('This person is underweight')\n",
    "elif BMI > 18.5 and BMI <=25.0:\n",
    "    print('This person has normal weight')\n",
    "elif BMI > 25.0 and BMI <=30.0 :\n",
    "    print('This person is overweight')\n",
    "else:\n",
    "    print('This person is obese')\n"
   ]
  },
  {
   "cell_type": "markdown",
   "metadata": {},
   "source": [
    "**To do** try \n",
    "- changing the BMI and exploring the response. \n",
    "- adding an ```elif``` condition\n",
    "- using and ```or``` statement"
   ]
  },
  {
   "cell_type": "markdown",
   "metadata": {},
   "source": [
    "## 2.3 For statements"
   ]
  },
  {
   "cell_type": "markdown",
   "metadata": {},
   "source": [
    "For loops iterate over a given sequence, for example as given by a list:\n",
    "\n",
    "```for item in list:\n",
    "    statement\n",
    "    statement ```    "
   ]
  },
  {
   "cell_type": "code",
   "execution_count": null,
   "metadata": {},
   "outputs": [],
   "source": [
    "mylist=[10,20,30,40,50]\n",
    "\n",
    "for item in mylist:\n",
    "    print(item)"
   ]
  },
  {
   "cell_type": "markdown",
   "metadata": {},
   "source": [
    "For numeric ranges, python the provides function ```range(start,end,increment)``` which provides an inline definition e.g. "
   ]
  },
  {
   "cell_type": "code",
   "execution_count": null,
   "metadata": {},
   "outputs": [],
   "source": [
    "# a for loop over a specified range and increment\n",
    "# try changing the range values\n",
    "for item in range(0,10,2):\n",
    "    print(item)"
   ]
  },
  {
   "cell_type": "markdown",
   "metadata": {},
   "source": [
    "**To do** try changing the range and adding different increments, start and end points)\n",
    "\n",
    "It is possible to have for loops nested within each other, for example "
   ]
  },
  {
   "cell_type": "code",
   "execution_count": null,
   "metadata": {},
   "outputs": [],
   "source": [
    "adj = [\"red\", \"big\", \"fast\"]\n",
    "fruits = [\"car\", \"dog\", \"bike\"]\n",
    "\n",
    "# for every item in the outer loop (indexing over list adj)\n",
    "for x in adj:\n",
    "    #loop over the fruits list\n",
    "    for y in fruits:\n",
    "        print(x, y)\n"
   ]
  },
  {
   "cell_type": "markdown",
   "metadata": {},
   "source": [
    "In some cases you might need to use the both the list item and the index of the loop. In such circumstances it is possible to use the enumerate function:\n",
    "\n",
    "```for index item in enumerate(list):\n",
    "    statement\n",
    "    statement ```    "
   ]
  },
  {
   "cell_type": "code",
   "execution_count": null,
   "metadata": {},
   "outputs": [],
   "source": [
    "mylist=['one','two','three','four','five']\n",
    "\n",
    "for index,item in enumerate(mylist):\n",
    "    print(index,item)"
   ]
  },
  {
   "cell_type": "markdown",
   "metadata": {},
   "source": [
    "## 2.4 While statements"
   ]
  },
  {
   "cell_type": "markdown",
   "metadata": {},
   "source": [
    "While loops are similar to if statements in that they evaluate a condition:\n",
    "\n",
    "```while condition:\n",
    "    statement\n",
    "    statement ```    \n",
    "    \n",
    "However for a while statement the loop will condition going until the condition is met. Therefore, it is important to update the loop variable else it will carry on idefinitely. e.g."
   ]
  },
  {
   "cell_type": "code",
   "execution_count": null,
   "metadata": {},
   "outputs": [],
   "source": [
    "# we initialise variable count and loop over using a while statement\n",
    "count = 0\n",
    "while count < 5:\n",
    "    print(count)\n",
    "    #Here count is updated each time\n",
    "    # This is the same as count = count + 1\n",
    "    count += 1  \n",
    "\n",
    "print('now count is:', count)\n"
   ]
  },
  {
   "cell_type": "markdown",
   "metadata": {},
   "source": [
    "## 2.5 Break and continue statements"
   ]
  },
  {
   "cell_type": "markdown",
   "metadata": {},
   "source": [
    "In some circumstances you may need the option to break out of loop or skip certain elements of a loop. This can be achieved with: 1) break and 2) continue statements:\n",
    "\n",
    "```if condition:\n",
    "     break ```    \n",
    "\n",
    "```if condition:\n",
    "     continue ```\n",
    "     \n",
    "Here, break will cause a loop to terminate if a certain condition is met."
   ]
  },
  {
   "cell_type": "code",
   "execution_count": null,
   "metadata": {},
   "outputs": [],
   "source": [
    "# example of a break statement\n",
    "\n",
    "mylist=['Alice', 'Fred', 'Bob', 'John', 'Steve']\n",
    "\n",
    "for index,item in enumerate(mylist):\n",
    "    print(item)\n",
    "    if item=='John':\n",
    "        break\n",
    "        \n",
    "print('list has stopped at index', index, ' for name ' , item )\n"
   ]
  },
  {
   "cell_type": "markdown",
   "metadata": {},
   "source": [
    "Whereas, continue will simply skip loop variables that meet certain conditions"
   ]
  },
  {
   "cell_type": "code",
   "execution_count": null,
   "metadata": {},
   "outputs": [],
   "source": [
    "# example of use of continue\n",
    "\n",
    "for index,item in enumerate(mylist):\n",
    "    if item=='John': # this will cause the loop to skip over entry for 'John'\n",
    "        continue\n",
    "    print(item)"
   ]
  },
  {
   "cell_type": "markdown",
   "metadata": {},
   "source": [
    "## 2.6 Looping over Dictionaries"
   ]
  },
  {
   "cell_type": "markdown",
   "metadata": {},
   "source": [
    "So what do we do when we don’t have a sequential data object but instead have a dictionary? As dictionaries are unordered it is impossible to iterate through them sequentially by index"
   ]
  },
  {
   "cell_type": "code",
   "execution_count": null,
   "metadata": {},
   "outputs": [],
   "source": [
    "# create dictionary\n",
    "\n",
    "mydict={}\n",
    "mydict['Name']='Dave'\n",
    "mydict['Age']=23\n",
    "mydict['job']='Lecturer'\n",
    "mydict['height']=190\n",
    "mydict['BMI']=25\n",
    "\n",
    "for i in range(5):\n",
    "    print(mydict[i])"
   ]
  },
  {
   "cell_type": "markdown",
   "metadata": {},
   "source": [
    "However, the dictionary class instead provides iterators ```keys()``` and ```items()```  "
   ]
  },
  {
   "cell_type": "code",
   "execution_count": null,
   "metadata": {},
   "outputs": [],
   "source": [
    "# looping over a dictionaray keys iterator\n",
    "for k in mydict.keys(): \n",
    "    if k=='height':\n",
    "        print(\"The person's height is:\", mydict[k])\n",
    "        break\n",
    "        "
   ]
  },
  {
   "cell_type": "markdown",
   "metadata": {},
   "source": [
    "This will loops through all keys in the dictionary and perform some operations on them, for example here it just prints out the value assigned to the height key\n",
    "\n",
    "Note it is so common to loop over keys in a dictionary that a shorthand call is also available (that omits the ```keys``` method)"
   ]
  },
  {
   "cell_type": "code",
   "execution_count": null,
   "metadata": {},
   "outputs": [],
   "source": [
    "for k in mydict: \n",
    "    print(k)"
   ]
  },
  {
   "cell_type": "markdown",
   "metadata": {},
   "source": [
    "Using ```items``` it is possible to simultaneously access both key and and value:"
   ]
  },
  {
   "cell_type": "code",
   "execution_count": null,
   "metadata": {},
   "outputs": [],
   "source": [
    "for k,v in mydict.items(): \n",
    "    print(k,v)\n",
    "    "
   ]
  },
  {
   "cell_type": "markdown",
   "metadata": {},
   "source": [
    "## 2.7 List Comprehensions\n",
    "\n",
    "One other example of how we can write in shorthand is list comprehensions. These collapse all the lines of code from a for loop (with just one if statement, and a single output expression) into a single line appended at each end with a square bracket"
   ]
  },
  {
   "cell_type": "code",
   "execution_count": null,
   "metadata": {},
   "outputs": [],
   "source": [
    "a=[]\n",
    "\n",
    "for i in range(5):\n",
    "    if i%2==0:\n",
    "        a.append('hello{}'.format(i))\n",
    "        \n",
    "print(a)"
   ]
  },
  {
   "cell_type": "markdown",
   "metadata": {},
   "source": [
    "Thus for the above list which prints out numbers in the range 0 to 4 is they are exactly divisible by 2 (and concatenates to the hello string)\n",
    "\n",
    "List comprehensions provide a concise way to create lists without loops. In a single line this becomes, the print expression, followed by the loop, followed by the if statement "
   ]
  },
  {
   "cell_type": "code",
   "execution_count": null,
   "metadata": {},
   "outputs": [],
   "source": [
    "b=['hello{}'.format(i) for  i in range(5)  if i%2==0]\n",
    "\n",
    "print(b)"
   ]
  },
  {
   "cell_type": "markdown",
   "metadata": {},
   "source": [
    "Note, that the if statement is not a necessary component, so you can have list comprehensions with just for loops"
   ]
  },
  {
   "cell_type": "markdown",
   "metadata": {},
   "source": [
    "## 2.8 Functions"
   ]
  },
  {
   "cell_type": "markdown",
   "metadata": {},
   "source": [
    "Functions allow compact structuring of sections of code that are intended to be used more than once in a progam (or indeed multiple programs). \n",
    "\n",
    "A function in Python is defined by a ```def``` statement. In psuedocode, the general syntax looks like this:\n",
    "\n",
    "``` \n",
    "# function definition with input arguments\n",
    "def myfunction(arg1,arg2,arg3):\n",
    "    \n",
    "    body of code to be repeated\n",
    "    \n",
    "    return someval1, someval2 \n",
    "    ```\n",
    "\n",
    "Note, the colon at the end of the function header, and the use of indentation within the body of the function. Inside the function are lines of code that would otherwise by repeated multiple times in the program. The function then (optionally) returns output arguments (someval1, someval2). For simple functions the function can returned in one line e.g."
   ]
  },
  {
   "cell_type": "code",
   "execution_count": null,
   "metadata": {},
   "outputs": [],
   "source": [
    "# define function\n",
    "def sum(x,y):\n",
    "    return x+y # here as the function is simple it can be returned in one line\n",
    "\n",
    "# apply function\n",
    "\n",
    "a=5\n",
    "b=10\n",
    "\n",
    "print('sum of {} and {} is {}'.format(a,b,sum(a,b)))"
   ]
  },
  {
   "cell_type": "markdown",
   "metadata": {},
   "source": [
    "It is also possible to supply optional input arguments with default values e.g. ```z``` in this example"
   ]
  },
  {
   "cell_type": "code",
   "execution_count": null,
   "metadata": {},
   "outputs": [],
   "source": [
    "# this function can thus return a sum of 2 or 3 arguments\n",
    "def sum2(x,y,z=0):\n",
    "    return x+y+z \n",
    "\n",
    "# apply function\n",
    "\n",
    "a=5\n",
    "b=10\n",
    "c=20\n",
    "\n",
    "print('sum of {} and {} is {}'\n",
    "      .format(a,b,sum2(a,b)))\n",
    "print('sum of {},{} and {} is {}'\n",
    "      .format(a,b,c, sum2(a,b,c)))"
   ]
  },
  {
   "cell_type": "markdown",
   "metadata": {},
   "source": [
    "Or specify which exact optional arguments will be required through use of keywords (referencing the specific argument name in the function call):"
   ]
  },
  {
   "cell_type": "code",
   "execution_count": null,
   "metadata": {},
   "outputs": [],
   "source": [
    "def sumsub(x, y, z1=0, z2=0):\n",
    "    return x - y + z1 - z2\n",
    "\n",
    "# apply function\n",
    "\n",
    "a=5\n",
    "b=10\n",
    "c=20\n",
    "d=30\n",
    "\n",
    "print(sumsub(12,4))\n",
    "print(sumsub(42,15,z2=10)) # example of referencing specific input argument in function call \n",
    "print(sumsub(42,15,z1=20, z2=10)) # example referencing both optional input argument in function call "
   ]
  },
  {
   "cell_type": "markdown",
   "metadata": {},
   "source": [
    "In all cases the function can take 0 or more input arguments and return 0 or more output arguments. In some cases it is not possible to pre-define the number of arguments. In these cases and arbitrary number of input arguments can be defined using an asterisk:"
   ]
  },
  {
   "cell_type": "code",
   "execution_count": null,
   "metadata": {},
   "outputs": [],
   "source": [
    "def arbitary_sum(*x):\n",
    "    mysum=0\n",
    "    for val in x:\n",
    "        mysum+=val\n",
    "    return mysum\n",
    "\n",
    "mylist=[1,2,3,4,5]\n",
    "\n",
    "print('the sum of values in the list is', arbitary_sum(*mylist))\n",
    "# same result as \n",
    "\n",
    "print('the sum of values in the list is', arbitary_sum(1,2,3,4,5))\n"
   ]
  },
  {
   "cell_type": "markdown",
   "metadata": {},
   "source": [
    "### 2.8.1  Doc strings"
   ]
  },
  {
   "cell_type": "markdown",
   "metadata": {},
   "source": [
    "When writing code that includes functions it is good practice to document the purpose of the function using a 'doc' string after the function definition, indicated by triple quotes."
   ]
  },
  {
   "cell_type": "code",
   "execution_count": null,
   "metadata": {},
   "outputs": [],
   "source": [
    "def arbitary_sum(*x):\n",
    "    ''' This function adds and arbitrary number of input arguments\n",
    "    \n",
    "    input args:\n",
    "        *x: a list or tuple containing numbers to be summed\n",
    "    \n",
    "    returns:\n",
    "        mysum: result of adding all input arguments\n",
    "    '''\n",
    "    \n",
    "    mysum=0\n",
    "    for val in x:\n",
    "        mysum+=val\n",
    "    return mysum\n",
    "\n"
   ]
  },
  {
   "cell_type": "markdown",
   "metadata": {},
   "source": [
    "This declares what the function is for, what it’s input and output arguments are – and what data types they expect/return"
   ]
  },
  {
   "cell_type": "markdown",
   "metadata": {},
   "source": [
    "### 2.8.2  Passing by object"
   ]
  },
  {
   "cell_type": "markdown",
   "metadata": {},
   "source": [
    "In C++ you may have heard the terms 'pass by value' or 'pass by reference' with respect to how arguments are passed to functions. This references how variables are either copied to a new place in memory when they are passed to a function (pass by value) or whether their memory address is passed and shared with the function argument (pass by reference). In the former case, when the argument is changed within the function the original variable remains unchanged. In the latter case, changing the value of the input argument will also change the value of the original variable.\n",
    "\n",
    "In Python, however, arguments are strictly 'passed by object', what this means is that, what happens to the variable will depend on whether it is mutable or immutable. For immutable types (ints, floats, tuples, strings) the objects are immutable, hence they cannot be changed in the function or out, thus in essence they will be passed 'by value'. \n",
    "\n",
    "On the other hand if objects are mutable (lists, dictionaries) then **the original values (in the main code body) can and will be changed if the variable is changed _in place_**.\n"
   ]
  },
  {
   "cell_type": "code",
   "execution_count": null,
   "metadata": {},
   "outputs": [],
   "source": [
    "def passing_by_object2(names):\n",
    "    print('In function 2, input argument is: ',names)\n",
    "    names += [\"Emma\", \"Maria\"] # here the original variable is changed in place using the += operator; \n",
    "    print(' After concatenation names contains,', names)\n",
    " \n",
    "\n",
    "mylist=['Alice', 'Fred', 'Bob', 'John', 'Steve']\n",
    "\n",
    "\n",
    "passing_by_object2(mylist)\n",
    "print('My original list is:', mylist) # Thus the original list is changed\n",
    "\n"
   ]
  },
  {
   "cell_type": "markdown",
   "metadata": {},
   "source": [
    "Changing in place will also occur if you change (mutate) the objects a container (such as a dictionary/list) points to.\n",
    "\n",
    "However, crucially the originally object will be modified if the arguments are assigned to a new variable inside the body of the code (even if this has the same name) e.g."
   ]
  },
  {
   "cell_type": "code",
   "execution_count": null,
   "metadata": {},
   "outputs": [],
   "source": [
    "def passing_by_object(names):\n",
    "    print('In function, input argument is: ',names)\n",
    "    names = names + [\"Emma\", \"Maria\"] \n",
    "    print(' After concatenation names contains,', names)\n",
    " \n",
    "\n",
    "mylist=['Alice', 'Fred', 'Bob', 'John', 'Steve']\n",
    "\n",
    "\n",
    "passing_by_object(mylist)\n",
    "print('My original list is:', mylist) \n",
    "\n"
   ]
  },
  {
   "cell_type": "markdown",
   "metadata": {},
   "source": [
    "Note, if this mutating behaviour is desired, but perhaps you wish to keep a copy of the original object (during debugging for example), then this can be achieved by making a copy of the original object using the ```copy``` module"
   ]
  },
  {
   "cell_type": "code",
   "execution_count": null,
   "metadata": {},
   "outputs": [],
   "source": [
    "import copy\n",
    "\n",
    "mylist=['Alice', 'Fred', 'Bob', 'John', 'Steve']\n",
    "\n",
    "# deep copy will make a complete copy of the object mylist \n",
    "# such that my_list_copy will not be changed if my_list is changed\n",
    "mylist_copy=copy.deepcopy(mylist) \n",
    "\n",
    "passing_by_object2(mylist)\n",
    "print('My original list is:', mylist) # The original lists changes\n",
    "print('My copy list is:', mylist_copy) # But the copy does not"
   ]
  },
  {
   "cell_type": "markdown",
   "metadata": {},
   "source": [
    "Note more information will be provided on modules in the next notebook. For more detailed information on the intricacies and implications of this copying behaviour of Python see https://www.python-course.eu/python3_passing_arguments.php"
   ]
  },
  {
   "cell_type": "markdown",
   "metadata": {},
   "source": [
    "# Exercise 1 - loops and functions:"
   ]
  },
  {
   "cell_type": "markdown",
   "metadata": {
    "collapsed": true
   },
   "source": [
    "Ex. 5 Write a loop that prints out all numbers, in the range 0 to 1000 that are divisible by 3 and 5"
   ]
  },
  {
   "cell_type": "code",
   "execution_count": null,
   "metadata": {},
   "outputs": [],
   "source": [
    "# complete the answer the answer to EX 5 here:\n",
    "\n",
    "for i in range(1000):\n",
    "    if i%3==0 and i%5==0:\n",
    "        print(i,end=' ')\n"
   ]
  },
  {
   "cell_type": "markdown",
   "metadata": {},
   "source": [
    "Ex 6. Write a function to multiply all numbers in a list"
   ]
  },
  {
   "cell_type": "code",
   "execution_count": null,
   "metadata": {},
   "outputs": [],
   "source": [
    "# complete the answer the answer to EX 6 here:\n",
    "\n",
    "# define function above lines of code that use it\n",
    "def prod(lst):\n",
    "    result=1\n",
    "    for i in lst:\n",
    "        result*=i # equivalent in this case to result=result*i\n",
    "        \n",
    "    return result\n",
    "\n",
    "# define list and call function\n",
    "numbers=[2,4,6,8,10]\n",
    "\n",
    "print(prod(numbers))"
   ]
  },
  {
   "cell_type": "markdown",
   "metadata": {},
   "source": [
    "Ex 7 Write a Python function that checks whether a number (e.g. 71) is prime or not. "
   ]
  },
  {
   "cell_type": "code",
   "execution_count": null,
   "metadata": {},
   "outputs": [],
   "source": [
    "# complete the answer the answer to EX 7 here:\n",
    "def isPrime(n):\n",
    "    for i in range(2,n): \n",
    "        if n%i==0:\n",
    "            return False\n",
    "        \n",
    "    return True\n",
    "\n",
    "print(isPrime(71))\n",
    "print(isPrime(48))\n"
   ]
  },
  {
   "cell_type": "code",
   "execution_count": null,
   "metadata": {},
   "outputs": [],
   "source": []
  }
 ],
 "metadata": {
  "kernelspec": {
   "display_name": "Python 3",
   "language": "python",
   "name": "python3"
  },
  "language_info": {
   "codemirror_mode": {
    "name": "ipython",
    "version": 3
   },
   "file_extension": ".py",
   "mimetype": "text/x-python",
   "name": "python",
   "nbconvert_exporter": "python",
   "pygments_lexer": "ipython3",
   "version": "3.6.8"
  }
 },
 "nbformat": 4,
 "nbformat_minor": 2
}
