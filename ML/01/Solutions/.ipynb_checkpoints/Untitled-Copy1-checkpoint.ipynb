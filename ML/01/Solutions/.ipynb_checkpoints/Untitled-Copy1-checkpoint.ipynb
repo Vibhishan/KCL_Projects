{
 "cells": [
  {
   "cell_type": "markdown",
   "metadata": {},
   "source": [
    "# Python Formative assessment\n",
    "\n",
    "In this notebook we set a series of Python exercises. Please complete and then submit responses to the Keats Quiz for automated marking. This assessment is due on Monday 12th October at 4pm"
   ]
  },
  {
   "cell_type": "markdown",
   "metadata": {},
   "source": [
    "## Lists\n",
    "\n",
    "1. What would be the result of the following lines of code? \n",
    "\n",
    "\n",
    "\n",
    "You should be able to work this out without writing a single line of code, but "
   ]
  }
 ],
 "metadata": {
  "kernelspec": {
   "display_name": "Python 3",
   "language": "python",
   "name": "python3"
  },
  "language_info": {
   "codemirror_mode": {
    "name": "ipython",
    "version": 3
   },
   "file_extension": ".py",
   "mimetype": "text/x-python",
   "name": "python",
   "nbconvert_exporter": "python",
   "pygments_lexer": "ipython3",
   "version": "3.6.8"
  }
 },
 "nbformat": 4,
 "nbformat_minor": 4
}
