{
 "cells": [
  {
   "cell_type": "markdown",
   "metadata": {},
   "source": [
    "# Mini Project Part A\n",
    "\n",
    "This is a template for Part A of your project. You are provided with the code to load the data.\n",
    "\n",
    "For each task you need to write code in the 'Code' cell and answer the question in the 'Markdown' cell. There is a word limit to discourage lengthy commentaries. Be brief and clear."
   ]
  },
  {
   "cell_type": "code",
   "execution_count": null,
   "metadata": {},
   "outputs": [],
   "source": [
    "import pandas as pd\n",
    "import numpy as np\n",
    "import matplotlib.pyplot as plt"
   ]
  },
  {
   "cell_type": "markdown",
   "metadata": {},
   "source": [
    "## Load data"
   ]
  },
  {
   "cell_type": "code",
   "execution_count": null,
   "metadata": {},
   "outputs": [],
   "source": [
    "# load connectivity matrices\n",
    "import pickle\n",
    "matrices = pickle.load( open( \"data/matrices.p\", \"rb\" ) )\n",
    "print(matrices.shape)\n",
    "plt.imshow(matrices[1,:,:])"
   ]
  },
  {
   "cell_type": "code",
   "execution_count": null,
   "metadata": {},
   "outputs": [],
   "source": [
    "# convert upper triangles of the matrices to feature vectors\n",
    "\n",
    "# dimensions\n",
    "n = matrices.shape[0]\n",
    "m = matrices.shape[1]\n",
    "D = round(m*(m-1)/2)\n",
    "print('n={}, D={}'.format(n,D))\n",
    "\n",
    "# feature matrix\n",
    "X=np.zeros([n,D])\n",
    "for i in range(n):\n",
    "    index=0\n",
    "    for j in range(m):\n",
    "        for k in range(j):\n",
    "            X[i,index]=matrices[i,j,k]\n",
    "            index=index+1\n",
    "print(X.shape)"
   ]
  },
  {
   "cell_type": "code",
   "execution_count": null,
   "metadata": {},
   "outputs": [],
   "source": [
    "# load subject info\n",
    "subject_info = pd.read_csv('data/subject_info.csv')\n",
    "subject_info"
   ]
  },
  {
   "cell_type": "code",
   "execution_count": null,
   "metadata": {},
   "outputs": [],
   "source": [
    "# load gray matter region descriptions - you will need this in Part B\n",
    "# don't worry about the labels for now - there are here only to help you understand the dataset\n",
    "label_names = pd.read_csv('data/label_names.csv')\n",
    "label_names"
   ]
  },
  {
   "cell_type": "markdown",
   "metadata": {},
   "source": [
    "## Preprocessing\n",
    "\n",
    "**7 marks**\n",
    "\n",
    "Your task is to predict prematurity from the connectivity features. Include code that prepares your data for training of your classifier."
   ]
  },
  {
   "cell_type": "code",
   "execution_count": null,
   "metadata": {},
   "outputs": [],
   "source": [
    "# Your preprocessing\n",
    "\n"
   ]
  },
  {
   "cell_type": "markdown",
   "metadata": {},
   "source": [
    "**Describe what you have done and why [max 50 words]:**\n",
    "\n",
    "\n",
    "\n"
   ]
  },
  {
   "cell_type": "markdown",
   "metadata": {},
   "source": [
    "## Analysis of the dataset\n",
    "**18 marks**\n",
    "\n",
    "Print out important characeristics of the dataset to understand the problem. Visualise the dataset. (*Hint: You can use PCA for visualisation*)"
   ]
  },
  {
   "cell_type": "code",
   "execution_count": null,
   "metadata": {},
   "outputs": [],
   "source": [
    "# your analysis\n",
    "\n"
   ]
  },
  {
   "cell_type": "markdown",
   "metadata": {},
   "source": [
    "**Describe the challenges of succesfully fitting a classifier to this dataset [max 100 words]:**\n"
   ]
  },
  {
   "cell_type": "markdown",
   "metadata": {},
   "source": [
    "## Evaluation framework\n",
    "\n",
    "**15 marks**\n",
    "\n",
    "Include code and functions to prepare the framework for evaluation of your machine learning models. Think of different sets of data and performance measures that you will need to analyse the performance of your classifier. Make sure you\n",
    "* display (plot) the sets of data that you created (*Hint: you can use PCA*)\n",
    "* write functions to evaluate performance on each of the sets later on (*Hint: you will need different functions for different sets of data*)"
   ]
  },
  {
   "cell_type": "code",
   "execution_count": null,
   "metadata": {},
   "outputs": [],
   "source": [
    "# different sets\n",
    "\n",
    "\n",
    "# plot\n"
   ]
  },
  {
   "cell_type": "code",
   "execution_count": null,
   "metadata": {},
   "outputs": [],
   "source": [
    "# functions for evaluation\n",
    "\n"
   ]
  },
  {
   "cell_type": "markdown",
   "metadata": {},
   "source": [
    "**Explain the main features of your framework [max 100 words]:**\n"
   ]
  },
  {
   "cell_type": "markdown",
   "metadata": {},
   "source": [
    "## Methods\n",
    "\n",
    "**30 marks**\n",
    "\n",
    "Train and tune your classifier. Use machine learning models that you learned in weeks 2-4. Make sure you print out the tuned parameters."
   ]
  },
  {
   "cell_type": "code",
   "execution_count": null,
   "metadata": {},
   "outputs": [],
   "source": [
    "# Train your classifier\n",
    "\n",
    "\n",
    "\n",
    "# Print out tuned parameters\n",
    "\n"
   ]
  },
  {
   "cell_type": "markdown",
   "metadata": {},
   "source": [
    "**Describe the main features of your classifier and how they address the challenges you identified above [max 100 words]:**\n"
   ]
  },
  {
   "cell_type": "markdown",
   "metadata": {},
   "source": [
    "## Results\n",
    "**30 marks**\n",
    "\n",
    "Evaluate performance of your classifier."
   ]
  },
  {
   "cell_type": "code",
   "execution_count": null,
   "metadata": {},
   "outputs": [],
   "source": [
    "# Your evaluation\n",
    "\n"
   ]
  },
  {
   "cell_type": "markdown",
   "metadata": {},
   "source": [
    "**Analyse the performance of the classifier [max 50 words]:**\n"
   ]
  },
  {
   "cell_type": "markdown",
   "metadata": {},
   "source": [
    "**Visualise the results using PCA.** For example, you can plot the data with their true labels in one plot and the predicted labels in the other."
   ]
  },
  {
   "cell_type": "code",
   "execution_count": null,
   "metadata": {},
   "outputs": [],
   "source": [
    "# Plot results\n",
    "\n"
   ]
  }
 ],
 "metadata": {
  "kernelspec": {
   "display_name": "Python 3",
   "language": "python",
   "name": "python3"
  },
  "language_info": {
   "codemirror_mode": {
    "name": "ipython",
    "version": 3
   },
   "file_extension": ".py",
   "mimetype": "text/x-python",
   "name": "python",
   "nbconvert_exporter": "python",
   "pygments_lexer": "ipython3",
   "version": "3.8.8"
  }
 },
 "nbformat": 4,
 "nbformat_minor": 4
}
