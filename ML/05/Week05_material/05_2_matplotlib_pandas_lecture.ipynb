{
 "cells": [
  {
   "cell_type": "markdown",
   "metadata": {
    "slideshow": {
     "slide_type": "slide"
    }
   },
   "source": [
    "## <center>Scientific Programming - 7MRI0020 - 2021/2022</center>\n",
    "\n",
    "\n",
    "## <center>Week 05 - Scientific Libraries - Part 02</center>\n",
    "\n",
    "\n",
    "### <center>School of Biomedical Engineering & Imaging Sciences</center>\n",
    "### <center>King's College London</center>"
   ]
  },
  {
   "cell_type": "markdown",
   "metadata": {
    "slideshow": {
     "slide_type": "slide"
    }
   },
   "source": [
    "### Contents\n",
    "* Matplotlib\n",
    "  * Graphs, scatter plots, bar plots\n",
    "  * multiple plots\n",
    "  * image or surfaces\n",
    "* Pandas\n",
    "  * Dataframes\n",
    "  * DataFrame operations"
   ]
  },
  {
   "cell_type": "markdown",
   "metadata": {
    "slideshow": {
     "slide_type": "slide"
    }
   },
   "source": [
    "# Matplotlib\n",
    "\n",
    "* Very useful plotting library with a few quirks\n",
    "* We'll go into more depth with some more complicated uses"
   ]
  },
  {
   "cell_type": "code",
   "execution_count": null,
   "metadata": {
    "slideshow": {
     "slide_type": "fragment"
    }
   },
   "outputs": [],
   "source": [
    "%matplotlib inline\n",
    "import numpy as np\n",
    "import matplotlib.pyplot as plt\n",
    "\n",
    "plt.plot(np.sin(np.arange(-np.pi, np.pi, 0.02)) + 1)"
   ]
  },
  {
   "cell_type": "markdown",
   "metadata": {
    "slideshow": {
     "slide_type": "slide"
    }
   },
   "source": [
    "* Plotting multiple plots in one image can be done in multiple ways, here's an easy one:"
   ]
  },
  {
   "cell_type": "code",
   "execution_count": null,
   "metadata": {
    "slideshow": {
     "slide_type": "fragment"
    }
   },
   "outputs": [],
   "source": [
    "f, ax = plt.subplots(1, 2, figsize=(12, 2))\n",
    "ax[0].plot(np.arange(-np.pi, np.pi, 0.02))\n",
    "ax[1].plot(np.cos(np.arange(-np.pi, np.pi, 0.02)) + 1)"
   ]
  },
  {
   "cell_type": "markdown",
   "metadata": {
    "slideshow": {
     "slide_type": "slide"
    }
   },
   "source": [
    "* Titles:"
   ]
  },
  {
   "cell_type": "code",
   "execution_count": null,
   "metadata": {
    "slideshow": {
     "slide_type": "fragment"
    }
   },
   "outputs": [],
   "source": [
    "f, ax = plt.subplots(1, 2, figsize=(12, 2))\n",
    "\n",
    "ax[0].plot(np.arange(-np.pi, np.pi, 0.02))\n",
    "ax[0].set_title(\"Linear Range\")\n",
    "\n",
    "ax[1].plot(np.cos(np.arange(-np.pi, np.pi, 0.02)) + 1)\n",
    "ax[1].set_title(\"Cos + 1\")"
   ]
  },
  {
   "cell_type": "markdown",
   "metadata": {
    "slideshow": {
     "slide_type": "slide"
    }
   },
   "source": [
    "* `plt.subplots` takes as arguments the number of rows and columns to plot plus other configuration values\n",
    "* It returns the figure object and the subplot objects\n",
    "* Each subplot object has methods for plotting, setting titles, axes, etc."
   ]
  },
  {
   "cell_type": "code",
   "execution_count": null,
   "metadata": {
    "slideshow": {
     "slide_type": "slide"
    }
   },
   "outputs": [],
   "source": [
    "figure, ax = plt.subplots(2, 3, figsize=(12, 4), \n",
    "    sharex='col', sharey='row', # share scales\n",
    "    gridspec_kw={'hspace': 0, 'wspace': 0}) # remove whitespace\n",
    "\n",
    "ax[0,0].plot(np.cos(np.arange(-np.pi, np.pi, 0.02)**1))\n",
    "ax[0,1].plot(np.cos(np.arange(-np.pi, np.pi, 0.02)**2))\n",
    "ax[0,2].plot(np.cos(np.arange(-np.pi, np.pi, 0.02)**3))\n",
    "ax[1,0].plot(np.sin(np.arange(-np.pi, np.pi, 0.02)**1))\n",
    "ax[1,1].plot(np.sin(np.arange(-np.pi, np.pi, 0.02)**2))\n",
    "ax[1,2].plot(np.sin(np.arange(-np.pi, np.pi, 0.02)**3))"
   ]
  },
  {
   "cell_type": "markdown",
   "metadata": {
    "slideshow": {
     "slide_type": "slide"
    }
   },
   "source": [
    "* A `Figure` object was explicitly created in the above\n",
    "* Whenever functions like `plot` are called with the `pyplot` library (shortened to `plt` everywhere here) a hidden `Figure` object is created\n",
    "* Creating a `Figure` object yourself allows more flexibility in creating complex figures like this one\n",
    "* Often not necessary however, intent behind `pyplot` is to replicate Matlab facilities as much as possible"
   ]
  },
  {
   "cell_type": "markdown",
   "metadata": {
    "slideshow": {
     "slide_type": "slide"
    }
   },
   "source": [
    "* Multiple values can be plotted on the same plot, either with a single call to `plt.plot` or mulitiple calls:"
   ]
  },
  {
   "cell_type": "code",
   "execution_count": null,
   "metadata": {
    "scrolled": true,
    "slideshow": {
     "slide_type": "fragment"
    }
   },
   "outputs": [],
   "source": [
    "t = np.arange(0, 50)\n",
    "plt.plot(t, t ** 0.25 - 2, \"bs\")  # bs == blue squares\n",
    "plt.plot(t, np.sin(t * 2), \"g^\")  # g^ == green triangles\n",
    "plt.show()"
   ]
  },
  {
   "cell_type": "markdown",
   "metadata": {
    "slideshow": {
     "slide_type": "slide"
    }
   },
   "source": [
    "* A wide range of controls for how values are plotted, eg. log scale y-axis:"
   ]
  },
  {
   "cell_type": "code",
   "execution_count": null,
   "metadata": {
    "slideshow": {
     "slide_type": "fragment"
    }
   },
   "outputs": [],
   "source": [
    "plt.semilogy(t)"
   ]
  },
  {
   "cell_type": "markdown",
   "metadata": {
    "slideshow": {
     "slide_type": "slide"
    }
   },
   "source": [
    "* Annotations can also be added"
   ]
  },
  {
   "cell_type": "code",
   "execution_count": null,
   "metadata": {
    "slideshow": {
     "slide_type": "fragment"
    }
   },
   "outputs": [],
   "source": [
    "plt.annotate(\"What's that?!\", xy=(10, 10), xytext=(23, 5), \n",
    "             arrowprops=dict(facecolor='black', shrink=0.05))\n",
    "plt.semilogy(t)"
   ]
  },
  {
   "cell_type": "markdown",
   "metadata": {
    "slideshow": {
     "slide_type": "slide"
    }
   },
   "source": [
    "* Axis labels, titles, legends:"
   ]
  },
  {
   "cell_type": "code",
   "execution_count": null,
   "metadata": {
    "slideshow": {
     "slide_type": "fragment"
    }
   },
   "outputs": [],
   "source": [
    "t = np.arange(0, 50)\n",
    "plt.plot(t, np.sin(t * 2), \"g^\", label=\"Green Triangles\")\n",
    "plt.plot(t, np.cos(t * 2) - 2, \"b.\", label=\"Blue Circles\")\n",
    "plt.ylabel(\"Y Axis\")\n",
    "plt.xlabel(\"X Axis\")\n",
    "plt.title(\"Pretty\")\n",
    "plt.grid()\n",
    "plt.legend()"
   ]
  },
  {
   "cell_type": "markdown",
   "metadata": {
    "slideshow": {
     "slide_type": "slide"
    }
   },
   "source": [
    "* The grid lines and their labels can be manipulated as well:"
   ]
  },
  {
   "cell_type": "code",
   "execution_count": null,
   "metadata": {
    "slideshow": {
     "slide_type": "fragment"
    }
   },
   "outputs": [],
   "source": [
    "plt.plot(t * t, label=\"tt\")\n",
    "plt.legend()\n",
    "plt.grid()\n",
    "plt.yticks([2000], labels=[\"HERE\"])\n",
    "plt.xticks([0, 10, 20], labels=[\"zero\", \"ten\", \"twenty\"])\n",
    "plt.show()"
   ]
  },
  {
   "cell_type": "markdown",
   "metadata": {
    "slideshow": {
     "slide_type": "slide"
    }
   },
   "source": [
    "* Other types of plots exist for bar graphs, scatter plots, images, contours, and vector drawing\n",
    "* Style for axes, grids, colors, overlays, etc. is controllable with figure methods and library functions\n",
    "* Read the documentation!"
   ]
  },
  {
   "cell_type": "code",
   "execution_count": null,
   "metadata": {
    "slideshow": {
     "slide_type": "slide"
    }
   },
   "outputs": [],
   "source": [
    "f, ax = plt.subplots(2, 3, figsize=(12, 4), gridspec_kw={\"hspace\": 0.2, \"wspace\": 0.2})\n",
    "\n",
    "x, y = np.mgrid[:200, :300]  # coordinate grid for 200x300 area\n",
    "im = np.sin(x * np.pi * 0.01) * np.sin(y * np.pi * 0.01) * x * y\n",
    "levels = np.arange(im.min(), im.max(), (im.max() - im.min()) / 10)\n",
    "\n",
    "ax[0, 0].plot(np.cos(np.arange(-np.pi, np.pi, 0.02) ** 1))\n",
    "ax[0, 1].scatter(np.random.randn(100), np.random.randn(100), np.random.randn(100) * 50)\n",
    "ax[0, 2].bar(np.arange(10), np.random.randn(10), color=[\"r\", \"b\"] * 5)\n",
    "ax[1, 0].imshow(im[::-1])  # images are drawn flipped by default\n",
    "ax[1, 1].contour(im, levels=levels)\n",
    "_ = ax[1, 2].hist(im.flat)"
   ]
  },
  {
   "cell_type": "markdown",
   "metadata": {
    "slideshow": {
     "slide_type": "slide"
    }
   },
   "source": [
    "* Plotting facilities can be used to draw pictures instead\n",
    "* This was seen with the tictactoe board example:"
   ]
  },
  {
   "cell_type": "code",
   "execution_count": null,
   "metadata": {
    "slideshow": {
     "slide_type": "fragment"
    }
   },
   "outputs": [],
   "source": [
    "board = np.random.randint(0, 3, size=(3, 3))  # random board\n",
    "\n",
    "fig = plt.figure(figsize=[4, 4])  # create a figure\n",
    "fig.patch.set_facecolor((1, 1, 0.8))\n",
    "\n",
    "ax = fig.add_subplot(111)  # set values and title\n",
    "ax.set_axis_off()\n",
    "ax.set_title(\"Tic Tac Toe!\")"
   ]
  },
  {
   "cell_type": "markdown",
   "metadata": {
    "slideshow": {
     "slide_type": "slide"
    }
   },
   "source": [
    "* Now draw the lines by plotting straight lines\n",
    "* Markers will be drawn by plotting individual points with different markers\n",
    "* This can be done with Polygon instead but this is easier"
   ]
  },
  {
   "cell_type": "code",
   "execution_count": null,
   "metadata": {
    "slideshow": {
     "slide_type": "fragment"
    }
   },
   "outputs": [],
   "source": [
    "for x in range(4):\n",
    "    ax.plot([x, x], [0, 3], \"k\")  # vertical lines\n",
    "    ax.plot([0, 3], [x, x], \"k\")  # horizontal lines\n",
    "\n",
    "fig  # tell jupyter to draw this again"
   ]
  },
  {
   "cell_type": "code",
   "execution_count": null,
   "metadata": {
    "slideshow": {
     "slide_type": "slide"
    }
   },
   "outputs": [],
   "source": [
    "for i, j in np.ndindex(board.shape):\n",
    "    val = board[i, j]\n",
    "\n",
    "    if val in (1, 2):\n",
    "        marker = \"x\" if val == 1 else \"o\"\n",
    "        color = \"b\" if val == 1 else \"r\"\n",
    "\n",
    "        _=ax.plot(0.5 + i, 2.5 - j, marker, markersize=30, markeredgecolor=color, \n",
    "                  markerfacecolor=(1, 1, .8), markeredgewidth=10)\n",
    "\n",
    "fig"
   ]
  },
  {
   "cell_type": "markdown",
   "metadata": {
    "slideshow": {
     "slide_type": "slide"
    }
   },
   "source": [
    "* 3D plotting is also possible:"
   ]
  },
  {
   "cell_type": "code",
   "execution_count": null,
   "metadata": {
    "slideshow": {
     "slide_type": "fragment"
    }
   },
   "outputs": [],
   "source": [
    "from mpl_toolkits.mplot3d import Axes3D\n",
    "\n",
    "a = np.arange(0.0, 20.0 * np.pi, 0.01)\n",
    "fig = plt.figure()\n",
    "ax = fig.add_subplot(111, projection=\"3d\")\n",
    "_ = ax.plot(np.sin(a) * a, np.cos(a) * a, a)"
   ]
  },
  {
   "cell_type": "markdown",
   "metadata": {
    "slideshow": {
     "slide_type": "slide"
    }
   },
   "source": [
    "* Images are an important area of matplotlib usage\n",
    "* Any 2D Numpy array can be plotted as an image\n",
    "* 3D images are expected to have a RGB third dimension"
   ]
  },
  {
   "cell_type": "code",
   "execution_count": null,
   "metadata": {
    "slideshow": {
     "slide_type": "fragment"
    }
   },
   "outputs": [],
   "source": [
    "im = plt.imread(\"chelsea.png\")\n",
    "print(im.shape, im.min(), im.max())\n",
    "plt.axis(\"off\")\n",
    "plt.imshow(im)"
   ]
  },
  {
   "cell_type": "markdown",
   "metadata": {
    "slideshow": {
     "slide_type": "slide"
    }
   },
   "source": [
    "* We can just view the red channel:"
   ]
  },
  {
   "cell_type": "code",
   "execution_count": null,
   "metadata": {
    "slideshow": {
     "slide_type": "fragment"
    }
   },
   "outputs": [],
   "source": [
    "plt.axis(\"off\")\n",
    "_ = plt.imshow(im[..., 0])"
   ]
  },
  {
   "cell_type": "markdown",
   "metadata": {
    "slideshow": {
     "slide_type": "slide"
    }
   },
   "source": [
    "* With a greyscale color map would be better:"
   ]
  },
  {
   "cell_type": "code",
   "execution_count": null,
   "metadata": {
    "slideshow": {
     "slide_type": "fragment"
    }
   },
   "outputs": [],
   "source": [
    "plt.axis(\"off\")\n",
    "_ = plt.imshow(im[..., 0], cmap=\"gray\")  # note spelling"
   ]
  },
  {
   "cell_type": "markdown",
   "metadata": {
    "slideshow": {
     "slide_type": "slide"
    }
   },
   "source": [
    "* Images being just Numpy arrays exposes them to all the math operations we have from the library:"
   ]
  },
  {
   "cell_type": "code",
   "execution_count": null,
   "metadata": {
    "slideshow": {
     "slide_type": "fragment"
    }
   },
   "outputs": [],
   "source": [
    "plt.axis(\"off\")\n",
    "_ = plt.imshow(1 - im[80:160, 120:220])  # negative image"
   ]
  },
  {
   "cell_type": "markdown",
   "metadata": {
    "slideshow": {
     "slide_type": "slide"
    }
   },
   "source": [
    "* Drawing multiple pictures requires subfigure plotting:"
   ]
  },
  {
   "cell_type": "code",
   "execution_count": null,
   "metadata": {
    "slideshow": {
     "slide_type": "fragment"
    }
   },
   "outputs": [],
   "source": [
    "fig, ax = plt.subplots(1, 2, figsize=(20, 10))\n",
    "ax[0].axis(\"off\")\n",
    "ax[0].imshow(1 - im[80:160, 120:220])\n",
    "ax[1].axis(\"off\")\n",
    "ax[1].imshow(im[80:160, 120:220])"
   ]
  },
  {
   "cell_type": "markdown",
   "metadata": {
    "slideshow": {
     "slide_type": "slide"
    }
   },
   "source": [
    "* It's often better to just stack images together with Numpy:"
   ]
  },
  {
   "cell_type": "code",
   "execution_count": null,
   "metadata": {
    "slideshow": {
     "slide_type": "fragment"
    }
   },
   "outputs": [],
   "source": [
    "plt.figure(figsize=(20, 10))  # explicitly create a figure to get the size set\n",
    "plt.imshow(np.hstack([1 - im[80:160, 120:220], im[80:160, 120:220]]))"
   ]
  },
  {
   "cell_type": "markdown",
   "metadata": {
    "slideshow": {
     "slide_type": "slide"
    }
   },
   "source": [
    "# Pandas\n",
    "* Library for dealing with tabular data in a database-like way\n",
    "* Provides facilities for manipulating columns, setting types per column, and interfacing with numpy and matplotlib"
   ]
  },
  {
   "cell_type": "markdown",
   "metadata": {
    "slideshow": {
     "slide_type": "slide"
    }
   },
   "source": [
    "* A `Series` is a column of data, `DataFrame` a full table\n",
    "* Tables of numbers can be loaded straight from numpy:"
   ]
  },
  {
   "cell_type": "code",
   "execution_count": null,
   "metadata": {
    "slideshow": {
     "slide_type": "fragment"
    }
   },
   "outputs": [],
   "source": [
    "import pandas as pd\n",
    "\n",
    "dat = pd.DataFrame(np.random.randint(0, 10, size=(6, 6)))\n",
    "\n",
    "dat"
   ]
  },
  {
   "cell_type": "markdown",
   "metadata": {
    "slideshow": {
     "slide_type": "slide"
    }
   },
   "source": [
    "Pandas provides a number of facilities for plotting with matplotlib:"
   ]
  },
  {
   "cell_type": "code",
   "execution_count": null,
   "metadata": {
    "slideshow": {
     "slide_type": "fragment"
    }
   },
   "outputs": [],
   "source": [
    "dat.plot.bar()"
   ]
  },
  {
   "cell_type": "markdown",
   "metadata": {
    "slideshow": {
     "slide_type": "slide"
    }
   },
   "source": [
    "A number of plots make sense for statistical data in particular:"
   ]
  },
  {
   "cell_type": "code",
   "execution_count": null,
   "metadata": {
    "slideshow": {
     "slide_type": "fragment"
    }
   },
   "outputs": [],
   "source": [
    "dat.boxplot()"
   ]
  },
  {
   "cell_type": "markdown",
   "metadata": {
    "slideshow": {
     "slide_type": "slide"
    }
   },
   "source": [
    "* Series can be accessed by index:"
   ]
  },
  {
   "cell_type": "code",
   "execution_count": null,
   "metadata": {
    "slideshow": {
     "slide_type": "slide"
    }
   },
   "outputs": [],
   "source": [
    "series = dat[0]\n",
    "print(type(series), series.name, series.dtype, np.asarray(series))\n",
    "print(series)"
   ]
  },
  {
   "cell_type": "markdown",
   "metadata": {
    "slideshow": {
     "slide_type": "slide"
    }
   },
   "source": [
    "* Rows accessed in different ways, eg. as Series:"
   ]
  },
  {
   "cell_type": "code",
   "execution_count": null,
   "metadata": {
    "slideshow": {
     "slide_type": "fragment"
    }
   },
   "outputs": [],
   "source": [
    "row1 = dat.loc[1]\n",
    "print(type(row1), row1.name, row1.dtype, np.asarray(row1))\n",
    "row1"
   ]
  },
  {
   "cell_type": "markdown",
   "metadata": {
    "slideshow": {
     "slide_type": "slide"
    }
   },
   "source": [
    "* Column and row names can be set:"
   ]
  },
  {
   "cell_type": "code",
   "execution_count": null,
   "metadata": {
    "slideshow": {
     "slide_type": "fragment"
    }
   },
   "outputs": [],
   "source": [
    "pd.DataFrame(\n",
    "    data=np.random.randint(0, 10, size=(5, 4)),\n",
    "    columns=[\"one\", \"two\", \"three\", \"four\"],\n",
    "    index=[\"r0\", \"r1\", \"r2\", \"r3\", \"r4\"],\n",
    "    dtype=np.float32,\n",
    ")"
   ]
  },
  {
   "cell_type": "markdown",
   "metadata": {
    "slideshow": {
     "slide_type": "slide"
    }
   },
   "source": [
    "* Columns can be provided as objects:"
   ]
  },
  {
   "cell_type": "code",
   "execution_count": null,
   "metadata": {
    "slideshow": {
     "slide_type": "fragment"
    }
   },
   "outputs": [],
   "source": [
    "dmap = {\n",
    "    \"one\": np.ones((4,), dtype=np.int8), \n",
    "    \"two\": np.ones((4,), dtype=np.float32) * 2\n",
    "}\n",
    "\n",
    "pd.DataFrame(dmap)"
   ]
  },
  {
   "cell_type": "markdown",
   "metadata": {
    "slideshow": {
     "slide_type": "slide"
    }
   },
   "source": [
    "* Converting to numpy can be done with the `np.asarray` function\n",
    "* This will convert column types to match as numpy arrays are homogeneous:"
   ]
  },
  {
   "cell_type": "code",
   "execution_count": null,
   "metadata": {
    "slideshow": {
     "slide_type": "fragment"
    }
   },
   "outputs": [],
   "source": [
    "np.asarray(pd.DataFrame(dmap))"
   ]
  },
  {
   "cell_type": "markdown",
   "metadata": {
    "slideshow": {
     "slide_type": "slide"
    }
   },
   "source": [
    "* Various functions exist for manipulating data in tables, eg. `Series.map`:"
   ]
  },
  {
   "cell_type": "code",
   "execution_count": null,
   "metadata": {
    "slideshow": {
     "slide_type": "fragment"
    }
   },
   "outputs": [],
   "source": [
    "# apply map to column 2\n",
    "dat[2].map(lambda i: i > 3)"
   ]
  },
  {
   "cell_type": "markdown",
   "metadata": {
    "slideshow": {
     "slide_type": "slide"
    }
   },
   "source": [
    "* `DataFrame.applymap` can be applied to a whole table:"
   ]
  },
  {
   "cell_type": "code",
   "execution_count": null,
   "metadata": {
    "slideshow": {
     "slide_type": "fragment"
    }
   },
   "outputs": [],
   "source": [
    "dat.applymap(lambda i: i > 3)"
   ]
  },
  {
   "cell_type": "markdown",
   "metadata": {
    "slideshow": {
     "slide_type": "slide"
    }
   },
   "source": [
    "* Loading from CSV files is common for tabular data, eg. load some stock price information:"
   ]
  },
  {
   "cell_type": "code",
   "execution_count": null,
   "metadata": {
    "slideshow": {
     "slide_type": "fragment"
    }
   },
   "outputs": [],
   "source": [
    "df=pd.read_csv(\"stocks.csv\")\n",
    "df"
   ]
  },
  {
   "cell_type": "markdown",
   "metadata": {
    "slideshow": {
     "slide_type": "slide"
    }
   },
   "source": [
    "* A new column can be added to compute the difference between and closing and opening prices for each value:"
   ]
  },
  {
   "cell_type": "code",
   "execution_count": null,
   "metadata": {
    "slideshow": {
     "slide_type": "fragment"
    }
   },
   "outputs": [],
   "source": [
    "df[\"diff\"] = df[\"close\"] - df[\"open\"]\n",
    "df"
   ]
  },
  {
   "cell_type": "markdown",
   "metadata": {
    "slideshow": {
     "slide_type": "slide"
    }
   },
   "source": [
    "* Operators can be applied to data frames and series, like Numpy these produces data structures of results rather than scalar values:"
   ]
  },
  {
   "cell_type": "code",
   "execution_count": null,
   "metadata": {
    "slideshow": {
     "slide_type": "fragment"
    }
   },
   "outputs": [],
   "source": [
    "df[\"diff\"] >= 0  # days where stocks went up during trading"
   ]
  },
  {
   "cell_type": "markdown",
   "metadata": {
    "slideshow": {
     "slide_type": "slide"
    }
   },
   "source": [
    "* Series like this can be used to select rows in a data frame:"
   ]
  },
  {
   "cell_type": "code",
   "execution_count": null,
   "metadata": {
    "slideshow": {
     "slide_type": "fragment"
    }
   },
   "outputs": [],
   "source": [
    "df[df[\"diff\"] >= 0]  # filtered data frame with only positive trading days"
   ]
  },
  {
   "cell_type": "markdown",
   "metadata": {
    "slideshow": {
     "slide_type": "slide"
    }
   },
   "source": [
    "* `DataFrame.pivot` is used to reorder data by selecting a column as a row index, a column of identifiers (or any relatively small set of values) to be the new columns, and the values to distribute across those columns:"
   ]
  },
  {
   "cell_type": "code",
   "execution_count": null,
   "metadata": {
    "slideshow": {
     "slide_type": "fragment"
    }
   },
   "outputs": [],
   "source": [
    "dfp = df.pivot(index=\"date\", columns=\"symbol\", values=\"diff\")\n",
    "dfp"
   ]
  },
  {
   "cell_type": "markdown",
   "metadata": {
    "slideshow": {
     "slide_type": "slide"
    }
   },
   "source": [
    "* Summing the columns gives the total change in price during trading:"
   ]
  },
  {
   "cell_type": "code",
   "execution_count": null,
   "metadata": {
    "slideshow": {
     "slide_type": "fragment"
    }
   },
   "outputs": [],
   "source": [
    "dfp.sum()"
   ]
  },
  {
   "cell_type": "markdown",
   "metadata": {
    "slideshow": {
     "slide_type": "slide"
    }
   },
   "source": [
    "## What We're Not Covering\n",
    "* Many more Python libraries out there for specific tasks or scientific areas, such as:\n",
    "  * Seaborn: even prettier graphs with table data and other features\n",
    "  * Xarray: N-D labeled arrays and datasets \n",
    "  * Sympy: symbolic math, reducing expressions, finding equations solutions as expressions of symbols\n",
    "  * Scipy: large collection of mathematical functions and utilities for image manipulation, signal processsing, optimization, interpolation, etc.\n",
    "  * scikit-learn: machine learning models, datasets, utilities\n",
    "  * Pytorch, Tensorflow: deep learning\n",
    "  * DASK: parallel computing\n",
    "  * SimpleITK, Python-ITK: image analysis"
   ]
  },
  {
   "cell_type": "markdown",
   "metadata": {
    "slideshow": {
     "slide_type": "slide"
    }
   },
   "source": [
    "# That's it! Questions?\n",
    "\n",
    "## Next: Exercises\n",
    "\n",
    "## In two weeks: Data structures and algorithms"
   ]
  }
 ],
 "metadata": {
  "celltoolbar": "Slideshow",
  "kernelspec": {
   "display_name": "Python 3",
   "language": "python",
   "name": "python3"
  },
  "language_info": {
   "codemirror_mode": {
    "name": "ipython",
    "version": 3
   },
   "file_extension": ".py",
   "mimetype": "text/x-python",
   "name": "python",
   "nbconvert_exporter": "python",
   "pygments_lexer": "ipython3",
   "version": "3.8.6"
  }
 },
 "nbformat": 4,
 "nbformat_minor": 4
}
