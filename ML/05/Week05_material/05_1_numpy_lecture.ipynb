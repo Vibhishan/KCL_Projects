{
 "cells": [
  {
   "cell_type": "markdown",
   "metadata": {
    "slideshow": {
     "slide_type": "slide"
    }
   },
   "source": [
    "## <center>Scientific Programming - 7MRI0020 - 2021/2022</center>\n",
    "\n",
    "\n",
    "## <center>Week 05 - Scientific Libraries - Part 01</center>\n",
    "\n",
    "\n",
    "### <center>School of Biomedical Engineering & Imaging Sciences</center>\n",
    "### <center>King's College London</center>"
   ]
  },
  {
   "cell_type": "markdown",
   "metadata": {
    "slideshow": {
     "slide_type": "slide"
    }
   },
   "source": [
    "# Numpy\n",
    "\n",
    "* Numpy provides fast numeric arrays\n",
    "* Provide the `ndarray` type storing contiguous memory arrays for numeric types rather than as Python objects\n",
    "* Computation with Numpy can be incredibly fast versus Python which stores numbers as individual objects\n",
    "* Operators for `ndarray` implement a range of mathematical operations allowing vectorisation of computation"
   ]
  },
  {
   "cell_type": "markdown",
   "metadata": {
    "slideshow": {
     "slide_type": "slide"
    }
   },
   "source": [
    "* Python array of arrays:"
   ]
  },
  {
   "cell_type": "code",
   "execution_count": null,
   "metadata": {
    "slideshow": {
     "slide_type": "fragment"
    }
   },
   "outputs": [],
   "source": [
    "pyarr = [[1, 2, 3], [4, 5, 6], [7, 8, 9]]"
   ]
  },
  {
   "cell_type": "markdown",
   "metadata": {
    "slideshow": {
     "slide_type": "fragment"
    }
   },
   "source": [
    "* Defined as a `list` containing 3 more lists\n",
    "* each list contains 3 numbers stored as individual Python objects"
   ]
  },
  {
   "cell_type": "markdown",
   "metadata": {
    "slideshow": {
     "slide_type": "slide"
    }
   },
   "source": [
    "* Convert to a Numpy array, storing values as a single object:"
   ]
  },
  {
   "cell_type": "code",
   "execution_count": null,
   "metadata": {
    "slideshow": {
     "slide_type": "fragment"
    }
   },
   "outputs": [],
   "source": [
    "import numpy as np\n",
    "\n",
    "a = np.array(pyarr, np.float32)\n",
    "print(repr(a))"
   ]
  },
  {
   "cell_type": "markdown",
   "metadata": {
    "slideshow": {
     "slide_type": "fragment"
    }
   },
   "source": [
    "* Stored as a contiguous block of data in memory, each item is a value and not Python objects"
   ]
  },
  {
   "cell_type": "markdown",
   "metadata": {
    "slideshow": {
     "slide_type": "slide"
    }
   },
   "source": [
    "* Arrays have properties describing their shape and contents:"
   ]
  },
  {
   "cell_type": "code",
   "execution_count": null,
   "metadata": {
    "slideshow": {
     "slide_type": "fragment"
    }
   },
   "outputs": [],
   "source": [
    "print(a.size)  # total number of values\n",
    "print(a.shape)  # array shape, size of each dimension\n",
    "print(a.dtype)  # data type, all stored values have this type\n",
    "print(a.ndim)  # number of dimensions, ie. len(a.shape)\n",
    "print(a.itemsize)  # size of each data value in bytes\n",
    "print(a.nbytes)  # size of whole array in bytes, ie. a.size*a.itemsize"
   ]
  },
  {
   "cell_type": "markdown",
   "metadata": {
    "slideshow": {
     "slide_type": "slide"
    }
   },
   "source": [
    "* Every array has a dtype defining the type of values stored\n",
    "* Integer values (`np.int32`, `np.uint8`, etc.)\n",
    "* Float values (`np.float32`, `np.float64`)\n",
    "* Boolean values (`np.bool`)\n",
    "* Complex values, structure types, strings, etc."
   ]
  },
  {
   "cell_type": "code",
   "execution_count": null,
   "metadata": {
    "slideshow": {
     "slide_type": "fragment"
    }
   },
   "outputs": [],
   "source": [
    "print(np.array([[-1.2, 2], [3.4, -4]], dtype=np.float64))  # double\n",
    "print(np.array([[-1.2, 2], [3.4, -4]], dtype=np.uint16))  # unsigned short"
   ]
  },
  {
   "cell_type": "markdown",
   "metadata": {
    "slideshow": {
     "slide_type": "slide"
    }
   },
   "source": [
    "* Various functions exist for creating arrays:"
   ]
  },
  {
   "cell_type": "code",
   "execution_count": null,
   "metadata": {
    "slideshow": {
     "slide_type": "fragment"
    }
   },
   "outputs": [],
   "source": [
    "print(np.eye(2))  # identity matrix of given rank\n",
    "print(np.full((2, 2), 42))  # matrix of given size filled with value\n",
    "print(np.random.rand(2, 2))  # random array"
   ]
  },
  {
   "cell_type": "markdown",
   "metadata": {
    "slideshow": {
     "slide_type": "slide"
    }
   },
   "source": [
    "* Why use Numpy?\n",
    "* Fast math operations!"
   ]
  },
  {
   "cell_type": "code",
   "execution_count": null,
   "metadata": {
    "slideshow": {
     "slide_type": "fragment"
    }
   },
   "outputs": [],
   "source": [
    "large_list = list(range(1000000))\n",
    "%timeit sum(large_list)\n",
    "\n",
    "large_array = np.array(large_list, np.int32)\n",
    "%timeit np.sum(large_array)"
   ]
  },
  {
   "cell_type": "markdown",
   "metadata": {
    "slideshow": {
     "slide_type": "slide"
    }
   },
   "source": [
    "* Various functions exist to reshape arrays into new ones containing the same data:"
   ]
  },
  {
   "cell_type": "code",
   "execution_count": null,
   "metadata": {
    "slideshow": {
     "slide_type": "fragment"
    }
   },
   "outputs": [],
   "source": [
    "a = np.arange(6)\n",
    "print(a.reshape(2, 3))  # dimensions (6,) to (2,3)\n",
    "print(a[:,None])  # dimensions (6,) to (6,1)"
   ]
  },
  {
   "cell_type": "markdown",
   "metadata": {
    "slideshow": {
     "slide_type": "slide"
    }
   },
   "source": [
    "* The type of an array can be changed with `astype` with the associated type conversions done internally:"
   ]
  },
  {
   "cell_type": "code",
   "execution_count": null,
   "metadata": {
    "slideshow": {
     "slide_type": "fragment"
    }
   },
   "outputs": [],
   "source": [
    "print(np.array([1.2, 3.4]).astype(np.int32))\n",
    "print(np.array([1.2, 3.4]).astype(np.float16))\n",
    "print(np.array([1.2, 0, 3.4]).astype(np.bool))"
   ]
  },
  {
   "cell_type": "markdown",
   "metadata": {
    "slideshow": {
     "slide_type": "fragment"
    }
   },
   "source": [
    "* Note that this creates a new array with newly allocated memory"
   ]
  },
  {
   "cell_type": "markdown",
   "metadata": {
    "slideshow": {
     "slide_type": "slide"
    }
   },
   "source": [
    "* We're familiar with array indexing using the `:`, `::` syntax\n",
    "* Ellipsis `...` can be used to indicate `:` for zero or more dimensions\n",
    "* Eg. given a n-dimensional array `arr`, the expression `arr[0,...,1]` is equivalent to accessing the index 0 at dimension 0, everything in every subsequent dimension, except taking index 1 in the last dimension"
   ]
  },
  {
   "cell_type": "code",
   "execution_count": null,
   "metadata": {
    "slideshow": {
     "slide_type": "slide"
    }
   },
   "outputs": [],
   "source": [
    "a = np.random.rand(5, 6, 7, 8)  # 4D array\n",
    "print(a[0, :, :, 1].shape)\n",
    "print(a[0, ..., 1].shape)  # equivalent to above\n",
    "print(a[..., 1, 2].shape)  # take all of first 2 dimensions\n",
    "print(a[1, 2, ...].shape)  # take all of last 2 dimensions"
   ]
  },
  {
   "cell_type": "markdown",
   "metadata": {
    "slideshow": {
     "slide_type": "slide"
    }
   },
   "source": [
    "* Indexing can be done programmatically with the `slice` class\n",
    "* Constructor accepts `start`, `end`, and `step` index values, so index `a:b:c` is equivalent to `slice(a,b,c)`\n",
    "* `None` used when omitting an index, so `:b:c` (meaning from the start up to `b` in `c` steps) is `slice(None,b,c)`\n",
    "* `slice(None)` equivalent to `:`"
   ]
  },
  {
   "cell_type": "markdown",
   "metadata": {
    "slideshow": {
     "slide_type": "slide"
    }
   },
   "source": [
    "* A tuple of slices can be used to provide the indices to an array:"
   ]
  },
  {
   "cell_type": "code",
   "execution_count": null,
   "metadata": {
    "slideshow": {
     "slide_type": "fragment"
    }
   },
   "outputs": [],
   "source": [
    "a = np.diag(np.arange(1, 10))  # 1-9 on the diagonal of a 9x9 array\n",
    "\n",
    "print(a[1:8:2, 3::1].shape)\n",
    "slices = (slice(1, 8, 2), slice(3, None, 1))\n",
    "print(a[slices].shape)  # equivalent to above\n",
    "\n",
    "slices = (slice(None, None, 3),) * a.ndim\n",
    "print(a[slices])  # take every 3rd value from every dimension"
   ]
  },
  {
   "cell_type": "markdown",
   "metadata": {
    "slideshow": {
     "slide_type": "slide"
    }
   },
   "source": [
    "* Tuples of indices can also be provided:"
   ]
  },
  {
   "cell_type": "code",
   "execution_count": null,
   "metadata": {
    "slideshow": {
     "slide_type": "fragment"
    }
   },
   "outputs": [],
   "source": [
    "print(a[2, 2])  # get single value\n",
    "print(a[[2], [2]])  # get array with single value\n",
    "\n",
    "# get array of 2 values containing arr[2,2] and arr[3,3]\n",
    "print(a[(2, 3), (2, 3)])\n",
    "\n",
    "print(a[(0, 1, 2, 3), (0, 1, 2, 3)])"
   ]
  },
  {
   "cell_type": "markdown",
   "metadata": {
    "slideshow": {
     "slide_type": "slide"
    }
   },
   "source": [
    "* When Numpy arrays are sliced, a view is returned\n",
    "* This is a shallow copy of the original which uses the original allocated memory\n",
    "* Changes to the view affect the original\n",
    "* Deep copying can be done with the `copy` method"
   ]
  },
  {
   "cell_type": "code",
   "execution_count": null,
   "metadata": {
    "slideshow": {
     "slide_type": "slide"
    }
   },
   "outputs": [],
   "source": [
    "a = np.arange(10)\n",
    "print(a)\n",
    "\n",
    "b = a[3:6]\n",
    "b[:] = 0  # assign 0 to every position in b\n",
    "\n",
    "print(a)"
   ]
  },
  {
   "cell_type": "markdown",
   "metadata": {
    "slideshow": {
     "slide_type": "fragment"
    }
   },
   "source": [
    "* Views prevent unnecessary memory copying, but be aware of the side-effects of sharing data"
   ]
  },
  {
   "cell_type": "markdown",
   "metadata": {
    "slideshow": {
     "slide_type": "slide"
    }
   },
   "source": [
    "* Multiple dimensions can be specified between `[]` brackets, this invokes one operation\n",
    "* Using multiple bracket sets means multiple operations, be aware of inefficient creating/copying when doing this"
   ]
  },
  {
   "cell_type": "code",
   "execution_count": null,
   "metadata": {
    "slideshow": {
     "slide_type": "fragment"
    }
   },
   "outputs": [],
   "source": [
    "a = np.random.rand(1000, 1000)\n",
    "print(a[500, 500])  # get single value\n",
    "print(a[500][500])  # get view of row then get value in view\n",
    "\n",
    "%timeit a[500, 500]\n",
    "%timeit a[500][500]"
   ]
  },
  {
   "cell_type": "markdown",
   "metadata": {
    "slideshow": {
     "slide_type": "slide"
    }
   },
   "source": [
    "* Operators are overloaded on arrays to implement vectorized mathematical operations\n",
    "* Eg. `__add__` (`+`) implements element-wise addition, `-` is element-wise subtraction, etc.\n",
    "* Boolean operators (`==`, `<=`, etc.) are element-wise and produce arrays of boolean values"
   ]
  },
  {
   "cell_type": "code",
   "execution_count": null,
   "metadata": {
    "slideshow": {
     "slide_type": "fragment"
    }
   },
   "outputs": [],
   "source": [
    "a = np.random.rand(1000, 1000)\n",
    "\n",
    "b = a + a  # add arrays together\n",
    "b = a + 10  # add constant values to arrays\n",
    "b = 10 + a  # right-hand side operations work too"
   ]
  },
  {
   "cell_type": "markdown",
   "metadata": {
    "slideshow": {
     "slide_type": "slide"
    }
   },
   "source": [
    "* These implement per-element operations and produce new arrays\n",
    "* Matrix operators also provided:"
   ]
  },
  {
   "cell_type": "code",
   "execution_count": null,
   "metadata": {
    "slideshow": {
     "slide_type": "fragment"
    }
   },
   "outputs": [],
   "source": [
    "b = a @ a  # matrix product\n",
    "b = a.dot(a)  # same thing\n",
    "b = a.T  # transpose"
   ]
  },
  {
   "cell_type": "markdown",
   "metadata": {
    "slideshow": {
     "slide_type": "slide"
    }
   },
   "source": [
    "* Assignment operators modify existing arrays rather than create new ones\n",
    "* Represents another important efficiency concern, choose one method or the other depending on need"
   ]
  },
  {
   "cell_type": "code",
   "execution_count": null,
   "metadata": {
    "slideshow": {
     "slide_type": "fragment"
    }
   },
   "outputs": [],
   "source": [
    "b += 10  # add to b, nothing new created\n",
    "b *= a  # multiply, semantically equivalent to b=b*a but faster\n",
    "# b @= a # not supported yet"
   ]
  },
  {
   "cell_type": "markdown",
   "metadata": {
    "slideshow": {
     "slide_type": "slide"
    }
   },
   "source": [
    "* Many more operations are defined as methods of `array` or as library functions:"
   ]
  },
  {
   "cell_type": "code",
   "execution_count": null,
   "metadata": {
    "slideshow": {
     "slide_type": "fragment"
    }
   },
   "outputs": [],
   "source": [
    "b = a.sum()  # sum of all values\n",
    "b = a.min(axis=1)  # minimal values along axis 1\n",
    "b = np.linalg.inv(a)  # matrix inverse"
   ]
  },
  {
   "cell_type": "markdown",
   "metadata": {
    "slideshow": {
     "slide_type": "slide"
    }
   },
   "source": [
    "* Universal functions (ufunc) operate elementwise on arrays\n",
    "* They accept Python as well as Numpy data\n",
    "* These implement a range of important mathematical functions"
   ]
  },
  {
   "cell_type": "code",
   "execution_count": null,
   "metadata": {
    "slideshow": {
     "slide_type": "fragment"
    }
   },
   "outputs": [],
   "source": [
    "print(np.exp(1))\n",
    "print(np.exp([1, 2]))\n",
    "print(np.exp(np.arange(1, 3)))"
   ]
  },
  {
   "cell_type": "markdown",
   "metadata": {
    "slideshow": {
     "slide_type": "slide"
    }
   },
   "source": [
    "* Boolean operators produce arrays of bool values\n",
    "* Useful for testing properties of arrays, especially with helper functions"
   ]
  },
  {
   "cell_type": "code",
   "execution_count": null,
   "metadata": {
    "slideshow": {
     "slide_type": "fragment"
    }
   },
   "outputs": [],
   "source": [
    "a = np.arange(10)\n",
    "print(a > 4)  # contains True for values satisfying inequality\n",
    "print(np.all(a > 4))  # test if all values are True"
   ]
  },
  {
   "cell_type": "markdown",
   "metadata": {
    "slideshow": {
     "slide_type": "slide"
    }
   },
   "source": [
    "* A boolean array of the same size as the target can be used to index values\n",
    "* Produces a view of wherever in target the index array is True"
   ]
  },
  {
   "cell_type": "code",
   "execution_count": null,
   "metadata": {
    "slideshow": {
     "slide_type": "fragment"
    }
   },
   "outputs": [],
   "source": [
    "a = np.arange(10)\n",
    "testop = (a % 2) == 0  # True for all even values\n",
    "print(testop)\n",
    "\n",
    "print(a[testop])  # get values where testop is True\n",
    "a[testop] = -1  # can assign to these places\n",
    "print(a)"
   ]
  },
  {
   "cell_type": "markdown",
   "metadata": {
    "slideshow": {
     "slide_type": "slide"
    }
   },
   "source": [
    "* Arrays can be treated like iterables:"
   ]
  },
  {
   "cell_type": "code",
   "execution_count": null,
   "metadata": {
    "slideshow": {
     "slide_type": "fragment"
    }
   },
   "outputs": [],
   "source": [
    "a = np.diag(np.arange(1, 5))\n",
    "for i, row in enumerate(a):\n",
    "    print(i, row)"
   ]
  },
  {
   "cell_type": "markdown",
   "metadata": {
    "slideshow": {
     "slide_type": "slide"
    }
   },
   "source": [
    "* Expansion syntax with `*` works for arrays:"
   ]
  },
  {
   "cell_type": "code",
   "execution_count": null,
   "metadata": {
    "slideshow": {
     "slide_type": "fragment"
    }
   },
   "outputs": [],
   "source": [
    "def print_shapes(*arrays):\n",
    "    for i in arrays:\n",
    "        print(i.shape)\n",
    "\n",
    "\n",
    "print_shapes(*a)"
   ]
  },
  {
   "cell_type": "markdown",
   "metadata": {
    "slideshow": {
     "slide_type": "slide"
    }
   },
   "source": [
    "* Iterating over every value in an array can be done in various ways:"
   ]
  },
  {
   "cell_type": "code",
   "execution_count": null,
   "metadata": {
    "slideshow": {
     "slide_type": "fragment"
    }
   },
   "outputs": [],
   "source": [
    "for i in range(a.shape[0]):\n",
    "    for j in range(a.shape[1]):\n",
    "        print(a[i, j], end=\" \")"
   ]
  },
  {
   "cell_type": "code",
   "execution_count": null,
   "metadata": {
    "slideshow": {
     "slide_type": "fragment"
    }
   },
   "outputs": [],
   "source": [
    "for i in a.flat:\n",
    "    print(i, end=\" \")"
   ]
  },
  {
   "cell_type": "markdown",
   "metadata": {
    "slideshow": {
     "slide_type": "slide"
    }
   },
   "source": [
    "* A iterator of indices can be created with an array's shape:"
   ]
  },
  {
   "cell_type": "code",
   "execution_count": null,
   "metadata": {
    "slideshow": {
     "slide_type": "fragment"
    }
   },
   "outputs": [],
   "source": [
    "for i, j in np.ndindex(*a.shape):\n",
    "    print(a[i, j], end=\" \")"
   ]
  },
  {
   "cell_type": "markdown",
   "metadata": {
    "slideshow": {
     "slide_type": "slide"
    }
   },
   "source": [
    "* `np.nditer` is a complex object capable of many iteration operations:"
   ]
  },
  {
   "cell_type": "code",
   "execution_count": null,
   "metadata": {
    "slideshow": {
     "slide_type": "fragment"
    }
   },
   "outputs": [],
   "source": [
    "print(list(np.nditer(a)))"
   ]
  },
  {
   "cell_type": "markdown",
   "metadata": {
    "slideshow": {
     "slide_type": "slide"
    }
   },
   "source": [
    "* Can be used to modify arrays as well:"
   ]
  },
  {
   "cell_type": "code",
   "execution_count": null,
   "metadata": {
    "slideshow": {
     "slide_type": "fragment"
    }
   },
   "outputs": [],
   "source": [
    "a = np.diag([1, 2, 3])\n",
    "with np.nditer(a, op_flags=[\"readwrite\"]) as it:\n",
    "    for i in it:\n",
    "        i[...] += 10\n",
    "\n",
    "print(a)"
   ]
  },
  {
   "cell_type": "markdown",
   "metadata": {
    "slideshow": {
     "slide_type": "slide"
    }
   },
   "source": [
    "* Remember that numeric operators/functions are vector operations, so you don't ever have to do this:"
   ]
  },
  {
   "cell_type": "code",
   "execution_count": null,
   "metadata": {
    "slideshow": {
     "slide_type": "fragment"
    }
   },
   "outputs": [],
   "source": [
    "a = np.diag([1, 2, 3])\n",
    "b = np.ones_like(a)\n",
    "c = np.zeros_like(a)\n",
    "\n",
    "for i, j in np.ndindex(*a.shape):\n",
    "    c[i, j] = a[i, j] + (1 / b[i, j] + 1)"
   ]
  },
  {
   "cell_type": "code",
   "execution_count": null,
   "metadata": {
    "slideshow": {
     "slide_type": "fragment"
    }
   },
   "outputs": [],
   "source": [
    "# Just do this\n",
    "c = a + (1 / b + 1)"
   ]
  },
  {
   "cell_type": "markdown",
   "metadata": {
    "slideshow": {
     "slide_type": "slide"
    }
   },
   "source": [
    "* Many more features and functions provided by the library\n",
    "* Reading documentation strongly encouraged: https://docs.scipy.org/doc/numpy/index.html\n",
    "* Getting help in Jupyter can be done by giving an object name in a cell with `?` after it:\n",
    "\n",
    "      np.array?\n",
    "      \n",
    "* This will bring up a documentation window"
   ]
  },
  {
   "cell_type": "markdown",
   "metadata": {
    "slideshow": {
     "slide_type": "slide"
    }
   },
   "source": [
    "# That's it! Questions?\n",
    "\n",
    "## Next: Exercises\n",
    "\n",
    "## Tomorrow: matplotlib and pandas\n",
    "\n"
   ]
  }
 ],
 "metadata": {
  "celltoolbar": "Slideshow",
  "kernelspec": {
   "display_name": "Python 3",
   "language": "python",
   "name": "python3"
  },
  "language_info": {
   "codemirror_mode": {
    "name": "ipython",
    "version": 3
   },
   "file_extension": ".py",
   "mimetype": "text/x-python",
   "name": "python",
   "nbconvert_exporter": "python",
   "pygments_lexer": "ipython3",
   "version": "3.8.6"
  }
 },
 "nbformat": 4,
 "nbformat_minor": 4
}
