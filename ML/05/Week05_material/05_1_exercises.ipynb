{
 "cells": [
  {
   "cell_type": "markdown",
   "metadata": {},
   "source": [
    "## <center>Scientific Programming - 7MRI0020 - 2021/2022</center>\n",
    "\n",
    "\n",
    "## <center>Week 05 - Scientific Libraries - Part 01 - Exercises </center>\n",
    "\n",
    "\n",
    "### <center>School of Biomedical Engineering & Imaging Sciences</center>\n",
    "### <center>King's College London</center>"
   ]
  },
  {
   "cell_type": "markdown",
   "metadata": {},
   "source": [
    "\n",
    "\n",
    "The purpose of this section is to practice the use of Numpy."
   ]
  },
  {
   "cell_type": "markdown",
   "metadata": {},
   "source": [
    "### Exercise 1.1:\n",
    "Import numpy and convert `numbers` to a numpy array by applying np.array or another function to it, be sure the `dtype` of the array is an integer type like `int32`."
   ]
  },
  {
   "cell_type": "code",
   "execution_count": 1,
   "metadata": {},
   "outputs": [
    {
     "name": "stdout",
     "output_type": "stream",
     "text": [
      "(20,) 1 int64\n"
     ]
    }
   ],
   "source": [
    "import numpy as np\n",
    "numbers = [411, 131, 272, 737, 129, 591, 943, 801, 62, 357, 199, 814, 136, 523, 556, 55, 860, 943, 411, 760]\n",
    "\n",
    "arr = np.array(numbers) # your array here\n",
    "print(arr.shape, arr.ndim, arr.dtype)"
   ]
  },
  {
   "cell_type": "markdown",
   "metadata": {},
   "source": [
    "### Exercise 1.2:\n",
    "Calculate the cumulative sum of `arr` starting with an empty array with the same shape/type as `arr`:"
   ]
  },
  {
   "cell_type": "code",
   "execution_count": 3,
   "metadata": {},
   "outputs": [
    {
     "name": "stdout",
     "output_type": "stream",
     "text": [
      "[ 411  542  814 1551 1680 2271 3214 4015 4077 4434 4633 5447 5583 6106\n",
      " 6662 6717 7577 8520 8931 9691]\n"
     ]
    }
   ],
   "source": [
    "cumsum=np.zeros_like(arr) # zeros_like creates a new array of the same type/size but with zeros\n",
    "# fill in cumsum here (don't cheat by using np.cumsum)\n",
    "print(np.cumsum(arr))"
   ]
  },
  {
   "cell_type": "markdown",
   "metadata": {},
   "source": [
    "### Exercise 1.3:\n",
    "We can store `n` cartesian coordinates having `D` dimensions in arrays with shape [n,D]. Provide a definition for the routine below to calculate the euclidean length of these vectors for any value of `D`, ei. for 2D vector components `x` and `y` calculate `sqrt(x**2+y**2)`. Keep in mind that functions in Numpy are vectorized operations. Refer to the documentation of `numpy.sum` for a hint of how to do this."
   ]
  },
  {
   "cell_type": "code",
   "execution_count": 7,
   "metadata": {},
   "outputs": [
    {
     "name": "stdout",
     "output_type": "stream",
     "text": [
      "(3, 2) [1. 0. 5.]\n"
     ]
    }
   ],
   "source": [
    "def length(vecs):\n",
    "    \"\"\"Calculate a array of shape (n,) containing the lengths of coordinates in `vecs` with shape (n,D).\"\"\"\n",
    "    # your code here\n",
    "    euclid_distance = np.sqrt(np.square(vecs[:,0]) + np.square(vecs[:,1]))\n",
    "    return euclid_distance\n",
    "    \n",
    "vecs=np.asarray([\n",
    "    (0,1), # length of 1\n",
    "    (0,0), # length of 0\n",
    "    (3,4) # length of 5\n",
    "])\n",
    "\n",
    "print(vecs.shape,length(vecs))"
   ]
  },
  {
   "cell_type": "markdown",
   "metadata": {},
   "source": [
    "### Exercise 1.4:\n",
    "Rescale `arr` to the interval [0,1], ie. so that the smallest number becomes 0 and largest 1. Be careful of dtypes of your arrays. "
   ]
  },
  {
   "cell_type": "code",
   "execution_count": 5,
   "metadata": {},
   "outputs": [
    {
     "name": "stdout",
     "output_type": "stream",
     "text": [
      "[0.4009009  0.08558559 0.24436937 0.76801802 0.08333333 0.6036036\n",
      " 1.         0.84009009 0.00788288 0.34009009 0.16216216 0.85472973\n",
      " 0.09121622 0.52702703 0.56418919 0.         0.90653153 1.\n",
      " 0.4009009  0.79391892]\n"
     ]
    }
   ],
   "source": [
    "def rescale(a):\n",
    "    \"\"\"Return the rescaled version of a on the [0,1] interval.\"\"\"\n",
    "    # your code here\n",
    "    minv = a.min()\n",
    "    maxv = a.max()\n",
    "    return (a - minv)/(maxv - minv)\n",
    "    \n",
    "    \n",
    "print(rescale(arr))"
   ]
  },
  {
   "cell_type": "markdown",
   "metadata": {},
   "source": [
    "### Exercise 1.5:\n",
    "Define a function which flips a randomly chosen axis of an input (see `numpy.random` for suggestions on how to do random choice). The input can be any dimensionality (1D, 2D, 3D, etc.) which you can check with the `ndim` member. A 2D array `a` flipped in the first dimension would be `a[::-1,:]`. You'll probably want to use `slice` objects to represent the indices of the output somehow."
   ]
  },
  {
   "cell_type": "code",
   "execution_count": 9,
   "metadata": {},
   "outputs": [
    {
     "name": "stdout",
     "output_type": "stream",
     "text": [
      "True\n",
      "[760 411 943 860  55 556 523 136 814 199 357  62 801 943 591 129 737 272\n",
      " 131 411]\n"
     ]
    }
   ],
   "source": [
    "def flip(a):\n",
    "    \"\"\"Flip a randomly chosen axis of `a`.\"\"\"\n",
    "    # your code here\n",
    "    return np.flip(a)\n",
    "    #slices = [slice(None)*a.ndim]\n",
    "    #print(ind)\n",
    "    #slices[ind] = slice(None,None, -1)\n",
    "    #return a[tuple(slices)]\n",
    "    \n",
    "    \n",
    "test = np.arange(5)\n",
    "print(np.all(flip(test) == test[::-1])) # basic sanity check for a 1D array\n",
    "\n",
    "print(flip(arr))"
   ]
  },
  {
   "cell_type": "markdown",
   "metadata": {},
   "source": [
    "### Exercise 1.6:\n",
    "Below is a function for finding the first index of the maximal value in a 2D array. It's not particularly efficient and works only for 2D arrays. Consider improving it with some of the better routines for iterating over Numpy arrays, including adding support for arbitrary dimensions and finding all indices of the maximal value (which can be a one-liner with the right routines)."
   ]
  },
  {
   "cell_type": "code",
   "execution_count": 2,
   "metadata": {},
   "outputs": [
    {
     "name": "stdout",
     "output_type": "stream",
     "text": [
      "(1, 15)\n"
     ]
    }
   ],
   "source": [
    "def max_index(a):\n",
    "    \"\"\"Return the *first* index of the maximal value in 2D array `a`.\"\"\"\n",
    "    return np.unravel_index(np.argmax(a), a.shape)\n",
    "\n",
    "test=np.random.randint(0,100,(20,20))\n",
    "\n",
    "print(max_index(test))"
   ]
  },
  {
   "cell_type": "markdown",
   "metadata": {},
   "source": [
    "### Exercise 1.7:\n",
    "We've seen how to select a view of all the values in an array matching some criteria with boolean expressions. Define a function which selects the instances of the maximal value in an array and sets every odd one to 0 only. Eg. an array `[3,4,1,4,-2,2,0,-1,4,4]` would become `[3,0,1,4,-2,2,0,-1,0,4]`. There are other routines for finding places where values are considered True in arrays (eg. `where`)."
   ]
  },
  {
   "cell_type": "code",
   "execution_count": 12,
   "metadata": {},
   "outputs": [
    {
     "name": "stdout",
     "output_type": "stream",
     "text": [
      "[5 3 2 4 0 1 8 7 5 7 3 7 8 9 9 1 1 7 7 6 3 0 3 6 4 0 7 4 9 6]\n",
      "[5 3 2 4 0 1 8 7 5 7 3 7 8 0 9 1 1 7 7 6 3 0 3 6 4 0 7 4 0 6]\n"
     ]
    }
   ],
   "source": [
    "def zero_odd_maxes(a):\n",
    "    \"\"\"Zero out every off maximal value in `a`.\"\"\"\n",
    "    max_indices = list(np.where(a == np.max(a))[0])\n",
    "    a[max_indices[::2]] = 0\n",
    "    return a\n",
    "    \n",
    "    \n",
    "test=np.random.randint(0,10,(30,))\n",
    "print(test)\n",
    "\n",
    "print(zero_odd_maxes(test))"
   ]
  },
  {
   "cell_type": "markdown",
   "metadata": {},
   "source": [
    "## Extra 1: Life.ipynb\n",
    "In the separate notebook `life.ipynb` is an implementation of Conway's Game of Life. It's also not terribly optimal so if you're still wanting to practice writing efficient Numpy code go there now and read the instructions."
   ]
  }
 ],
 "metadata": {
  "kernelspec": {
   "display_name": "Python 3",
   "language": "python",
   "name": "python3"
  },
  "language_info": {
   "codemirror_mode": {
    "name": "ipython",
    "version": 3
   },
   "file_extension": ".py",
   "mimetype": "text/x-python",
   "name": "python",
   "nbconvert_exporter": "python",
   "pygments_lexer": "ipython3",
   "version": "3.8.8"
  }
 },
 "nbformat": 4,
 "nbformat_minor": 2
}
