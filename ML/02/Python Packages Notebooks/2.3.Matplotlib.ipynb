{
 "cells": [
  {
   "cell_type": "markdown",
   "metadata": {},
   "source": [
    "# Matplotlib"
   ]
  },
  {
   "cell_type": "markdown",
   "metadata": {},
   "source": [
    "Matplotlib is a plotting library that provides functionality very similar to that seen in Matlab. In this tutorial we will give a brief introduction to making simple line/scatter plots. You will be introduced to more advanced plots over the course of the lecture series. The first thing we need to do is import the modules used throughout the notebook, including the Matplotlib plotting module ```pyplot```, and adding ```%matplotlib inline ``` to ensure all plots are rendered inline, after the cells that call them."
   ]
  },
  {
   "cell_type": "code",
   "execution_count": null,
   "metadata": {},
   "outputs": [],
   "source": [
    "import numpy as np\n",
    "import matplotlib.pyplot as plt\n",
    "%matplotlib inline "
   ]
  },
  {
   "cell_type": "markdown",
   "metadata": {},
   "source": [
    "__Note__\n",
    "*  ```%matplotlib inline``` will make your plot outputs appear and be stored within the notebook."
   ]
  },
  {
   "cell_type": "markdown",
   "metadata": {},
   "source": [
    "## Basic Plotting"
   ]
  },
  {
   "cell_type": "markdown",
   "metadata": {},
   "source": [
    "Let's start by plotting a simple linear function $y=2x$.\n",
    "\n",
    "__Task 1.1__: Plot the function $y = 2x$ using the ```plt.plot``` function."
   ]
  },
  {
   "cell_type": "code",
   "execution_count": null,
   "metadata": {},
   "outputs": [],
   "source": [
    "# Prepare the data\n",
    "x = np.linspace(-10, 10, 50)\n",
    "y = 2*x\n",
    "\n",
    "### (Task 1.1): Plot the data\n",
    "#todo \n",
    "\n",
    "# Show the plot \n",
    "# (not necessary when plotting with %inline keyword \n",
    "#  but essential when plotting from scripts)\n",
    "#plt.show()"
   ]
  },
  {
   "cell_type": "markdown",
   "metadata": {},
   "source": [
    "We can label the plot and the axes, add a legend and a title to the plot.\n",
    "\n",
    "__Task 1.2__: Add labels to the axis using ```plt.xlabel``` and ```plt.ylabel```\n",
    "\n",
    "__Task 1.3__: Add a title to your plot using ```plt.title```\n"
   ]
  },
  {
   "cell_type": "code",
   "execution_count": null,
   "metadata": {},
   "outputs": [],
   "source": [
    "# Plot the data\n",
    "plt.plot(x, y)\n",
    "\n",
    "### (Task 1.2): label both axis\n",
    "plt.xlabel('x axis label')\n",
    "#todo y-axis\n",
    "\n",
    "\n",
    "### (Task 1.3): add a title\n",
    "#todo\n",
    "\n",
    "\n",
    "# Legend\n",
    "plt.legend(['2x'], loc='lower right') \n",
    "# Note: the first argument is a list of strings; \n",
    "#       the second argument is the desired location for the legend (within the plot) \n",
    "\n",
    "# Note: Alternative to creating a legend is:\n",
    "# plt.plot(x, y, label = '2x')\n",
    "# plt.legend()"
   ]
  },
  {
   "cell_type": "markdown",
   "metadata": {},
   "source": [
    "In order to plot multiple functions in the same figure, one simply adds more ```plt.plot``` calls.\n",
    "\n",
    "You can also add them in a single line such as: ```plt.plot(x, y, x, y2)```.\n",
    "\n",
    "Let's look at an example for $y = x^2$:"
   ]
  },
  {
   "cell_type": "code",
   "execution_count": null,
   "metadata": {},
   "outputs": [],
   "source": [
    "# Create a new function\n",
    "y_2 = x**2\n",
    "\n",
    "# Plot y = 2x\n",
    "plt.plot(x, y)\n",
    "# Plot y = x^2\n",
    "plt.plot(x, y_2)\n",
    "\n",
    "# Labels\n",
    "plt.xlabel('x axis label')\n",
    "plt.ylabel('y axis label')\n",
    "\n",
    "# Legend\n",
    "plt.legend(['y', 'y_2'])\n",
    "\n",
    "# Title \n",
    "plt.title('Two functions')"
   ]
  },
  {
   "cell_type": "markdown",
   "metadata": {},
   "source": [
    "__Task 1.4__: Add a third function $y = exp(x/2)$. Change the labels to 'x' and 'f(x)' for the x and y axis respectively. Add the third function to the legend of the plot and change the title to 'My three functions'."
   ]
  },
  {
   "cell_type": "code",
   "execution_count": null,
   "metadata": {},
   "outputs": [],
   "source": [
    "### (Task 1.4)\n",
    "\n",
    "# Create a third function\n",
    "y_3 = np.exp(x/2)\n",
    "\n",
    "# Plot y_1\n",
    "plt.plot(x, y)\n",
    "\n",
    "# Plot y_2\n",
    "plt.plot(x, y_2)\n",
    "\n",
    "# Plot y_3\n",
    "#todo\n",
    "\n",
    "# Labels\n",
    "#todo\n",
    "\n",
    "# Title \n",
    "#todo\n",
    "\n",
    "# Legend\n",
    "plt.legend(['$y=2x$', '$y=x^2$', '$y=$']) # note LaTeX like expressions in legend"
   ]
  },
  {
   "cell_type": "markdown",
   "metadata": {},
   "source": [
    "It is possible to change the style of the plot using an optional third argument detailing the format string.  The \n",
    "letters and symbols of the format string are taken from MATLAB, such that you concatenate a code for the string color  a line style string, for example the default format string is ‘b-‘, which is a solid blue line. \n",
    "\n",
    "\n",
    "__Task 1.5__: Change the code below to use red circles ('ro') for $y = 2x$ and green triangles ('g^') for $y = x^2$.\n"
   ]
  },
  {
   "cell_type": "code",
   "execution_count": null,
   "metadata": {},
   "outputs": [],
   "source": [
    "### (Task 1.5)\n",
    "plt.plot(x, y, 'b-', x, y_2, 'b-') #todo\n",
    "\n",
    "# Labels\n",
    "plt.xlabel('x axis label')\n",
    "plt.ylabel('y axis label')\n",
    "\n",
    "# Legend\n",
    "plt.legend(['y', 'y_2'])\n",
    "\n",
    "# Title\n",
    "plt.title('Different styles')"
   ]
  },
  {
   "cell_type": "markdown",
   "metadata": {},
   "source": [
    "For many more arguments controlling the properties of ```pyplot``` lines and markers see https://matplotlib.org/api/_as_gen/matplotlib.pyplot.plot.html"
   ]
  },
  {
   "cell_type": "markdown",
   "metadata": {},
   "source": [
    "## Setting ticks and limits"
   ]
  },
  {
   "cell_type": "markdown",
   "metadata": {},
   "source": [
    "In some cases it may be necessary to change the range of the x and y axis and/or change the regularity or spacing of the ticks on each axis. This can be achived using ```xlim/ylim``` and ```xticks/yticks``` functions "
   ]
  },
  {
   "cell_type": "markdown",
   "metadata": {},
   "source": [
    "__Task 2.1__: Change the axis limits to $[min(x)-5, max(x)+5]$ for the x axis and to $[min(y)-5, max(y)+5]$ for the y axis. \n",
    "\n",
    "*Hint*: use `plt.xlim(lower_limit, upper_limit)` and `plt.ylim(lower_limit, upper_limit)`"
   ]
  },
  {
   "cell_type": "code",
   "execution_count": null,
   "metadata": {},
   "outputs": [],
   "source": [
    "### Task 2.1: changing the axis limits\n",
    "plt.xlim(x.min() -5, x.max() + 5 )\n",
    "#todo for y-axis\n",
    "\n",
    "# Plot data\n",
    "plt.plot(x, y, 'ro', x, y_2, 'g^') \n",
    "\n",
    "# Labels\n",
    "plt.xlabel('x')\n",
    "plt.ylabel('f(x)')\n",
    "\n",
    "# Legend\n",
    "plt.legend(['y', 'y_2'])\n",
    "\n",
    "# Title\n",
    "plt.title('New axis limits')"
   ]
  },
  {
   "cell_type": "markdown",
   "metadata": {},
   "source": [
    "__Task 2.2__: Change the axis ticks to only show $\\{-10, 0, 10\\}$ for the x axis and $\\{0,50,100\\}$ for the y axis. \n",
    "\n",
    "*Hint*: use `plt.xticks(list_of_values)` and `plt.yticks(list_of_values)`"
   ]
  },
  {
   "cell_type": "code",
   "execution_count": null,
   "metadata": {},
   "outputs": [],
   "source": [
    "### Task 2.2: changing the axis ticks\n",
    "plt.xticks([-10,0,10])\n",
    "#todo for y-axis\n",
    "\n",
    "# Plot data\n",
    "plt.plot(x, y, 'ro', x, y_2, 'g^') \n",
    "\n",
    "# Labels\n",
    "plt.xlabel('x')\n",
    "plt.ylabel('f(x)')\n",
    "\n",
    "# Legend\n",
    "plt.legend(['y', 'y_2'])\n",
    "\n",
    "# Title\n",
    "plt.title('New ticks')"
   ]
  },
  {
   "cell_type": "markdown",
   "metadata": {},
   "source": [
    "## Subplots"
   ]
  },
  {
   "cell_type": "markdown",
   "metadata": {},
   "source": [
    "MATLAB, and pyplot, frame plots using the concept of figures and axes. \n",
    "A “Figure” means the whole window in the user interface. \n",
    "To the figure you can add Axes; these are the area on which the data is plotted with functions (such as plot()) that can have ticks, labels, etc. associated with it. \n",
    "\n",
    "Thus, Figures can contain multiple Axes. One option for formatting multiple plots within one Figure is to use subplots. For example, creating a figure with two different plots side by side:"
   ]
  },
  {
   "cell_type": "code",
   "execution_count": null,
   "metadata": {},
   "outputs": [],
   "source": [
    "# Initialize the plot specifying the figure size\n",
    "fig = plt.figure(figsize=(8,3)) # note use of figsize to format figure size\n",
    "\n",
    "# subplot 1: similar to MATLAB: 121 = 1 row, 2 columns, 1st subplot\n",
    "plt.subplot(121)\n",
    "plt.plot(x,y,'ro')\n",
    "plt.title('y')\n",
    "\n",
    "#subplot 2: similar to MATLAB: 122 = 1 row, 2 columns, 2nd subplot   \n",
    "plt.subplot(122)\n",
    "plt.plot(x,y_2,'g^')\n",
    "plt.title('y_2')"
   ]
  },
  {
   "cell_type": "markdown",
   "metadata": {},
   "source": [
    "Longer version of the same figure with the axes defined as variables is below:"
   ]
  },
  {
   "cell_type": "code",
   "execution_count": null,
   "metadata": {},
   "outputs": [],
   "source": [
    "# Initialize the plot specifying the figure size\n",
    "fig = plt.figure(figsize=(8,3)) # note use of figsize to format figure size\n",
    "                                 #todo: try different sizes\n",
    "    \n",
    "# Add two subplots \n",
    "ax1 = fig.add_subplot(121) # similar to MATLAB: 121 = 1 row, 2 columns, 1st subplot\n",
    "ax2 = fig.add_subplot(122) #                    122 = 1 row, 2 columns, 2nd subplot   \n",
    "# or replace the three lines of code above by the following line: \n",
    "#fig, (ax1, ax2) = plt.subplots(1,2, figsize=(10,5))\n",
    "\n",
    "# Plot the data\n",
    "ax1.plot(x,y,'ro')\n",
    "ax1.set_title('y')\n",
    "\n",
    "ax2.plot(x,y_2,'g^')\n",
    "ax2.set_title('y_2')"
   ]
  },
  {
   "cell_type": "markdown",
   "metadata": {},
   "source": [
    "__Note__: Here we have also introduced the function argument ```figsize```. \n",
    "\n",
    "__Task 3.1__: In the code above, try changing the size dimensions to view the impact on the figure.\n",
    "\n",
    "__Task 3.2__: Add a third subplot to the code above to display also the function $y=\\exp(x/2)$\n",
    "\n",
    "\n",
    "__Note__: The default use of ```subplot``` enforces an even share of the Figure to each subplot. In order to fit plots of different size within each figure consider using ```gridspec``` (https://matplotlib.org/users/gridspec.html)"
   ]
  },
  {
   "cell_type": "markdown",
   "metadata": {},
   "source": [
    "## Brief introduction to other plot styles"
   ]
  },
  {
   "cell_type": "markdown",
   "metadata": {},
   "source": [
    "The specificities of different types of plots will be addressed in more detail in the examples where they are used. However, some examples of the range of plots available from matplotlib include __bar charts__, __histograms__ and __box plots__. \n",
    "\n",
    "We will demonstrate those on an example data from the Computer Statistics module. Run the code bellow to load file *40subjdata.pk1*. The file contains 3 columns with data representing 40 students from a class. Attributes recorded are: student  height, gender and the distance travelled to class.\n"
   ]
  },
  {
   "cell_type": "code",
   "execution_count": null,
   "metadata": {},
   "outputs": [],
   "source": [
    "# Import pandas\n",
    "import pandas as pd\n",
    "\n",
    "# Load data\n",
    "df = pd.read_pickle('40subjdata.pk1') \n",
    "\n",
    "# Inspect data with head()\n",
    "print(df.head())\n",
    "\n",
    "# Extract distance\n",
    "distance = df['distance']\n",
    "\n",
    "# Select all heights for female, and all heights for males\n",
    "girls_height = df['height'][df['gender']=='F']\n",
    "boys_height  = df['height'][df['gender']=='M']"
   ]
  },
  {
   "cell_type": "markdown",
   "metadata": {},
   "source": [
    "__Note__: \n",
    "* You can inspect the column names with ```df.columns.values```"
   ]
  },
  {
   "cell_type": "markdown",
   "metadata": {},
   "source": [
    "### Histogram\n",
    "\n",
    "An example bellow shows how to create a histogram of the 'distance' values and set the optional parameter 'bins' to 10.\n",
    "\n",
    "__Task 4.1:__ Play with the number of bins"
   ]
  },
  {
   "cell_type": "code",
   "execution_count": null,
   "metadata": {},
   "outputs": [],
   "source": [
    "### Task 4.1\n",
    "plt.hist(distance,bins=10)"
   ]
  },
  {
   "cell_type": "markdown",
   "metadata": {},
   "source": [
    "### Bar chart\n",
    "\n",
    "Bar chart can be created using function `bar` with 4 arguments: \n",
    "* the locations for the bars on the x-axis\n",
    "* the hight of the bars \n",
    "* the width of the bars \n",
    "* the error bars (`yerr`)\n",
    "\n",
    "__Task 4.2__: Create a bar chart showing the average height for girls and for boys. Include the standard deviation as error bars on the y-axis. To do that fill in the missing bits in the code bellow.\n",
    "\n",
    "See documentation: https://matplotlib.org/api/_as_gen/matplotlib.pyplot.bar.html"
   ]
  },
  {
   "cell_type": "code",
   "execution_count": null,
   "metadata": {},
   "outputs": [],
   "source": [
    "### Task 4.2\n",
    "\n",
    "# Define the locations of the bars on the x-axis\n",
    "ind   = [0,1]\n",
    "# Set the width of the bars\n",
    "width = 0.8 \n",
    "\n",
    "# Calculate the average height for girls and for boys\n",
    "avg_girls = np.mean(girls_height)\n",
    "avg_boys  = None\n",
    "\n",
    "# Calculate the standard deviation in the height for girls and for boys\n",
    "std_girls = None\n",
    "std_boys  = None\n",
    "\n",
    "# Plot the bar chart - uncomment and fill in\n",
    "# plt.bar(ind, [None, None], width, yerr=[None, None])\n",
    "\n",
    "# Change ticks to show girls and boys\n",
    "plt.xticks(ind, ('girls','boys'))"
   ]
  },
  {
   "cell_type": "markdown",
   "metadata": {},
   "source": [
    "__Task 4.3__: Create box plots (use ```boxplot```) of the girls and the boys heights.\n",
    "\n",
    "See documentation: https://matplotlib.org/api/_as_gen/matplotlib.pyplot.boxplot.html"
   ]
  },
  {
   "cell_type": "code",
   "execution_count": null,
   "metadata": {},
   "outputs": [],
   "source": [
    "### Task 4.3\n",
    "\n",
    "# Plot the box plot - uncomment and fill in\n",
    "# plt.boxplot([None,None])\n",
    "\n",
    "# Set labels for the axis\n",
    "plt.xticks([1,2],['girls', 'boys'])\n",
    "plt.ylabel('Heights')"
   ]
  },
  {
   "cell_type": "markdown",
   "metadata": {},
   "source": [
    "## Images"
   ]
  },
  {
   "cell_type": "markdown",
   "metadata": {},
   "source": [
    "Images can be viewed using the ```imshow``` utility.\n",
    "\n",
    "__Task 4.4__: Load in the image called 'fetalbrain.jpeg' using `imread` function. Then plot it using the `imshow` function.\n",
    "\n",
    "See documentation: https://matplotlib.org/api/_as_gen/matplotlib.pyplot.imshow.html"
   ]
  },
  {
   "cell_type": "code",
   "execution_count": null,
   "metadata": {},
   "outputs": [],
   "source": [
    "### Task 4.4\n",
    "\n",
    "# read image\n",
    "image = None\n",
    "\n",
    "# display image\n",
    "\n"
   ]
  },
  {
   "cell_type": "markdown",
   "metadata": {},
   "source": [
    "# Citation"
   ]
  },
  {
   "cell_type": "markdown",
   "metadata": {},
   "source": [
    "John D. Hunter. Matplotlib: A 2D Graphics Environment, Computing in Science & Engineering, 9, 90-95 (2007), DOI:10.1109/MCSE.2007.55 (publisher link)"
   ]
  }
 ],
 "metadata": {
  "kernelspec": {
   "display_name": "Python 3",
   "language": "python",
   "name": "python3"
  },
  "language_info": {
   "codemirror_mode": {
    "name": "ipython",
    "version": 3
   },
   "file_extension": ".py",
   "mimetype": "text/x-python",
   "name": "python",
   "nbconvert_exporter": "python",
   "pygments_lexer": "ipython3",
   "version": "3.8.3"
  }
 },
 "nbformat": 4,
 "nbformat_minor": 2
}
