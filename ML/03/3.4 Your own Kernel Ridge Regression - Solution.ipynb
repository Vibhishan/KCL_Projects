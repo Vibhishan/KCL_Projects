{
 "cells": [
  {
   "cell_type": "markdown",
   "metadata": {},
   "source": [
    "# Your own Kernel Ridge Regresion"
   ]
  },
  {
   "cell_type": "markdown",
   "metadata": {},
   "source": [
    "## Exercise 5\n",
    "Given three training samples with feature matrix $\\mathbf{X}=(-1,0,1)$ and target vector $\\mathbf{y}=(2,3,2)^T$, Gaussian Kernel with $\\sigma=1$ and $\\lambda=0$, implement the following in `numpy`:\n",
    "* Generate vector $\\mathbf{x}$ of 100 samples from interval $[-1.25,1.25]$\n",
    "* Calculate and plot the kernels $\\kappa(x,x_i)=\\exp(-\\frac{(x-x_i)^2}{2\\sigma})$ for samples $\\mathbf{x}$\n",
    "* Calculate dual representation $\\mathbf{a}=(\\mathbf{K}-\\lambda\\mathbf{I})^{-1}\\mathbf{y}$ \n",
    "* Calculate and plot the Kernel Ridge Regression model $\\hat{y}=\\sum_{i=1}^N\\kappa(x,x_i)a_i$ for samples $\\mathbf{x}$\n",
    "\n",
    "*Hint:* Use `np.linspace`,`np.linalg.inv` and `np.matmul`"
   ]
  },
  {
   "cell_type": "markdown",
   "metadata": {},
   "source": [
    "### Imports and functions\n",
    "Run the code in the cell bellow. It load the python libraries and implements the funcion to evaluate Gaussian kernel."
   ]
  },
  {
   "cell_type": "code",
   "execution_count": 1,
   "metadata": {},
   "outputs": [],
   "source": [
    "from scipy.stats import norm\n",
    "import numpy as np\n",
    "import matplotlib.pyplot as plt\n",
    "%matplotlib inline \n",
    "\n",
    "# a function to calculate the kernel is prepared for you\n",
    "def GaussKernel(f,mu,sigma):\n",
    "    kernel = norm.pdf((f-mu)/sigma)\n",
    "    kernel = kernel/norm.pdf(0)\n",
    "    return kernel"
   ]
  },
  {
   "cell_type": "markdown",
   "metadata": {},
   "source": [
    "### Dataset\n",
    "Next, let's create our dataset. Run the cell bellow to see it plotted."
   ]
  },
  {
   "cell_type": "code",
   "execution_count": 2,
   "metadata": {},
   "outputs": [
    {
     "data": {
      "text/plain": [
       "(0, 3.5)"
      ]
     },
     "execution_count": 2,
     "metadata": {},
     "output_type": "execute_result"
    },
    {
     "data": {
      "image/png": "[encoded data removed]",
      "text/plain": [
       "<Figure size 432x288 with 1 Axes>"
      ]
     },
     "metadata": {
      "needs_background": "light"
     },
     "output_type": "display_data"
    }
   ],
   "source": [
    "# data\n",
    "X = np.array([-1,0,1]).reshape(-1,1)\n",
    "y = np.array([2,3,2])\n",
    "plt.plot(X,y,'*',markersize = 10,label = 'data')\n",
    "\n",
    "#axis\n",
    "plt.xlim([-1.5,1.5])\n",
    "plt.ylim([0,3.5])"
   ]
  },
  {
   "cell_type": "markdown",
   "metadata": {},
   "source": [
    "### Gaussian kernels\n",
    "\n",
    "In the cell bellow we will \n",
    "* define our feature space `x`, a 100 samples from -1.25 to 1.25. \n",
    "* calculate Gaussian kernels $\\kappa(x,x_i)$ placed around our sample features $x_i$. Use funcion `GaussKernel` to do that."
   ]
  },
  {
   "cell_type": "code",
   "execution_count": 3,
   "metadata": {},
   "outputs": [
    {
     "data": {
      "text/plain": [
       "(0, 3.5)"
      ]
     },
     "execution_count": 3,
     "metadata": {},
     "output_type": "execute_result"
    },
    {
     "data": {
      "image/png": "[encoded data removed]",
      "text/plain": [
       "<Figure size 432x288 with 1 Axes>"
      ]
     },
     "metadata": {
      "needs_background": "light"
     },
     "output_type": "display_data"
    }
   ],
   "source": [
    "#sigma\n",
    "sigma = 1\n",
    "\n",
    "# vector x of 100 samples\n",
    "x = np.linspace(-1.25,1.25,100)\n",
    "\n",
    "# generate kernel for X[0] and plot\n",
    "kernel1 = GaussKernel(x,X[0],sigma)\n",
    "plt.plot(x,kernel1,'g--',linewidth = 2.5)\n",
    "\n",
    "# generate kernel for X[1] and plot\n",
    "kernel2 = GaussKernel(x,X[1],sigma)\n",
    "plt.plot(x,kernel2,'g--',linewidth = 2.5)\n",
    "\n",
    "# generate kernel for X[2] and plot\n",
    "kernel3 = GaussKernel(x,X[2],sigma)\n",
    "plt.plot(x,kernel3,'g--',linewidth = 2.5)\n",
    "\n",
    "# set axis\n",
    "plt.xlim([-1.5,1.5])\n",
    "plt.ylim([0,3.5])"
   ]
  },
  {
   "cell_type": "markdown",
   "metadata": {},
   "source": [
    "### Dual representation\n",
    "\n",
    "Now we calculate dual representation $\\mathbf{a}$. Perform following steps:\n",
    "* Calculate Gram matrix $\\mathbf{K}$ with elements $\\kappa(x_i,x_j)$. Use function `GaussKernel`.\n",
    "* Calculate $(\\mathbf{K}+\\lambda\\mathbf{I})^{-1}$ using `np.linalg.inv`\n",
    "* Calculate dual representation $\\mathbf{a}=(\\mathbf{K}+\\lambda\\mathbf{I})^{-1}\\mathbf{y}$ using `np.matmul`"
   ]
  },
  {
   "cell_type": "code",
   "execution_count": 8,
   "metadata": {},
   "outputs": [
    {
     "name": "stdout",
     "output_type": "stream",
     "text": [
      "[[1. 1. 0.]\n",
      " [1. 1. 1.]\n",
      " [0. 1. 1.]]\n",
      "Dual representation:  [0.45 2.45 0.45]\n"
     ]
    }
   ],
   "source": [
    "# lambda\n",
    "l=0\n",
    "\n",
    "# calculate Gram matrix K\n",
    "K=np.zeros([3,3])\n",
    "for i in range(3):\n",
    "    for j in range(3):\n",
    "        K[i,j]=GaussKernel(X[i],X[j],sigma)\n",
    "\n",
    "# calculate dual representation a\n",
    "I = np.eye(3)\n",
    "Kinv = np.linalg.inv(K+l*I)\n",
    "a = np.matmul(Kinv,y)\n",
    "print('Dual representation: ',np.around(a,2))"
   ]
  },
  {
   "cell_type": "markdown",
   "metadata": {},
   "source": [
    "### Predicted model\n",
    "\n",
    "Calculate the predicted model as $\\hat{y}=\\sum_{i=1}^N\\kappa(x,x_i)a_i$ using the kernels that you already created above."
   ]
  },
  {
   "cell_type": "code",
   "execution_count": 5,
   "metadata": {},
   "outputs": [
    {
     "data": {
      "text/plain": [
       "(0, 3.5)"
      ]
     },
     "execution_count": 5,
     "metadata": {},
     "output_type": "execute_result"
    },
    {
     "data": {
      "image/png": "[encoded data removed]",
      "text/plain": [
       "<Figure size 432x288 with 1 Axes>"
      ]
     },
     "metadata": {
      "needs_background": "light"
     },
     "output_type": "display_data"
    }
   ],
   "source": [
    "# calculate model y_pred\n",
    "y_pred=a[0]*kernel1+a[1]*kernel2+a[2]*kernel3\n",
    "plt.plot(x,y_pred,'r',label = 'model',linewidth = 2.5)\n",
    "\n",
    "# set axis\n",
    "plt.xlim([-1.5,1.5])\n",
    "plt.ylim([0,3.5])"
   ]
  },
  {
   "cell_type": "markdown",
   "metadata": {},
   "source": [
    "### Final plot\n",
    "\n",
    "Run the code bellow to produce the final plot."
   ]
  },
  {
   "cell_type": "code",
   "execution_count": 6,
   "metadata": {},
   "outputs": [
    {
     "data": {
      "text/plain": [
       "(0, 3.5)"
      ]
     },
     "execution_count": 6,
     "metadata": {},
     "output_type": "execute_result"
    },
    {
     "data": {
      "image/png": "[encoded data removed]",
      "text/plain": [
       "<Figure size 432x288 with 1 Axes>"
      ]
     },
     "metadata": {
      "needs_background": "light"
     },
     "output_type": "display_data"
    }
   ],
   "source": [
    "# data \n",
    "plt.plot(X,y,'*',markersize = 10,label = 'data')\n",
    "\n",
    "# kernels\n",
    "plt.plot(x,kernel1,'g--',linewidth = 2.5)\n",
    "plt.plot(x,kernel2,'g--',linewidth = 2.5)\n",
    "plt.plot(x,kernel3,'g--',linewidth = 2.5)\n",
    "\n",
    "# predicted model\n",
    "plt.plot(x,y_pred,'r',label = 'model',linewidth = 2.5)\n",
    "\n",
    "# axis\n",
    "plt.xlim([-1.5,1.5])\n",
    "plt.ylim([0,3.5])"
   ]
  }
 ],
 "metadata": {
  "kernelspec": {
   "display_name": "Python 3",
   "language": "python",
   "name": "python3"
  },
  "language_info": {
   "codemirror_mode": {
    "name": "ipython",
    "version": 3
   },
   "file_extension": ".py",
   "mimetype": "text/x-python",
   "name": "python",
   "nbconvert_exporter": "python",
   "pygments_lexer": "ipython3",
   "version": "3.7.4"
  }
 },
 "nbformat": 4,
 "nbformat_minor": 2
}
