{
 "cells": [
  {
   "cell_type": "markdown",
   "metadata": {},
   "source": [
    "# Your own single layer perceptron\n",
    "\n",
    "## Exercise 6\n",
    "\n",
    "In this notebook you will implement and train your own single layer perceptron classifier using Wiscosin Breast Cancer dataset.\n",
    "\n",
    "### Dataset\n",
    "\n",
    "Run the cells to load feature matrix and label vector and split the data into training and validation set."
   ]
  },
  {
   "cell_type": "code",
   "execution_count": 1,
   "metadata": {},
   "outputs": [
    {
     "name": "stdout",
     "output_type": "stream",
     "text": [
      "Features dim:  (569, 30)\n",
      "Labels dim:  (569,)\n",
      "We have 569 samples and 30 features.\n",
      "We have labels:  [0 1]\n"
     ]
    }
   ],
   "source": [
    "from sklearn import datasets\n",
    "from sklearn.preprocessing import StandardScaler\n",
    "import numpy as np\n",
    "import matplotlib.pyplot as plt\n",
    "\n",
    "# load feature matrix and label vector\n",
    "data = datasets.load_breast_cancer()\n",
    "X = StandardScaler().fit_transform(data.data)\n",
    "y = data.target\n",
    "\n",
    "print('Features dim: ', X.shape)\n",
    "print('Labels dim: ', y.shape)\n",
    "print('We have {} samples and {} features.'.format(X.shape[0],X.shape[1]))\n",
    "print('We have labels: ', np.unique(y))"
   ]
  },
  {
   "cell_type": "code",
   "execution_count": 2,
   "metadata": {},
   "outputs": [
    {
     "name": "stdout",
     "output_type": "stream",
     "text": [
      "Training samples:  455\n",
      "Validation samples:  114\n"
     ]
    }
   ],
   "source": [
    "from sklearn.model_selection import train_test_split\n",
    "\n",
    "X_train, X_test, y_train, y_test = train_test_split(X, y, test_size=0.2, random_state=42, stratify=y)\n",
    "print('Training samples: ', y_train.shape[0])\n",
    "print('Validation samples: ', y_test.shape[0])"
   ]
  },
  {
   "cell_type": "markdown",
   "metadata": {},
   "source": [
    "### Architecture\n",
    "\n",
    "Our single layer perceptron will consist of \n",
    "* 1 linear layer with 30 inputs and 1 output\n",
    "* sigmoid activation function\n",
    "\n",
    "We will minimise **mean squared error loss**\n",
    "\n",
    "The functions below implement these elements of architecture, plus there is a function to calculate a generic derivative. Review this functions and run the cell."
   ]
  },
  {
   "cell_type": "code",
   "execution_count": 3,
   "metadata": {},
   "outputs": [],
   "source": [
    "# Sigmoid activation function\n",
    "def sigmoid(x):\n",
    "    return 1/(1+np.exp(-x))\n",
    "\n",
    "# Linear layer - we do not have a bias here for simplicity\n",
    "def linear(x,w):\n",
    "    return np.matmul(x, w)\n",
    "\n",
    "# Mean squared error loss\n",
    "def mse(y, y_pred):\n",
    "    return np.mean(np.square(y-y_pred))\n",
    "\n",
    "# A general derivative of a function (no need to implement individual derivatives)\n",
    "def derivative(f, z, eps=0.000001):\n",
    "    return (f(z + eps) - f(z - eps))/(2 * eps)"
   ]
  },
  {
   "cell_type": "markdown",
   "metadata": {},
   "source": [
    "### Theory\n",
    "\n",
    "The single layer perceptron is composed of one **linear layer** of neurons that can be expressed as\n",
    "$$z=Xw$$\n",
    "where $X$ is the feature matrix, $w$ are the parameters of the network and $z$ is the output of the linear layer. Note, that we will not implement the bias term in this exercise for simplicity.\n",
    "\n",
    "The output of the linear layer is passed trhough the activation function, which in our case is **sigmoid** $\\sigma$:\n",
    "$$p=\\sigma(z)$$\n",
    "The output $p$ is the probability of the positive class 1.\n",
    "\n",
    "We will find the network parameter vector $w$ by **minimising the mean squared error loss** between predicted probability $p$ and true labels $y$\n",
    "$$loss=\\sum_{n=1}^N(y_n-p_n)^2$$\n",
    "\n",
    "We can iteratively **update the weight vector** $w$ by gradient descent equation\n",
    "$$w^{iter+1}=w^{iter}-\\eta \\frac{\\partial loss}{\\partial w}$$\n",
    "where $w^{iter}$ is estimated weight vector at iteration $iter$ and $\\eta$ is the learning rate.\n",
    "\n",
    "We have seen in the lecture that in case of MSE loss and sigmoid activation, the derivative is\n",
    "$$\\frac{\\partial loss}{\\partial w}=(y-p)\\sigma'(z)X$$"
   ]
  },
  {
   "cell_type": "markdown",
   "metadata": {},
   "source": [
    "### Training\n",
    "\n",
    "Complete the code below to train the single layer perceptron. The learning rate and number of epoch has been already set for you. We start by initialising the weight vector `w` to random values.\n",
    "\n",
    "**Task 6.1:** Implement the forward pass. To do that \n",
    "* evaluate the linear layer for the training feature matrix `X_train`\n",
    "* pass the result through the sigmoid activation\n",
    "\n",
    "**Task 6.2:** Calculate the training loss. There is also code to save it for plotting after we finished training.\n",
    "\n",
    "**Task 6.3:** Implement the backward pass. To do that you need to implement the calculation of the gradients of the\n",
    "* loss\n",
    "* activation\n",
    "* linear layer\n",
    "Code to multiply them together using the chain rule is there for you.\n",
    "\n",
    "**Task 6.4:** Implement the update of the network weights. \n",
    "\n",
    "Once you successfully complete the code, run it. You will see how the loss is evolving."
   ]
  },
  {
   "cell_type": "code",
   "execution_count": 4,
   "metadata": {},
   "outputs": [
    {
     "name": "stdout",
     "output_type": "stream",
     "text": [
      "Weight vector dimension:  (30,)\n",
      "Epoch 0: MSE = 0.3815\n",
      "Epoch 1: MSE = 0.0712\n",
      "Epoch 2: MSE = 0.0575\n",
      "Epoch 3: MSE = 0.0501\n",
      "Epoch 4: MSE = 0.0453\n",
      "Epoch 5: MSE = 0.042\n",
      "Epoch 6: MSE = 0.0396\n",
      "Epoch 7: MSE = 0.0377\n",
      "Epoch 8: MSE = 0.0362\n",
      "Epoch 9: MSE = 0.0349\n",
      "Epoch 10: MSE = 0.0339\n",
      "Epoch 11: MSE = 0.033\n",
      "Epoch 12: MSE = 0.0322\n",
      "Epoch 13: MSE = 0.0315\n",
      "Epoch 14: MSE = 0.0309\n",
      "Epoch 15: MSE = 0.0303\n",
      "Epoch 16: MSE = 0.0298\n",
      "Epoch 17: MSE = 0.0293\n",
      "Epoch 18: MSE = 0.0289\n",
      "Epoch 19: MSE = 0.0285\n"
     ]
    },
    {
     "data": {
      "text/plain": [
       "[<matplotlib.lines.Line2D at 0x20b9b1dd2b0>]"
      ]
     },
     "execution_count": 4,
     "metadata": {},
     "output_type": "execute_result"
    },
    {
     "data": {
      "image/png": "[encoded data removed]",
      "text/plain": [
       "<Figure size 432x288 with 1 Axes>"
      ]
     },
     "metadata": {
      "needs_background": "light"
     },
     "output_type": "display_data"
    }
   ],
   "source": [
    "# set learning rate\n",
    "lr = 0.01\n",
    "\n",
    "# set number of epochs\n",
    "epochs = 20\n",
    "\n",
    "# initialize the weights randomly with mean 0\n",
    "w = 2*np.random.random(np.array(X).shape[1]) - 1\n",
    "print('Weight vector dimension: ', w.shape)\n",
    "\n",
    "# training loop\n",
    "train_loss = []\n",
    "for iter in range(epochs):\n",
    "    \n",
    "    # forward pass - predict network output\n",
    "    # implement linear layer\n",
    "    z = None\n",
    "    # predict output probabilities\n",
    "    p_pred = None \n",
    "    \n",
    "    # calculate and save training loss \n",
    "    loss = None\n",
    "    train_loss.append(loss)\n",
    "    \n",
    "    print('Epoch {}: MSE = {}'.format(iter,np.round(loss,4)))\n",
    "    \n",
    "    # backward pass - calculate gradients\n",
    "    # gradient of the loss: error between predicted and true training labels\n",
    "    loss_grad = None\n",
    "    # gradient of activation: derivative of sigmoid\n",
    "    act_grad = None\n",
    "    # gradient of linear layer: feature matrix\n",
    "    lin_grad = None\n",
    "    # multiply gradients (chain rule)\n",
    "    grad = np.matmul(loss_grad*act_grad,lin_grad)\n",
    "\n",
    "    # update the weights of the network\n",
    "    w -= None\n",
    "\n",
    "# plot training loss during epochs\n",
    "plt.plot(train_loss)"
   ]
  },
  {
   "cell_type": "markdown",
   "metadata": {},
   "source": [
    "**Task 6.5:** Evaluate the accuracy of the trained network on training and test set. To do that\n",
    "* implement the forward pass of the network on training set to calculate the predicted labels (code given)\n",
    "* evaluate accuracy on the training set using the given function `accuracy`\n",
    "* implement the forward pass of the network in test set \n",
    "* evaluate accuracy for the test set"
   ]
  },
  {
   "cell_type": "code",
   "execution_count": 5,
   "metadata": {},
   "outputs": [
    {
     "name": "stdout",
     "output_type": "stream",
     "text": [
      "Train accuracy:  0.97\n",
      "Test accuracy:  0.91\n"
     ]
    }
   ],
   "source": [
    "def accuracy(y,y_pred):\n",
    "    a = np.sum(y==y_pred)/y.shape[0]\n",
    "    return a\n",
    "\n",
    "# predict on training set\n",
    "y_pred = np.around(sigmoid(linear(X_train,w)))\n",
    "acc_train = None\n",
    "print('Train accuracy: ', np.round(acc_train,2))\n",
    "\n",
    "# predict on test set\n",
    "y_pred_test = None\n",
    "acc_test = None\n",
    "print('Test accuracy: ', np.round(acc_test,2))"
   ]
  },
  {
   "cell_type": "markdown",
   "metadata": {},
   "source": [
    "### Cross Entropy Loss\n",
    "\n",
    "You already know that binary cross-entropy loss is more common to use for binary classification rather than MSE loss. **Binary Cross-entropy loss** is given by\n",
    "$$BCELoss=\\sum_{n=1}^N(-y_n \\log(p_n)-(1-y_n)\\log(1-p_n))$$\n",
    "\n",
    "We have used MSE loss in the lecture instead, because it is easier to calculate the derivatives. However, the derivative of BCE loss with sigmoid activation with respect to the weights actually results in a much simple derivative:\n",
    "\n",
    "$$\\frac{\\partial BCELoss}{\\partial w}=(y-p)X$$\n",
    "\n",
    "**Task 6.6 (optional):** Derive the derivative of cross entropy loss. (Solution not given for this task)\n",
    "\n",
    "**Task 6.7:** Complete the implementation of BCE loss in the cell below."
   ]
  },
  {
   "cell_type": "code",
   "execution_count": 6,
   "metadata": {},
   "outputs": [],
   "source": [
    "# Binary Cross-entropy loss\n",
    "def BCE(y,p):\n",
    "    return -np.mean(np.log(p)*y_train + None)"
   ]
  },
  {
   "cell_type": "markdown",
   "metadata": {},
   "source": [
    "**Task 6.8:** Implement the gradient of the binary cross entropy loss and train the single layer perceptron using the code below."
   ]
  },
  {
   "cell_type": "code",
   "execution_count": 7,
   "metadata": {},
   "outputs": [
    {
     "name": "stdout",
     "output_type": "stream",
     "text": [
      "Epoch 0: BCE = 0.5745\n",
      "Epoch 1: BCE = 0.2917\n",
      "Epoch 2: BCE = 0.2335\n",
      "Epoch 3: BCE = 0.2032\n",
      "Epoch 4: BCE = 0.1832\n",
      "Epoch 5: BCE = 0.1685\n",
      "Epoch 6: BCE = 0.1572\n",
      "Epoch 7: BCE = 0.1481\n",
      "Epoch 8: BCE = 0.1406\n",
      "Epoch 9: BCE = 0.1343\n",
      "Epoch 10: BCE = 0.129\n",
      "Epoch 11: BCE = 0.1243\n",
      "Epoch 12: BCE = 0.1203\n",
      "Epoch 13: BCE = 0.1167\n",
      "Epoch 14: BCE = 0.1135\n",
      "Epoch 15: BCE = 0.1107\n",
      "Epoch 16: BCE = 0.1081\n",
      "Epoch 17: BCE = 0.1057\n",
      "Epoch 18: BCE = 0.1036\n",
      "Epoch 19: BCE = 0.1016\n",
      "Train accuracy:  0.96\n",
      "Test accuracy:  0.95\n"
     ]
    },
    {
     "data": {
      "image/png": "[encoded data removed]",
      "text/plain": [
       "<Figure size 432x288 with 1 Axes>"
      ]
     },
     "metadata": {
      "needs_background": "light"
     },
     "output_type": "display_data"
    }
   ],
   "source": [
    "# set learning rate\n",
    "lr = 0.001\n",
    "\n",
    "# set number of epochs\n",
    "epochs = 20\n",
    "\n",
    "# initialize the weights randomly with mean 0\n",
    "w = 2*np.random.random(np.array(X).shape[1]) - 1\n",
    "\n",
    "# training loop\n",
    "train_loss = []\n",
    "for iter in range(epochs):\n",
    "    \n",
    "    # forward pass - predict labels\n",
    "    z = linear(X_train,w)\n",
    "    p_pred = sigmoid(z) # probabilities\n",
    "    \n",
    "    # calculate and save training loss (need to thredhol)\n",
    "    loss = BCE(y_train,p_pred)\n",
    "    train_loss.append(loss)\n",
    "    \n",
    "    print('Epoch {}: BCE = {}'.format(iter,np.round(loss,4)))\n",
    "    \n",
    "    # backward pass - calculate gradients\n",
    "    # error\n",
    "    error = p_pred-y_train\n",
    "    # gradient\n",
    "    grad = np.matmul(error,X_train)\n",
    "\n",
    "    # update the weights of the network\n",
    "    w -= grad * lr\n",
    "\n",
    "plt.plot(train_loss)\n",
    "\n",
    "# predict on training set\n",
    "y_pred = np.around(sigmoid(linear(X_train,w)))\n",
    "acc_train = accuracy(y_train,y_pred)\n",
    "print('Train accuracy: ', np.round(acc_train,2))\n",
    "\n",
    "# predict on test set\n",
    "y_pred_test = np.around(sigmoid(linear(X_test,w)))\n",
    "acc_test = accuracy(y_test,y_pred_test)\n",
    "print('Test accuracy: ', np.round(acc_test,2))"
   ]
  }
 ],
 "metadata": {
  "kernelspec": {
   "display_name": "Python 3",
   "language": "python",
   "name": "python3"
  },
  "language_info": {
   "codemirror_mode": {
    "name": "ipython",
    "version": 3
   },
   "file_extension": ".py",
   "mimetype": "text/x-python",
   "name": "python",
   "nbconvert_exporter": "python",
   "pygments_lexer": "ipython3",
   "version": "3.8.3"
  }
 },
 "nbformat": 4,
 "nbformat_minor": 4
}
