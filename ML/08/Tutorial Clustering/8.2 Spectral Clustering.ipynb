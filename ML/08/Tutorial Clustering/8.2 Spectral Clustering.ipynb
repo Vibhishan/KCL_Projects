{
 "cells": [
  {
   "cell_type": "markdown",
   "metadata": {},
   "source": [
    "# Spectral clustering\n",
    "\n",
    "In this notebook we will explore how spectral clustering  can be used to cluster neonatal brain MRI.\n",
    "\n",
    "First import the basic libraries by running the cell below"
   ]
  },
  {
   "cell_type": "code",
   "execution_count": null,
   "metadata": {},
   "outputs": [],
   "source": [
    "import pandas as pd\n",
    "import numpy as np\n",
    "import matplotlib.pyplot as plt\n",
    "%matplotlib inline\n",
    "\n",
    "from sklearn.preprocessing import StandardScaler"
   ]
  },
  {
   "cell_type": "markdown",
   "metadata": {},
   "source": [
    "### Identify preterm and term scans\n",
    "\n",
    "We will start by exploring a dataset that contains MRI images of preterm babies. Each baby was scanned twice, and our task is to automatically identify first and second scan in a database of the preterm babies using a clustering method. We have volumes of 86 structures to recognise the scans.\n",
    "\n",
    "Here is the information about the patients:\n",
    "* **Preterm:** born before 37 weeks GA\n",
    "* **First scan**: within 4 weeks of birth\n",
    "* **Second scan**: between 38 and 43 weeks GA\n",
    "\n",
    "First we will load the dataset and visualise its structure of the dataset using `PCA`, the same way as in the previous notebook. Run the cell below to do that. Can you observe two clusters?"
   ]
  },
  {
   "cell_type": "code",
   "execution_count": null,
   "metadata": {},
   "outputs": [],
   "source": [
    "# load data\n",
    "data = pd.read_csv(\"datasets/structures_first_second_scan.csv\",header=None)\n",
    "structure_volumes = data.to_numpy()\n",
    "\n",
    "# Create features\n",
    "X = StandardScaler().fit_transform(structure_volumes[:,1:])\n",
    "\n",
    "# We have information about the first or second scan for comparison \n",
    "y = structure_volumes[:,0]\n",
    "\n",
    "print('Number of samples: {}  Number of features: {}'.format(X.shape[0],X.shape[1])) \n",
    "\n",
    "# Apply PCA to reduce to two dimension and plot the data\n",
    "from sklearn.decomposition import PCA\n",
    "pca = PCA( n_components = 2) \n",
    "X2 = pca.fit_transform(X)\n",
    "plt.plot(X2[:,0],X2[:,1],'bo', alpha = 0.8)\n",
    "plt.title('PCA', fontsize = 16)\n",
    "plt.xlabel('component 1', fontsize = 12)\n",
    "plt.ylabel('component 2', fontsize = 12)"
   ]
  },
  {
   "cell_type": "markdown",
   "metadata": {},
   "source": [
    "At this point we can simply apply k-means algorithm or Gaussian Mixture model to the whole or PCA transformed dataset. Run in the code below and to see the result. We also calculate the accuracy compared to the ground truth labels to see whether clustering worked."
   ]
  },
  {
   "cell_type": "code",
   "execution_count": null,
   "metadata": {},
   "outputs": [],
   "source": [
    "# predict using k-means\n",
    "from sklearn.cluster import KMeans\n",
    "y_pred = KMeans(n_clusters=2).fit_predict(X2)\n",
    "\n",
    "# Calculate accuracy score\n",
    "from sklearn.metrics import accuracy_score\n",
    "print('Accuracy score: ', round(accuracy_score(y,y_pred),2))\n",
    "print('Accuracy score: ', round(accuracy_score(y,1-y_pred),2))\n",
    "\n",
    "# Plot\n",
    "def PlotData(X,y):\n",
    "    # plot\n",
    "    plt.plot(X[y==0,0],X[y==0,1],'bo',alpha=0.8, label = 'Cluster 1')\n",
    "    plt.plot(X[y==1,0],X[y==1,1],'r*',alpha=0.8, label = 'Cluster 2')\n",
    "    # annotate\n",
    "    plt.legend()\n",
    "    plt.xlabel('Component 1')\n",
    "    plt.ylabel('Component 2')\n",
    "    plt.title('Clustering result')\n",
    "\n",
    "# Plot reduced dataset\n",
    "PlotData(X2,y_pred)"
   ]
  },
  {
   "cell_type": "markdown",
   "metadata": {},
   "source": [
    "Now we would like to explore how Spectral clustering will deal with this dataset. In Scikit-learn, we can do that using object `SpectralClustering`. \n",
    "\n",
    "**Activity 1:** Run the code below. You will see, that as expected Spectral Clustering worked perfectly too. Experiment with the number of components `n_components` of the embedded space to see whether that changes the results. What is the minimum number that works?\n",
    "\n",
    "**Answer:** "
   ]
  },
  {
   "cell_type": "code",
   "execution_count": null,
   "metadata": {},
   "outputs": [],
   "source": [
    "# predict using spectral clustering\n",
    "from sklearn.cluster import SpectralClustering\n",
    "model = SpectralClustering(n_clusters=2, affinity = 'nearest_neighbors')\n",
    "y_pred = model.fit_predict(X)\n",
    "\n",
    "# Calculate accuracy score\n",
    "print('Accuracy score: ', round(accuracy_score(y,y_pred),2))\n",
    "print('Accuracy score: ', round(accuracy_score(y,1-y_pred),2))\n",
    "\n",
    "# Plot reduced dataset\n",
    "PlotData(X2,y_pred)"
   ]
  },
  {
   "cell_type": "markdown",
   "metadata": {},
   "source": [
    "In the code above we have used PCA to visualise the results of Spectral clustering in 2D representation of the feature space. We will now replace `PCA` with `SpectralEmbedding`. The cell below contains the parameters of the `SpectralClustering` model that we have just fitted. (If `n_components` is `None` then it is equal to `n_clusters`, check the default settings in help.)"
   ]
  },
  {
   "cell_type": "code",
   "execution_count": null,
   "metadata": {},
   "outputs": [],
   "source": [
    "print(model.n_clusters)\n",
    "print(model.n_components)\n",
    "print(model.affinity)\n",
    "print(model.n_neighbors)"
   ]
  },
  {
   "cell_type": "markdown",
   "metadata": {},
   "source": [
    "**Activity 2:** Create the spectral embedding with the same parameters as `SpectralClustering` in activity 1 and use it to visualise the clustering instead of the PCA. "
   ]
  },
  {
   "cell_type": "code",
   "execution_count": null,
   "metadata": {},
   "outputs": [],
   "source": [
    "# Calculate spectral embedding\n",
    "from sklearn.manifold import SpectralEmbedding\n",
    "\n",
    "# Create model\n",
    "model=None\n",
    "\n",
    "# Calculate embedded feature matrix\n",
    "Xe = None\n",
    "\n",
    "# Plot reduced dataset\n",
    "PlotData(Xe,y_pred)"
   ]
  },
  {
   "cell_type": "markdown",
   "metadata": {},
   "source": [
    "**Activity 3:** Fill in the code in the cell below to perform clustering in 3D embedded space. Print out three plots which\n",
    "* present the data in a 2D space reduced by `PCA`\n",
    "* colour-code the data by an embedded coordinate obtained using `SpectralClustering`."
   ]
  },
  {
   "cell_type": "code",
   "execution_count": null,
   "metadata": {},
   "outputs": [],
   "source": [
    "# Create 3D embedding\n",
    "model = None\n",
    "Xe = None\n",
    "\n",
    "# function for colorcoding data\n",
    "def PlotDataColourcoded(X,Xe,dim):\n",
    "    plt.scatter(X[:,0],X[:,1],c=Xe[:,dim])\n",
    "    plt.title('Colour-coded by coordinate {}'.format(dim), fontsize = 16)\n",
    "    plt.xlabel('PCA feature 1', fontsize = 14)\n",
    "    plt.ylabel('PCA feature 2', fontsize = 14)\n",
    "\n",
    "plt.figure(figsize=(14,4))\n",
    "for i in range(3):\n",
    "    plt.subplot(1,3,i+1)\n",
    "    PlotDataColourcoded(None,None,i);\n",
    "plt.tight_layout()"
   ]
  },
  {
   "cell_type": "markdown",
   "metadata": {},
   "source": [
    "<img src=\"pictures/brain1.png\" width = \"100\" style=\"float: right;\">\n",
    "\n",
    "# Exercise 4\n",
    "\n",
    "### Spectral clustering from precomputed matrices\n",
    "\n",
    "<img src=\"pictures/brain2.png\" width = \"100\" style=\"float: right;\"> \n",
    "\n",
    "In this exercise we will demonstrate how we can cluster MRI images of the babies scanned at 40 week GA. The images of 68 term and preterm babies were first co-aligned to the same reference space. After that cross-corelation between all pairs of images was calculated to measure their similarity. The matrix of similarities (also called **affinity matrix**) is available in the file 'babies.csv'.\n",
    "\n",
    "### Load the affinity matrix\n",
    "\n",
    "<img src=\"pictures/brain3.png\" width = \"100\" style=\"float: right;\"> \n",
    "\n",
    "Load the affinity matrix by running the cell bellow and inspect it. Which value is on the diagonal and why?\n",
    "\n",
    "**Answer:** "
   ]
  },
  {
   "cell_type": "code",
   "execution_count": null,
   "metadata": {},
   "outputs": [],
   "source": [
    "import pandas as pd\n",
    "\n",
    "# read the file\n",
    "df = pd.read_csv('datasets/babies.csv', header=None)\n",
    "\n",
    "# print the affinity matrix\n",
    "df"
   ]
  },
  {
   "cell_type": "markdown",
   "metadata": {},
   "source": [
    "Next we will convert to matrix from dataframe object to a numpy array. What is the dimension of this matrix and why?\n",
    "\n",
    "**Answer:** "
   ]
  },
  {
   "cell_type": "code",
   "execution_count": null,
   "metadata": {},
   "outputs": [],
   "source": [
    "# convert to numpy array\n",
    "NCC=df.to_numpy()\n",
    "\n",
    "# print the shape\n",
    "NCC.shape"
   ]
  },
  {
   "cell_type": "markdown",
   "metadata": {},
   "source": [
    "### Visualise the dataset \n",
    "\n",
    "**Task 4.1:** Visualise the dataset defined by the affinity matrix by performing these steps:\n",
    "* Calculate the `SpectralEmbedding` with 3 components and `precomputed` affinity matrix. Look in the help how to create the embedding model. \n",
    "* To fit the model, use the affinity matrix rather than the feature matrix in this case. \n",
    "* Once you have calculated the 3D feature matrix in the embedded space, plot the dataset in 2D using the first 2 embedded coordinates."
   ]
  },
  {
   "cell_type": "code",
   "execution_count": null,
   "metadata": {},
   "outputs": [],
   "source": [
    "# Create the embedding\n",
    "embedding = None\n",
    "\n",
    "# Fit the model using the affinity matrix and calculate the feature matrix in the 3D embedded space\n",
    "Xe = None\n",
    "\n",
    "# Plot the first two dimensions of the embedded space\n",
    "plt.plot(None,None,'bo', alpha = 0.8)\n",
    "\n",
    "# Annotate the plot\n",
    "plt.title('Spectral Embedding')\n",
    "plt.xlabel('Embedded component 1')\n",
    "plt.ylabel('Embedded component 2')"
   ]
  },
  {
   "cell_type": "markdown",
   "metadata": {},
   "source": [
    "### Perform spectral clustering\n",
    "\n",
    "**Task 4.2:** Perform spectral clustering by following these steps:\n",
    "* Create the `SpectralClustering` model with 3 components and 3 clusters\n",
    "* Fit the model using the precomputed affinity matrix and predict the labels\n",
    "* Complete the function `PlotData3` that plots the fitst two dimensions of the data with 3 clusters\n",
    "* Plot the clustering result"
   ]
  },
  {
   "cell_type": "code",
   "execution_count": null,
   "metadata": {},
   "outputs": [],
   "source": [
    "# Create spectral clustering model\n",
    "clustering = None\n",
    "\n",
    "# Fit and predict using the affinity matrix\n",
    "y_pred = None\n",
    "\n",
    "# Function for plotting data with three clusters\n",
    "def PlotData3(X,y):\n",
    "    # plot\n",
    "    plt.plot(None,None,'bo',alpha=0.8, label = 'Cluster 1')\n",
    "    plt.plot(None,None,'r*',alpha=0.8, label = 'Cluster 2')\n",
    "    plt.plot(None,None,'g^',alpha=0.8, label = 'Cluster 3')\n",
    "    # annotate\n",
    "    plt.legend()\n",
    "    plt.xlabel('Component 1')\n",
    "    plt.ylabel('Component 2')\n",
    "    plt.title('Clustering result')\n",
    "\n",
    "# Plot\n"
   ]
  },
  {
   "cell_type": "markdown",
   "metadata": {},
   "source": [
    "### Interpret the clusters\n",
    "\n",
    "**Task 4.3:** We will now load the file that stores the gestational age at birth for the 68 babies in our dataset. Your task is to plot the first two dimensions of the embedded dataset using `scatter` plot colour-coded by the GA at birth `ages`. Look at the code of the function `PlotDataColourcoded` above to see how we can do the colour-coding. How can you interpret the clusters?\n",
    "\n",
    "**Answer:** "
   ]
  },
  {
   "cell_type": "code",
   "execution_count": null,
   "metadata": {},
   "outputs": [],
   "source": [
    "# Load GA and convert to numpy\n",
    "df2 = pd.read_csv('datasets/ages.csv',header=None)\n",
    "ages = df2.to_numpy()\n",
    "\n",
    "# Scatterplot of the embedded space colour-coded by GA\n",
    "\n",
    "\n",
    "# annotate the plot\n",
    "plt.colorbar()\n",
    "plt.xlabel('embedded coordinate 1')\n",
    "plt.xlabel('embedded coordinate 2')\n",
    "plt.title('Embedding colorcoded by age')"
   ]
  }
 ],
 "metadata": {
  "kernelspec": {
   "display_name": "Python 3",
   "language": "python",
   "name": "python3"
  },
  "language_info": {
   "codemirror_mode": {
    "name": "ipython",
    "version": 3
   },
   "file_extension": ".py",
   "mimetype": "text/x-python",
   "name": "python",
   "nbconvert_exporter": "python",
   "pygments_lexer": "ipython3",
   "version": "3.8.3"
  }
 },
 "nbformat": 4,
 "nbformat_minor": 4
}
